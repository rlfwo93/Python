{
  "nbformat": 4,
  "nbformat_minor": 0,
  "metadata": {
    "colab": {
      "name": "ch3 total.ipynb",
      "provenance": [],
      "include_colab_link": true
    },
    "kernelspec": {
      "name": "python3",
      "display_name": "Python 3"
    }
  },
  "cells": [
    {
      "cell_type": "markdown",
      "metadata": {
        "id": "view-in-github",
        "colab_type": "text"
      },
      "source": [
        "<a href=\"https://colab.research.google.com/github/rlfwo93/Python/blob/master/ch3/ch3_total.ipynb\" target=\"_parent\"><img src=\"https://colab.research.google.com/assets/colab-badge.svg\" alt=\"Open In Colab\"/></a>"
      ]
    },
    {
      "cell_type": "markdown",
      "metadata": {
        "id": "Xj9N5FIHL7CU",
        "colab_type": "text"
      },
      "source": [
        "# ***if문은 어떻게 사용?***"
      ]
    },
    {
      "cell_type": "code",
      "metadata": {
        "id": "am7ac3zYMIsb",
        "colab_type": "code",
        "colab": {
          "base_uri": "https://localhost:8080/",
          "height": 35
        },
        "outputId": "41f1ec23-861b-43e0-ef6c-ae7baf33b00d"
      },
      "source": [
        "money = True\n",
        "if money:\n",
        "    print(\"택시를 타고 가라\")\n",
        "else:\n",
        "    print(\"걸어 가라\")\n",
        "    \n",
        "#택시를 타고 가라 출력"
      ],
      "execution_count": 2,
      "outputs": [
        {
          "output_type": "stream",
          "text": [
            "택시를 타고 가라\n"
          ],
          "name": "stdout"
        }
      ]
    },
    {
      "cell_type": "markdown",
      "metadata": {
        "id": "7NnET0nRMVtb",
        "colab_type": "text"
      },
      "source": [
        "# ***if문 기본구조***"
      ]
    },
    {
      "cell_type": "markdown",
      "metadata": {
        "id": "0pkoxRE2Ma_-",
        "colab_type": "text"
      },
      "source": [
        "'''\n",
        "if 조건문:\n",
        "    수행할 문장1\n",
        "    수행할 문장2\n",
        "    ...\n",
        "else:\n",
        "    수행할 문장A\n",
        "    수행할 문장B\n",
        "    ...\n",
        "'''"
      ]
    },
    {
      "cell_type": "markdown",
      "metadata": {
        "id": "m_yiLvc9MhZb",
        "colab_type": "text"
      },
      "source": [
        "# ***들여 쓰기 ex)1***"
      ]
    },
    {
      "cell_type": "code",
      "metadata": {
        "id": "Que9WUmyMnbL",
        "colab_type": "code",
        "colab": {
          "base_uri": "https://localhost:8080/",
          "height": 53
        },
        "outputId": "2fa44134-5455-4017-c482-c333da0c45d2"
      },
      "source": [
        "money = True\n",
        "if money:\n",
        "    print(\"택시를\")\n",
        "#print(\"타고\")  오류발생\n",
        "    print(\"가라\")\n",
        "  \n",
        "  \n",
        "#  \"타고\"부분에서 들여쓰기 오류가 발생한다."
      ],
      "execution_count": 4,
      "outputs": [
        {
          "output_type": "stream",
          "text": [
            "택시를\n",
            "가라\n"
          ],
          "name": "stdout"
        }
      ]
    },
    {
      "cell_type": "markdown",
      "metadata": {
        "id": "SpgPfxrdM2wr",
        "colab_type": "text"
      },
      "source": [
        "# ***들여 쓰기 ex)2***"
      ]
    },
    {
      "cell_type": "code",
      "metadata": {
        "id": "VwrQy-t6M4cj",
        "colab_type": "code",
        "colab": {
          "base_uri": "https://localhost:8080/",
          "height": 53
        },
        "outputId": "5ec43cc2-b4e9-4276-ba95-9b1c55c7ce48"
      },
      "source": [
        "money = True\n",
        "if money:\n",
        "    print(\"택시를\")\n",
        "    print(\"타고\")\n",
        "   #     print(\"가라\") 부분에서 오류가 발생함.\n",
        "  \n",
        "# \"가라\" 부분에서 들여쓰기 오류가 발생한다.\n",
        "# 조건문 다음에 콜론(:)을 잊지 말자!\n"
      ],
      "execution_count": 6,
      "outputs": [
        {
          "output_type": "stream",
          "text": [
            "택시를\n",
            "타고\n"
          ],
          "name": "stdout"
        }
      ]
    },
    {
      "cell_type": "markdown",
      "metadata": {
        "id": "Yw0qTQlJNSgM",
        "colab_type": "text"
      },
      "source": [
        "# ***파이썬의 비교연산자***"
      ]
    },
    {
      "cell_type": "code",
      "metadata": {
        "id": "HDqC5tSkNUxM",
        "colab_type": "code",
        "colab": {
          "base_uri": "https://localhost:8080/",
          "height": 89
        },
        "outputId": "3f53decb-aa41-4843-af88-2a144bc7352d"
      },
      "source": [
        "print(\"조건식: 비교연산자\")\n",
        "# 비교연산자(<, >, ==, !=, >=, <=)를 쓰는 방법\n",
        "x=3\n",
        "y=2\n",
        "x>y\n",
        "\n",
        "print(x<y) #fasle\n",
        "print(x==y) #false\n",
        "print(x!=y) # True\n"
      ],
      "execution_count": 8,
      "outputs": [
        {
          "output_type": "stream",
          "text": [
            "조건식: 비교연산자\n",
            "False\n",
            "False\n",
            "True\n"
          ],
          "name": "stdout"
        }
      ]
    },
    {
      "cell_type": "markdown",
      "metadata": {
        "id": "GuWE6TsUNiZL",
        "colab_type": "text"
      },
      "source": [
        "# ***조건식 만들기***"
      ]
    },
    {
      "cell_type": "code",
      "metadata": {
        "id": "UJI-swSNNkM7",
        "colab_type": "code",
        "colab": {
          "base_uri": "https://localhost:8080/",
          "height": 35
        },
        "outputId": "0c4e1447-1ac5-434f-aec8-e941a0a7713e"
      },
      "source": [
        "money = 2000\n",
        "if money >= 3000: # moeny가 3000원보다 크거나 같으면\n",
        "    print(\"택시를 타고 가라\")\n",
        "else:\n",
        "    print(\"걸어가라\")\n",
        "  \n",
        " # 걸어가라 출력됨."
      ],
      "execution_count": 9,
      "outputs": [
        {
          "output_type": "stream",
          "text": [
            "걸어가라\n"
          ],
          "name": "stdout"
        }
      ]
    },
    {
      "cell_type": "markdown",
      "metadata": {
        "id": "_R3LTeXvNxqE",
        "colab_type": "text"
      },
      "source": [
        "# ***복합 조건식***"
      ]
    },
    {
      "cell_type": "code",
      "metadata": {
        "id": "58tCFU4XN3SF",
        "colab_type": "code",
        "colab": {
          "base_uri": "https://localhost:8080/",
          "height": 35
        },
        "outputId": "4bad92f5-83a8-4706-fea9-3b54c378809f"
      },
      "source": [
        "#복합 조건식: or, and, not\n",
        "# 연산자\t설명\n",
        "# x or y  :\tx와 y 둘중에 하나만 참이면 참이다\n",
        "# x and y :\tx와 y 모두 참이어야 참이다\n",
        "# not x\t  : x가 거짓이면 참이다\n",
        "\n",
        "\n",
        "oney = 2000\n",
        "card = True\n",
        "if money >= 3000 or card:  # \"돈이 3000원 이상 있거나 카드가 있다면 택시를 타고 그렇지 않으면 걸어 가라.\"\n",
        "    print(\"택시를 타고 가라\")\n",
        "else:\n",
        "    print(\"걸어가라\")\n",
        "    \n",
        "    \n",
        "# 택시를 타고 가라  출력됨.\n"
      ],
      "execution_count": 10,
      "outputs": [
        {
          "output_type": "stream",
          "text": [
            "택시를 타고 가라\n"
          ],
          "name": "stdout"
        }
      ]
    },
    {
      "cell_type": "markdown",
      "metadata": {
        "id": "Ir4G8TVhOJaz",
        "colab_type": "text"
      },
      "source": [
        "# ***조건식 : in , not in***"
      ]
    },
    {
      "cell_type": "code",
      "metadata": {
        "id": "lm_wf1yAOORD",
        "colab_type": "code",
        "colab": {
          "base_uri": "https://localhost:8080/",
          "height": 89
        },
        "outputId": "6a0eb96f-34f4-4970-97e3-a65dd6f6d5ad"
      },
      "source": [
        "#   in\t          not in\n",
        "# x in 리스트\tx not in 리스트\n",
        "# x in 튜플\t    x not in 튜플\n",
        "# x in 문자열\tx not in 문자열\n",
        "\n",
        "\n",
        "print(1 in [1, 2, 3])  #TRUE 출력\n",
        "print(1 not in [1, 2, 3]) #False 출력\n",
        "# tuple\n",
        "print('a' in ('a', 'b', 'c')) #true 출력\n",
        "# string\n",
        "print('j' not in 'python') #true 출력"
      ],
      "execution_count": 12,
      "outputs": [
        {
          "output_type": "stream",
          "text": [
            "True\n",
            "False\n",
            "True\n",
            "True\n"
          ],
          "name": "stdout"
        }
      ]
    },
    {
      "cell_type": "markdown",
      "metadata": {
        "id": "xsmcdVHAOmje",
        "colab_type": "text"
      },
      "source": [
        "# ***in을 이용한 코드 ***"
      ]
    },
    {
      "cell_type": "code",
      "metadata": {
        "id": "-284wP1sOpll",
        "colab_type": "code",
        "colab": {
          "base_uri": "https://localhost:8080/",
          "height": 35
        },
        "outputId": "52f4093a-9d03-40ef-c019-5ac346a8df72"
      },
      "source": [
        "pocket = ['paper', 'cellphone', 'money']\n",
        "if 'money' in pocket:  #포켓안에 money 가 있으면 \n",
        "    print(\"택시를 타고 가라\")\n",
        "else:\n",
        "    print(\"걸어가라\")\n",
        "    \n",
        "#택시를 타고 가라 출력.\n"
      ],
      "execution_count": 13,
      "outputs": [
        {
          "output_type": "stream",
          "text": [
            "택시를 타고 가라\n"
          ],
          "name": "stdout"
        }
      ]
    },
    {
      "cell_type": "markdown",
      "metadata": {
        "id": "_OhiMsYGO8wm",
        "colab_type": "text"
      },
      "source": [
        "# ***조건식 pass***"
      ]
    },
    {
      "cell_type": "code",
      "metadata": {
        "id": "-zWqWb5JPBwM",
        "colab_type": "code",
        "colab": {
          "base_uri": "https://localhost:8080/",
          "height": 35
        },
        "outputId": "f060b173-c67c-4e0d-f1a2-de72c611de50"
      },
      "source": [
        "if 'money' in pocket:\n",
        "    print(\"택시를 타고 가라\")\n",
        "    pass  # 아무것도 실행안시킴.\n",
        "else:\n",
        "    print(\"걸어가라\")"
      ],
      "execution_count": 15,
      "outputs": [
        {
          "output_type": "stream",
          "text": [
            "택시를 타고 가라\n"
          ],
          "name": "stdout"
        }
      ]
    },
    {
      "cell_type": "markdown",
      "metadata": {
        "id": "TIFaNyAmPMRs",
        "colab_type": "text"
      },
      "source": [
        "# ***다중if***"
      ]
    },
    {
      "cell_type": "code",
      "metadata": {
        "id": "ssJ707VWPN1V",
        "colab_type": "code",
        "colab": {
          "base_uri": "https://localhost:8080/",
          "height": 35
        },
        "outputId": "314df53c-95ff-4b99-f0f2-3408a227ea72"
      },
      "source": [
        "\n",
        "# 다중 조건식: elif\n",
        "# 다양한 조건을 판단\n",
        "pocket = ['paper', 'handphone']\n",
        "card = True\n",
        "if 'money' in pocket:\n",
        "    print(\"택시를 타고가라\")\n",
        "elif card:\n",
        "    print(\"택시를 타고가라\")\n",
        "else:\n",
        "    print(\"걸어가라\")\n",
        "    \n",
        "#택시를 타고가라 출력."
      ],
      "execution_count": 16,
      "outputs": [
        {
          "output_type": "stream",
          "text": [
            "택시를 타고가라\n"
          ],
          "name": "stdout"
        }
      ]
    },
    {
      "cell_type": "markdown",
      "metadata": {
        "id": "o9e7S8uOPdOM",
        "colab_type": "text"
      },
      "source": [
        "# ***if문을 한줄로 사용하기***"
      ]
    },
    {
      "cell_type": "code",
      "metadata": {
        "id": "R-TYbzKlPgmU",
        "colab_type": "code",
        "colab": {
          "base_uri": "https://localhost:8080/",
          "height": 35
        },
        "outputId": "2963da65-06dc-476b-9fd2-9f1abceafe32"
      },
      "source": [
        "if 'money' in pocket: pass\n",
        "else: print(\"카드를 사용해라.\")\n",
        "\n",
        "  \n",
        "  #if일떄 pass이므로 아무것도 실행안함.\n",
        "  # 카드를 사용해라 출력."
      ],
      "execution_count": 17,
      "outputs": [
        {
          "output_type": "stream",
          "text": [
            "카드를 사용해라.\n"
          ],
          "name": "stdout"
        }
      ]
    },
    {
      "cell_type": "markdown",
      "metadata": {
        "id": "8i7aFKC5Poy0",
        "colab_type": "text"
      },
      "source": [
        "# ***if문 한줄 코드***"
      ]
    },
    {
      "cell_type": "code",
      "metadata": {
        "id": "9fTBtQ-3PsXM",
        "colab_type": "code",
        "colab": {
          "base_uri": "https://localhost:8080/",
          "height": 35
        },
        "outputId": "7cd0ee95-f63e-4ce4-8c81-1516a35dbf44"
      },
      "source": [
        "score=80\n",
        "message = \"success\" if score >= 60 else \"failure\"\n",
        "print(message)\n",
        "  #success가 출력됨."
      ],
      "execution_count": 19,
      "outputs": [
        {
          "output_type": "stream",
          "text": [
            "success\n"
          ],
          "name": "stdout"
        }
      ]
    },
    {
      "cell_type": "markdown",
      "metadata": {
        "id": "es5SKLlKQTEF",
        "colab_type": "text"
      },
      "source": [
        "# ***while문의 기본 구조 ***"
      ]
    },
    {
      "cell_type": "code",
      "metadata": {
        "id": "8_5f02v3QV58",
        "colab_type": "code",
        "colab": {}
      },
      "source": [
        "# '''\n",
        "# while <조건문>:\n",
        "#     <수행할 문장1>\n",
        "#     <수행할 문장2>\n",
        "#     <수행할 문장3>\n",
        "#     ...\n",
        "# '''"
      ],
      "execution_count": 0,
      "outputs": []
    },
    {
      "cell_type": "markdown",
      "metadata": {
        "id": "4P5aIiTsQZlN",
        "colab_type": "text"
      },
      "source": [
        "# ***while문 사용하기***"
      ]
    },
    {
      "cell_type": "code",
      "metadata": {
        "id": "q-AzdW2lQbZO",
        "colab_type": "code",
        "colab": {
          "base_uri": "https://localhost:8080/",
          "height": 215
        },
        "outputId": "764f33a9-eabd-4613-ee1d-cbbb02a0cb5e"
      },
      "source": [
        "# \"열 번 찍어 안 넘어가는 나무 없다\"는 속담을 파이썬 프로그램으로 반복 실행\n",
        "treeHit = 0\n",
        "while treeHit < 10:  #treehit가 9까지만 실행이됨.\n",
        "    treeHit = treeHit +1  # 실행될때마다 treehit+1\n",
        "    print(\"나무를 %d번 찍었습니다.\" % treeHit) # 계속 출력됨.\n",
        "    if treeHit == 10: #treehit가 10이랑 같으면 나무넘어간다  출력됨.\n",
        "        print(\"나무 넘어갑니다.\")\n",
        "        \n",
        "        \n",
        "# 나무를 1번 찍었습니다.\n",
        "# 나무를 2번 찍었습니다.\n",
        "# 나무를 3번 찍었습니다.\n",
        "# 나무를 4번 찍었습니다.\n",
        "# 나무를 5번 찍었습니다.\n",
        "# 나무를 6번 찍었습니다.\n",
        "# 나무를 7번 찍었습니다.\n",
        "# 나무를 8번 찍었습니다.\n",
        "# 나무를 9번 찍었습니다.\n",
        "# 나무를 10번 찍었습니다.\n",
        "# 나무 넘어갑니다.\n"
      ],
      "execution_count": 20,
      "outputs": [
        {
          "output_type": "stream",
          "text": [
            "나무를 1번 찍었습니다.\n",
            "나무를 2번 찍었습니다.\n",
            "나무를 3번 찍었습니다.\n",
            "나무를 4번 찍었습니다.\n",
            "나무를 5번 찍었습니다.\n",
            "나무를 6번 찍었습니다.\n",
            "나무를 7번 찍었습니다.\n",
            "나무를 8번 찍었습니다.\n",
            "나무를 9번 찍었습니다.\n",
            "나무를 10번 찍었습니다.\n",
            "나무 넘어갑니다.\n"
          ],
          "name": "stdout"
        }
      ]
    },
    {
      "cell_type": "markdown",
      "metadata": {
        "id": "NA9UPAN6RP1V",
        "colab_type": "text"
      },
      "source": [
        "# ***while문 만들기 ***"
      ]
    },
    {
      "cell_type": "code",
      "metadata": {
        "id": "FioF6GN-SWxX",
        "colab_type": "code",
        "colab": {
          "base_uri": "https://localhost:8080/",
          "height": 305
        },
        "outputId": "7e4716d1-56c1-488c-8d34-9376863b3311"
      },
      "source": [
        "prompt = \"\"\"\n",
        "1. Add\n",
        "2. Del\n",
        "3. List\n",
        "4. Quit\n",
        "\n",
        "Enter number: \"\"\"  #파이선에있는 독특한 문자열 선언법.\n",
        "\n",
        "number = 0\n",
        "while number != 4:\n",
        "  \n",
        "    print(prompt)\n",
        "    number = int(input())  # number에 int형으로 숫자를 입력해줌."
      ],
      "execution_count": 1,
      "outputs": [
        {
          "output_type": "stream",
          "text": [
            "\n",
            "1. Add\n",
            "2. Del\n",
            "3. List\n",
            "4. Quit\n",
            "\n",
            "Enter number: \n",
            "1\n",
            "\n",
            "1. Add\n",
            "2. Del\n",
            "3. List\n",
            "4. Quit\n",
            "\n",
            "Enter number: \n",
            "4\n"
          ],
          "name": "stdout"
        }
      ]
    },
    {
      "cell_type": "markdown",
      "metadata": {
        "id": "PmsF7ik-SPWv",
        "colab_type": "text"
      },
      "source": [
        "# ***파이썬 강제로 빠져나오기***"
      ]
    },
    {
      "cell_type": "code",
      "metadata": {
        "id": "otPFb30GSiju",
        "colab_type": "code",
        "colab": {
          "base_uri": "https://localhost:8080/",
          "height": 395
        },
        "outputId": "b058f5d7-1b54-4f24-f037-28890cf7c734"
      },
      "source": [
        "\n",
        "coffee = 10\n",
        "money = 300\n",
        "while money:\n",
        "    print(\"돈을 받았으니 커피를 줍니다.\")\n",
        "    coffee = coffee -1\n",
        "    print(\"남은 커피의 양은 %d개입니다.\" % coffee)\n",
        "    if coffee == 0: # 만약커피가==0이면 판매를중지합니다를 출력\n",
        "        print(\"커피가 다 떨어졌습니다. 판매를 중지합니다.\")\n",
        "        break #break 를 걸어서 강제로 빠져나오게함.\n",
        "        \n",
        "        \n",
        "# 돈을 받았으니 커피를 줍니다.\n",
        "# 남은 커피의 양은 9개입니다.\n",
        "# 돈을 받았으니 커피를 줍니다.\n",
        "# 남은 커피의 양은 8개입니다.\n",
        "# 돈을 받았으니 커피를 줍니다.\n",
        "# 남은 커피의 양은 7개입니다.\n",
        "# 돈을 받았으니 커피를 줍니다.\n",
        "# 남은 커피의 양은 6개입니다.\n",
        "# 돈을 받았으니 커피를 줍니다.\n",
        "# 남은 커피의 양은 5개입니다.\n",
        "# 돈을 받았으니 커피를 줍니다.\n",
        "# 남은 커피의 양은 4개입니다.\n",
        "# 돈을 받았으니 커피를 줍니다.\n",
        "# 남은 커피의 양은 3개입니다.\n",
        "# 돈을 받았으니 커피를 줍니다.\n",
        "# 남은 커피의 양은 2개입니다.\n",
        "# 돈을 받았으니 커피를 줍니다.\n",
        "# 남은 커피의 양은 1개입니다.\n",
        "# 돈을 받았으니 커피를 줍니다.\n",
        "# 남은 커피의 양은 0개입니다.\n",
        "# 커피가 다 떨어졌습니다. 판매를 중지합니다."
      ],
      "execution_count": 2,
      "outputs": [
        {
          "output_type": "stream",
          "text": [
            "돈을 받았으니 커피를 줍니다.\n",
            "남은 커피의 양은 9개입니다.\n",
            "돈을 받았으니 커피를 줍니다.\n",
            "남은 커피의 양은 8개입니다.\n",
            "돈을 받았으니 커피를 줍니다.\n",
            "남은 커피의 양은 7개입니다.\n",
            "돈을 받았으니 커피를 줍니다.\n",
            "남은 커피의 양은 6개입니다.\n",
            "돈을 받았으니 커피를 줍니다.\n",
            "남은 커피의 양은 5개입니다.\n",
            "돈을 받았으니 커피를 줍니다.\n",
            "남은 커피의 양은 4개입니다.\n",
            "돈을 받았으니 커피를 줍니다.\n",
            "남은 커피의 양은 3개입니다.\n",
            "돈을 받았으니 커피를 줍니다.\n",
            "남은 커피의 양은 2개입니다.\n",
            "돈을 받았으니 커피를 줍니다.\n",
            "남은 커피의 양은 1개입니다.\n",
            "돈을 받았으니 커피를 줍니다.\n",
            "남은 커피의 양은 0개입니다.\n",
            "커피가 다 떨어졌습니다. 판매를 중지합니다.\n"
          ],
          "name": "stdout"
        }
      ]
    },
    {
      "cell_type": "markdown",
      "metadata": {
        "id": "flVonn2mWK1Y",
        "colab_type": "text"
      },
      "source": [
        "# ***while문 코드***"
      ]
    },
    {
      "cell_type": "code",
      "metadata": {
        "id": "k2mqFkmDWOT3",
        "colab_type": "code",
        "colab": {
          "base_uri": "https://localhost:8080/",
          "height": 719
        },
        "outputId": "d07c145f-4daf-4207-e56d-aa61337865df"
      },
      "source": [
        "coffee = 10\n",
        "while True:\n",
        "    money = int(input(\"돈을 넣어 주세요: \")) #int형으로 숫자를 입력\n",
        "    if money == 300:  # money가 300인지 비교\n",
        "        print(\"커피를 줍니다.\")\n",
        "        coffee = coffee -1\n",
        "    elif money > 300: # money가 300보다 큰지비교\n",
        "        print(\"거스름돈 %d를 주고 커피를 줍니다.\" % (money -300))\n",
        "        coffee = coffee -1\n",
        "    else:\n",
        "        print(\"돈을 다시 돌려주고 커피를 주지 않습니다.\")\n",
        "        print(\"남은 커피의 양은 %d개 입니다.\" % coffee)\n",
        "    if coffee == 0: #커피가 0이면 break를 걸어줌\n",
        "        print(\"커피가 다 떨어졌습니다. 판매를 중지 합니다.\")\n",
        "        break\n",
        "        \n",
        "        \n",
        "        \n",
        "        \n",
        "# 돈을 넣어 주세요: 500\n",
        "# 거스름돈 200를 주고 커피를 줍니다.\n",
        "# 돈을 넣어 주세요: 300\n",
        "# 커피를 줍니다.\n",
        "# 돈을 넣어 주세요: 200\n",
        "# 돈을 다시 돌려주고 커피를 주지 않습니다.\n",
        "# 남은 커피의 양은 8개 입니다.\n",
        "# 돈을 넣어 주세요: 00\n",
        "# 돈을 다시 돌려주고 커피를 주지 않습니다.\n",
        "# 남은 커피의 양은 8개 입니다.\n",
        "# 돈을 넣어 주세요: 100\n",
        "# 돈을 다시 돌려주고 커피를 주지 않습니다.\n",
        "# 남은 커피의 양은 8개 입니다.\n",
        "# 돈을 넣어 주세요: 300\n",
        "# 커피를 줍니다.\n",
        "# 돈을 넣어 주세요: 400\n",
        "# 거스름돈 100를 주고 커피를 줍니다.\n",
        "# 돈을 넣어 주세요: 500\n",
        "# 거스름돈 200를 주고 커피를 줍니다.\n",
        "# 돈을 넣어 주세요: 600\n",
        "# 거스름돈 300를 주고 커피를 줍니다.\n",
        "# 돈을 넣어 주세요: 700\n",
        "# 거스름돈 400를 주고 커피를 줍니다.\n",
        "# 돈을 넣어 주세요: 100\n",
        "# 돈을 다시 돌려주고 커피를 주지 않습니다.\n",
        "# 남은 커피의 양은 3개 입니다.\n",
        "# 돈을 넣어 주세요: 300\n",
        "# 커피를 줍니다.\n",
        "# 돈을 넣어 주세요: 00\n",
        "# 돈을 다시 돌려주고 커피를 주지 않습니다.\n",
        "# 남은 커피의 양은 2개 입니다.\n",
        "# 돈을 넣어 주세요: 400\n",
        "# 거스름돈 100를 주고 커피를 줍니다.\n",
        "# 돈을 넣어 주세요: 200\n",
        "# 돈을 다시 돌려주고 커피를 주지 않습니다.\n",
        "# 남은 커피의 양은 1개 입니다.\n",
        "# 돈을 넣어 주세요: 500\n",
        "# 거스름돈 200를 주고 커피를 줍니다.\n",
        "# 커피가 다 떨어졌습니다. 판매를 중지 합니다."
      ],
      "execution_count": 3,
      "outputs": [
        {
          "output_type": "stream",
          "text": [
            "돈을 넣어 주세요: 500\n",
            "거스름돈 200를 주고 커피를 줍니다.\n",
            "돈을 넣어 주세요: 300\n",
            "커피를 줍니다.\n",
            "돈을 넣어 주세요: 200\n",
            "돈을 다시 돌려주고 커피를 주지 않습니다.\n",
            "남은 커피의 양은 8개 입니다.\n",
            "돈을 넣어 주세요: 00\n",
            "돈을 다시 돌려주고 커피를 주지 않습니다.\n",
            "남은 커피의 양은 8개 입니다.\n",
            "돈을 넣어 주세요: 100\n",
            "돈을 다시 돌려주고 커피를 주지 않습니다.\n",
            "남은 커피의 양은 8개 입니다.\n",
            "돈을 넣어 주세요: 300\n",
            "커피를 줍니다.\n",
            "돈을 넣어 주세요: 400\n",
            "거스름돈 100를 주고 커피를 줍니다.\n",
            "돈을 넣어 주세요: 500\n",
            "거스름돈 200를 주고 커피를 줍니다.\n",
            "돈을 넣어 주세요: 600\n",
            "거스름돈 300를 주고 커피를 줍니다.\n",
            "돈을 넣어 주세요: 700\n",
            "거스름돈 400를 주고 커피를 줍니다.\n",
            "돈을 넣어 주세요: 100\n",
            "돈을 다시 돌려주고 커피를 주지 않습니다.\n",
            "남은 커피의 양은 3개 입니다.\n",
            "돈을 넣어 주세요: 300\n",
            "커피를 줍니다.\n",
            "돈을 넣어 주세요: 00\n",
            "돈을 다시 돌려주고 커피를 주지 않습니다.\n",
            "남은 커피의 양은 2개 입니다.\n",
            "돈을 넣어 주세요: 400\n",
            "거스름돈 100를 주고 커피를 줍니다.\n",
            "돈을 넣어 주세요: 200\n",
            "돈을 다시 돌려주고 커피를 주지 않습니다.\n",
            "남은 커피의 양은 1개 입니다.\n",
            "돈을 넣어 주세요: 500\n",
            "거스름돈 200를 주고 커피를 줍니다.\n",
            "커피가 다 떨어졌습니다. 판매를 중지 합니다.\n"
          ],
          "name": "stdout"
        }
      ]
    },
    {
      "cell_type": "markdown",
      "metadata": {
        "id": "fwMoXSUaWnnK",
        "colab_type": "text"
      },
      "source": [
        "# ***contiue 사용하기***"
      ]
    },
    {
      "cell_type": "code",
      "metadata": {
        "id": "wWYnIRUKWufB",
        "colab_type": "code",
        "colab": {
          "base_uri": "https://localhost:8080/",
          "height": 125
        },
        "outputId": "4afcd62e-d789-433b-b752-aada5619f587"
      },
      "source": [
        "print(\"while문의 맨 처음으로 돌아가기: continue\")\n",
        "###################################\n",
        "# while문을 빠져나가지 않고 while문의 맨 처음(조건문)으로 \n",
        "# 다시 돌아가게 만들고 싶은 경우가 생기게 된다. \n",
        "# 이때 사용하는 것이 바로 continue문이다.\n",
        "#\n",
        "# 1부터 10까지의 숫자 중에서 홀수만 출력하는 것을 while문을 사용해서 작성\n",
        "#\n",
        "a = 0\n",
        "while a < 10:\n",
        "    a = a + 1\n",
        "    if a % 2 == 0: continue # 짝수일때 continue를 실행해서 밑에 있는 print문을 실행하지않고 위로 맨 위로 돌아감.\n",
        "    print(a)\n",
        "    \n",
        "    \n",
        "# 1\n",
        "# 3\n",
        "# 5\n",
        "# 7\n",
        "# 9"
      ],
      "execution_count": 4,
      "outputs": [
        {
          "output_type": "stream",
          "text": [
            "while문의 맨 처음으로 돌아가기: continue\n",
            "1\n",
            "3\n",
            "5\n",
            "7\n",
            "9\n"
          ],
          "name": "stdout"
        }
      ]
    },
    {
      "cell_type": "markdown",
      "metadata": {
        "id": "uDQB9lasW-Nn",
        "colab_type": "text"
      },
      "source": [
        "while문 무한루프"
      ]
    },
    {
      "cell_type": "code",
      "metadata": {
        "id": "au5sQw-vXBGY",
        "colab_type": "code",
        "colab": {}
      },
      "source": [
        "print(\"while문의 무한 루프\")\n",
        "###################################\n",
        "#\n",
        "\"\"\"\n",
        "while True: \n",
        "    수행할 문장1 \n",
        "    수행할 문장2\n",
        "    ...\n",
        "\"\"\"\n",
        "# 무한루프 코드의 예 (^C로 중지 !!!)\n",
        "while True:\n",
        "    print(\"Ctrl+C를 눌러야 while문을 빠져나갈 수 있습니다.\")"
      ],
      "execution_count": 0,
      "outputs": []
    },
    {
      "cell_type": "markdown",
      "metadata": {
        "id": "O3Cw8-YNXqlI",
        "colab_type": "text"
      },
      "source": [
        "# ***for문의 기본구조***"
      ]
    },
    {
      "cell_type": "code",
      "metadata": {
        "id": "LRfa944lXssw",
        "colab_type": "code",
        "colab": {
          "base_uri": "https://localhost:8080/",
          "height": 71
        },
        "outputId": "e3671f52-a5ba-4836-9d41-c6541aeaa226"
      },
      "source": [
        "# '''\n",
        "# for 변수 in 리스트(또는 튜플, 문자열):\n",
        "#     수행할 문장1\n",
        "#     수행할 문장2\n",
        "#     ...\n",
        "# '''\n",
        "test_list = ['one', 'two', 'three'] \n",
        "for i in test_list:  # test_list의 요소값을 하나씩 가져와서 i에 넣어줌.\n",
        "    print(i)\n",
        "# one\n",
        "# two\n",
        "# three"
      ],
      "execution_count": 5,
      "outputs": [
        {
          "output_type": "stream",
          "text": [
            "one\n",
            "two\n",
            "three\n"
          ],
          "name": "stdout"
        }
      ]
    },
    {
      "cell_type": "markdown",
      "metadata": {
        "id": "apYXlMnRX9Ug",
        "colab_type": "text"
      },
      "source": [
        "# ***다양한 for문의 사용***"
      ]
    },
    {
      "cell_type": "code",
      "metadata": {
        "id": "Dzs-ccQfYAd4",
        "colab_type": "code",
        "colab": {
          "base_uri": "https://localhost:8080/",
          "height": 71
        },
        "outputId": "9916b5ec-6b39-4096-dda0-7beeb1608656"
      },
      "source": [
        "\n",
        "a = [(1,2), (3,4), (5,6)]\n",
        "\n",
        "for (first, last) in a: # first 와 last에 두개의 값을 넣어준다.\n",
        "    print(first + last)\n",
        "    \n",
        "    \n",
        "    \n",
        "# 3\n",
        "# 7\n",
        "# 11"
      ],
      "execution_count": 6,
      "outputs": [
        {
          "output_type": "stream",
          "text": [
            "3\n",
            "7\n",
            "11\n"
          ],
          "name": "stdout"
        }
      ]
    },
    {
      "cell_type": "markdown",
      "metadata": {
        "id": "y-bjMCpkYS1w",
        "colab_type": "text"
      },
      "source": [
        "# ***for문 응용하기***"
      ]
    },
    {
      "cell_type": "code",
      "metadata": {
        "id": "knyIxTqEYY_Y",
        "colab_type": "code",
        "colab": {
          "base_uri": "https://localhost:8080/",
          "height": 107
        },
        "outputId": "657dc57a-7428-45de-9e3f-576603c256ef"
      },
      "source": [
        "marks = [90, 25, 67, 45, 80]\n",
        "\n",
        "number = 0 \n",
        "for mark in marks:   #mark에 marks의 값을 하나씩 넣어줌.\n",
        "    number = number +1 \n",
        "    if mark >= 60: # mark가 60보다 크거나 같은지 비교하고 비교한결과에 따라 출력\n",
        "        print(\"%d번 학생은 합격입니다.\" % number)\n",
        "    else: \n",
        "        print(\"%d번 학생은 불합격입니다.\" % number)\n",
        "    \n",
        "\n",
        "# 1번 학생은 합격입니다.\n",
        "# 2번 학생은 불합격입니다.\n",
        "# 3번 학생은 합격입니다.\n",
        "# 4번 학생은 불합격입니다.\n",
        "# 5번 학생은 합격입니다.\n"
      ],
      "execution_count": 7,
      "outputs": [
        {
          "output_type": "stream",
          "text": [
            "1번 학생은 합격입니다.\n",
            "2번 학생은 불합격입니다.\n",
            "3번 학생은 합격입니다.\n",
            "4번 학생은 불합격입니다.\n",
            "5번 학생은 합격입니다.\n"
          ],
          "name": "stdout"
        }
      ]
    },
    {
      "cell_type": "markdown",
      "metadata": {
        "id": "OM4BIgsAZbuD",
        "colab_type": "text"
      },
      "source": [
        "# ***for문과 continue***"
      ]
    },
    {
      "cell_type": "code",
      "metadata": {
        "id": "chmNfql0ZffB",
        "colab_type": "code",
        "colab": {
          "base_uri": "https://localhost:8080/",
          "height": 71
        },
        "outputId": "e9a1ac60-8365-4fd0-88df-e5bba06111f3"
      },
      "source": [
        "marks = [90, 25, 67, 45, 80]\n",
        "\n",
        "number = 0 \n",
        "for mark in marks: \n",
        "    number = number +1 \n",
        "    if mark < 60: #mark 점수가 60보다 작으면 continue가 실행되어서 밑에있는 코드는 건너뛰고 맨위로 올라가서 실행됨.\n",
        "        continue \n",
        "    print(\"%d번 학생 축하합니다. 합격입니다. \" % number)\n",
        "\n",
        "    \n",
        "    \n",
        "# 1번 학생 축하합니다. 합격입니다. \n",
        "# 3번 학생 축하합니다. 합격입니다. \n",
        "# 5번 학생 축하합니다. 합격입니다. "
      ],
      "execution_count": 8,
      "outputs": [
        {
          "output_type": "stream",
          "text": [
            "1번 학생 축하합니다. 합격입니다. \n",
            "3번 학생 축하합니다. 합격입니다. \n",
            "5번 학생 축하합니다. 합격입니다. \n"
          ],
          "name": "stdout"
        }
      ]
    },
    {
      "cell_type": "markdown",
      "metadata": {
        "id": "rxhZoU4ZZ6p6",
        "colab_type": "text"
      },
      "source": [
        "# ***for문과 자주쓰는 range함수***"
      ]
    },
    {
      "cell_type": "code",
      "metadata": {
        "id": "LfpVRC51aBL5",
        "colab_type": "code",
        "colab": {
          "base_uri": "https://localhost:8080/",
          "height": 71
        },
        "outputId": "9c78df99-7c50-4fdc-9c5c-20a3796eaafd"
      },
      "source": [
        "a = range(10)\n",
        "print(a) # range(0, 10) 출력\n",
        "print(type(a)) # <class 'range'> 출력\n",
        "print(list(a)) # [0, 1, 2, 3, 4, 5, 6, 7, 8, 9] 출력\n",
        "\n",
        "# 리스트로 만들어서 출력을해야 무슨값이 들어갔는지 정확히 할수있다.\n"
      ],
      "execution_count": 11,
      "outputs": [
        {
          "output_type": "stream",
          "text": [
            "range(0, 10)\n",
            "<class 'range'>\n",
            "[0, 1, 2, 3, 4, 5, 6, 7, 8, 9]\n"
          ],
          "name": "stdout"
        }
      ]
    },
    {
      "cell_type": "markdown",
      "metadata": {
        "id": "06CURB7qa5ah",
        "colab_type": "text"
      },
      "source": [
        "# ***range함수 사용하기***"
      ]
    },
    {
      "cell_type": "code",
      "metadata": {
        "id": "9degRPi5a7NZ",
        "colab_type": "code",
        "colab": {
          "base_uri": "https://localhost:8080/",
          "height": 197
        },
        "outputId": "beb56cf8-e054-4bf8-cd77-d894a5931c7a"
      },
      "source": [
        "add = 0 \n",
        "for i in range(1, 11):  #1부터 11까지 1씩 증가시킨다.\n",
        "    add = add + i\n",
        "    print(add)\n",
        "    \n",
        "# 1\n",
        "# 3\n",
        "# 6\n",
        "# 10\n",
        "# 15\n",
        "# 21\n",
        "# 28\n",
        "# 36\n",
        "# 45\n",
        "# 55"
      ],
      "execution_count": 13,
      "outputs": [
        {
          "output_type": "stream",
          "text": [
            "1\n",
            "3\n",
            "6\n",
            "10\n",
            "15\n",
            "21\n",
            "28\n",
            "36\n",
            "45\n",
            "55\n"
          ],
          "name": "stdout"
        }
      ]
    },
    {
      "cell_type": "markdown",
      "metadata": {
        "id": "Cxb_VIBWbmfS",
        "colab_type": "text"
      },
      "source": [
        "# ***Range함수 응용***"
      ]
    },
    {
      "cell_type": "code",
      "metadata": {
        "id": "U01gRz10bofj",
        "colab_type": "code",
        "colab": {
          "base_uri": "https://localhost:8080/",
          "height": 71
        },
        "outputId": "d8b4f3cc-64d8-4c53-8135-6a39ab8549b8"
      },
      "source": [
        "marks = [90, 25, 67, 45, 80]\n",
        "for number in range(len(marks)): #len함수를 사용해서 mark의 길이를 가져옴.\n",
        "    if marks[number] < 60:  #marks 의값이 60보다 큰지 비교\n",
        "        continue\n",
        "    print(\"%d번 학생 축하합니다. 합격입니다.\" % (number+1))\n",
        "    \n",
        "    \n",
        "    \n",
        "# 1번 학생 축하합니다. 합격입니다.\n",
        "# 3번 학생 축하합니다. 합격입니다.\n",
        "# 5번 학생 축하합니다. 합격입니다.\n"
      ],
      "execution_count": 14,
      "outputs": [
        {
          "output_type": "stream",
          "text": [
            "1번 학생 축하합니다. 합격입니다.\n",
            "3번 학생 축하합니다. 합격입니다.\n",
            "5번 학생 축하합니다. 합격입니다.\n"
          ],
          "name": "stdout"
        }
      ]
    },
    {
      "cell_type": "markdown",
      "metadata": {
        "id": "kWoMiSLcb_cJ",
        "colab_type": "text"
      },
      "source": [
        "# ***이중for문***"
      ]
    },
    {
      "cell_type": "code",
      "metadata": {
        "id": "bONg4oOmcBpB",
        "colab_type": "code",
        "colab": {
          "base_uri": "https://localhost:8080/",
          "height": 161
        },
        "outputId": "4b555b96-5fa8-4b47-a2ed-f9a53808d431"
      },
      "source": [
        "for i in range(2,10):         # ①번 for문 (i-loop)\n",
        "     for j in range(1, 10):   # ②번 for문 (j-loop)\n",
        "         print(i,\"x\",j,\"=\",i*j ,end=\" \") # end=\" \" 줄바꿈을 하지말고 공백을 추가해라.\n",
        "     print('')   # 줄 바꿈\n",
        "    \n",
        "\n",
        "# 2 x 1 = 2 2 x 2 = 4 2 x 3 = 6 2 x 4 = 8 2 x 5 = 10 2 x 6 = 12 2 x 7 = 14 2 x 8 = 16 2 x 9 = 18 \n",
        "# 3 x 1 = 3 3 x 2 = 6 3 x 3 = 9 3 x 4 = 12 3 x 5 = 15 3 x 6 = 18 3 x 7 = 21 3 x 8 = 24 3 x 9 = 27 \n",
        "# 4 x 1 = 4 4 x 2 = 8 4 x 3 = 12 4 x 4 = 16 4 x 5 = 20 4 x 6 = 24 4 x 7 = 28 4 x 8 = 32 4 x 9 = 36 \n",
        "# 5 x 1 = 5 5 x 2 = 10 5 x 3 = 15 5 x 4 = 20 5 x 5 = 25 5 x 6 = 30 5 x 7 = 35 5 x 8 = 40 5 x 9 = 45 \n",
        "# 6 x 1 = 6 6 x 2 = 12 6 x 3 = 18 6 x 4 = 24 6 x 5 = 30 6 x 6 = 36 6 x 7 = 42 6 x 8 = 48 6 x 9 = 54 \n",
        "# 7 x 1 = 7 7 x 2 = 14 7 x 3 = 21 7 x 4 = 28 7 x 5 = 35 7 x 6 = 42 7 x 7 = 49 7 x 8 = 56 7 x 9 = 63 \n",
        "# 8 x 1 = 8 8 x 2 = 16 8 x 3 = 24 8 x 4 = 32 8 x 5 = 40 8 x 6 = 48 8 x 7 = 56 8 x 8 = 64 8 x 9 = 72 \n",
        "# 9 x 1 = 9 9 x 2 = 18 9 x 3 = 27 9 x 4 = 36 9 x 5 = 45 9 x 6 = 54 9 x 7 = 63 9 x 8 = 72 9 x 9 = 81 "
      ],
      "execution_count": 18,
      "outputs": [
        {
          "output_type": "stream",
          "text": [
            "2 x 1 = 2 2 x 2 = 4 2 x 3 = 6 2 x 4 = 8 2 x 5 = 10 2 x 6 = 12 2 x 7 = 14 2 x 8 = 16 2 x 9 = 18 \n",
            "3 x 1 = 3 3 x 2 = 6 3 x 3 = 9 3 x 4 = 12 3 x 5 = 15 3 x 6 = 18 3 x 7 = 21 3 x 8 = 24 3 x 9 = 27 \n",
            "4 x 1 = 4 4 x 2 = 8 4 x 3 = 12 4 x 4 = 16 4 x 5 = 20 4 x 6 = 24 4 x 7 = 28 4 x 8 = 32 4 x 9 = 36 \n",
            "5 x 1 = 5 5 x 2 = 10 5 x 3 = 15 5 x 4 = 20 5 x 5 = 25 5 x 6 = 30 5 x 7 = 35 5 x 8 = 40 5 x 9 = 45 \n",
            "6 x 1 = 6 6 x 2 = 12 6 x 3 = 18 6 x 4 = 24 6 x 5 = 30 6 x 6 = 36 6 x 7 = 42 6 x 8 = 48 6 x 9 = 54 \n",
            "7 x 1 = 7 7 x 2 = 14 7 x 3 = 21 7 x 4 = 28 7 x 5 = 35 7 x 6 = 42 7 x 7 = 49 7 x 8 = 56 7 x 9 = 63 \n",
            "8 x 1 = 8 8 x 2 = 16 8 x 3 = 24 8 x 4 = 32 8 x 5 = 40 8 x 6 = 48 8 x 7 = 56 8 x 8 = 64 8 x 9 = 72 \n",
            "9 x 1 = 9 9 x 2 = 18 9 x 3 = 27 9 x 4 = 36 9 x 5 = 45 9 x 6 = 54 9 x 7 = 63 9 x 8 = 72 9 x 9 = 81 \n"
          ],
          "name": "stdout"
        }
      ]
    },
    {
      "cell_type": "markdown",
      "metadata": {
        "id": "LL6WnBesc3_q",
        "colab_type": "text"
      },
      "source": [
        "# ***for문에 리스트 내포***"
      ]
    },
    {
      "cell_type": "code",
      "metadata": {
        "id": "wWXiSOn-c8F0",
        "colab_type": "code",
        "colab": {
          "base_uri": "https://localhost:8080/",
          "height": 73
        },
        "outputId": "18d56994-06c2-4c00-dc25-b9f30984bcc6"
      },
      "source": [
        "a = [1,2,3,4]\n",
        "result = [num*3 for num in a] #result 배열에 a에있는 1부터 num에 집어넣고 num*3을 result 배열에 넣음.\n",
        "print(result) # [3, 6, 9, 12]\n",
        "\n",
        "result1 = [x*y for x in range(2,10) for y in range(1,10)] # x는 2부터 10까지 증가하고 y는 1부터10까지 증가해서 x*y의값을 resutl1에 넣음\n",
        "print(result1)\n",
        "# [2, 4, 6, 8, 10, 12, 14, 16, 18, 3, 6, 9, 12, 15, 18, 21, 24, 27, 4, 8, 12, 16, 20, 24, 28, 32, 36, 5, 10, 15, 20, 25, 30, 35, 40, 45, 6, 12, 18, 24, 30, 36, 42, 48, 54, 7, 14, 21, 28, 35, 42, 49, 56, 63, 8, 16, 24, 32, 40, 48, 56, 64, 72, 9, 18, 27, 36, 45, 54, 63, 72, 81]"
      ],
      "execution_count": 21,
      "outputs": [
        {
          "output_type": "stream",
          "text": [
            "[3, 6, 9, 12]\n",
            "[2, 4, 6, 8, 10, 12, 14, 16, 18, 3, 6, 9, 12, 15, 18, 21, 24, 27, 4, 8, 12, 16, 20, 24, 28, 32, 36, 5, 10, 15, 20, 25, 30, 35, 40, 45, 6, 12, 18, 24, 30, 36, 42, 48, 54, 7, 14, 21, 28, 35, 42, 49, 56, 63, 8, 16, 24, 32, 40, 48, 56, 64, 72, 9, 18, 27, 36, 45, 54, 63, 72, 81]\n"
          ],
          "name": "stdout"
        }
      ]
    },
    {
      "cell_type": "markdown",
      "metadata": {
        "id": "9trI3eVFefFE",
        "colab_type": "text"
      },
      "source": [
        "# ***for문에 리스트 내포 2***"
      ]
    },
    {
      "cell_type": "code",
      "metadata": {
        "id": "fOFH7RiWejB0",
        "colab_type": "code",
        "colab": {
          "base_uri": "https://localhost:8080/",
          "height": 53
        },
        "outputId": "f61516b4-cba7-48ad-dec3-77548ad2ec62"
      },
      "source": [
        "x = [1, 2, 3, 4, 5, 6, 7, 8, 9]  # -> [1, 4, 3, 8, 5, 12, 7, 16, 9]\n",
        "# 짝수만 추출하여 2배로 만든 리스트 구성\n",
        "list1=[element * 2 for element in x if element % 2 == 0] # x의 값을 element에 담고 만약 엘레멘트가 짝수이면 element*2의 값을 배열에 넣어줌.\n",
        "print(list1) #[4, 8, 12, 16]\n",
        "[\n",
        "\n",
        "# 그러면 짝수는 2배로, 홀수는 그대로 리스트에 담는 코드는?\n",
        "\n",
        "list2=[(element * 2 if element % 2 == 0 else element) for element in x] # element가 짝수이면 element*2의 값을 넣어주고, 아니면 그냥 요소 값을 넣어줌 .\n",
        "print(list2) # [1, 4, 3, 8, 5, 12, 7, 16, 9]"
      ],
      "execution_count": 24,
      "outputs": [
        {
          "output_type": "stream",
          "text": [
            "[4, 8, 12, 16]\n",
            "[1, 4, 3, 8, 5, 12, 7, 16, 9]\n"
          ],
          "name": "stdout"
        }
      ]
    },
    {
      "cell_type": "markdown",
      "metadata": {
        "id": "5oyuRwPthyNt",
        "colab_type": "text"
      },
      "source": [
        "# ***다양한 for문 함수 및 사용하기***"
      ]
    },
    {
      "cell_type": "code",
      "metadata": {
        "id": "y3l_GQYch0oX",
        "colab_type": "code",
        "colab": {
          "base_uri": "https://localhost:8080/",
          "height": 197
        },
        "outputId": "52ed1084-61ee-485b-c558-93264bcfd898"
      },
      "source": [
        "subjects = ['python', 'english', 'math', 'science']\n",
        "scores = [88, 77, 66, 95]\n",
        "#\n",
        "print(\"과목명 출력\")\n",
        "for subject in subjects:\n",
        "    print(subject)\n",
        "# python\n",
        "# english\n",
        "# math\n",
        "# science\n",
        "\n",
        "\n",
        "#\n",
        "print(\"과목 점수 출력\")\n",
        "for score in scores:\n",
        "    print(score)\n",
        "    \n",
        "# \n"
      ],
      "execution_count": 25,
      "outputs": [
        {
          "output_type": "stream",
          "text": [
            "과목명 출력\n",
            "python\n",
            "english\n",
            "math\n",
            "science\n",
            "과목 점수 출력\n",
            "88\n",
            "77\n",
            "66\n",
            "95\n"
          ],
          "name": "stdout"
        }
      ]
    },
    {
      "cell_type": "markdown",
      "metadata": {
        "id": "7nFiTyT6iBk1",
        "colab_type": "text"
      },
      "source": [
        "# ***enumerate함수 사용하기***"
      ]
    },
    {
      "cell_type": "code",
      "metadata": {
        "id": "Rnf5yU5NiDVc",
        "colab_type": "code",
        "colab": {
          "base_uri": "https://localhost:8080/",
          "height": 161
        },
        "outputId": "5e0ed24a-f1c9-474a-a36f-6da40306797a"
      },
      "source": [
        "# enumerate는 인덱스와 벨류값을 튜플형식으로 출력해줌,\n",
        "\n",
        "for position, subject in enumerate(subjects):  # 인덱스와 벨류값을 다 출력\n",
        "    print(position,subject)\n",
        "\n",
        "    \n",
        "# 0 python\n",
        "# 1 english\n",
        "# 2 math\n",
        "# 3 science\n",
        "\n",
        "\n",
        "for position, subject in enumerate(subjects):  # 인덱스로 리스트 값을 출력\n",
        "    print(subjects[position])\n",
        "    \n",
        "# python\n",
        "# english\n",
        "# math\n",
        "# science"
      ],
      "execution_count": 27,
      "outputs": [
        {
          "output_type": "stream",
          "text": [
            "0 python\n",
            "1 english\n",
            "2 math\n",
            "3 science\n",
            "python\n",
            "english\n",
            "math\n",
            "science\n"
          ],
          "name": "stdout"
        }
      ]
    },
    {
      "cell_type": "markdown",
      "metadata": {
        "id": "5X-mNgJQi6lG",
        "colab_type": "text"
      },
      "source": [
        "# ***enumerate()를 이용하여 점수를 출력해보시오.***\n"
      ]
    },
    {
      "cell_type": "code",
      "metadata": {
        "id": "n2qKQ0DGi8Ul",
        "colab_type": "code",
        "colab": {
          "base_uri": "https://localhost:8080/",
          "height": 89
        },
        "outputId": "419b1f39-3229-4107-828a-3d591272112a"
      },
      "source": [
        "subjects = ['python', 'english', 'math', 'science']\n",
        "scores = [88, 77, 66, 95]\n",
        "\n",
        "for idx , value in enumerate(scores): # 인덱스를 가지고와 리스트를 출력\n",
        "  print(scores[idx])\n",
        "\n",
        "\n",
        "# 88\n",
        "# 77\n",
        "# 66\n",
        "# 95"
      ],
      "execution_count": 35,
      "outputs": [
        {
          "output_type": "stream",
          "text": [
            "88\n",
            "77\n",
            "66\n",
            "95\n"
          ],
          "name": "stdout"
        }
      ]
    },
    {
      "cell_type": "markdown",
      "metadata": {
        "id": "h8EciND-kkR-",
        "colab_type": "text"
      },
      "source": [
        "# ***for 문과 itrator의 응용: 복합 문자열 리스트***\n",
        "# ***method 1***"
      ]
    },
    {
      "cell_type": "code",
      "metadata": {
        "id": "Q9cREkSHkwB-",
        "colab_type": "code",
        "colab": {
          "base_uri": "https://localhost:8080/",
          "height": 269
        },
        "outputId": "08dd10b0-2b5c-43b0-d792-f534cd9c4eba"
      },
      "source": [
        "subjects = ['python', 'english', 'math', 'science']\n",
        "scores = [88, 77, 66, 95]\n",
        "# Method-1\n",
        "for position in range(len(subjects)):\n",
        "    subject = subjects[position]\n",
        "    score = scores[position]\n",
        "    print(subject, score)\n",
        "    \n",
        "# python 88\n",
        "# english 77\n",
        "# math 66\n",
        "# science 95\n",
        "\n",
        "print(\"----------------------------------------------------------------------\")\n",
        "\n",
        "\n",
        "# Method-2\n",
        "for position, subject in enumerate(subjects):\n",
        "    score = scores[position] #socre 은 socres인덱스 요소값으로 저장.\n",
        "    print(subject, score) #벨류 값인 서브젝트와 인덱스로 초기화시킨 score 값이나옴\n",
        "    \n",
        "    \n",
        "\n",
        "    \n",
        "print(\"----------------------------------------------------------------------\")\n",
        "\n",
        "\n",
        "# Method-3\n",
        "\n",
        "for subject, score in zip(subjects, scores):\n",
        "  #zip은 튜플형식으로 값을 묶어서 돌려줌.\n",
        "    print(subject, score)\n"
      ],
      "execution_count": 42,
      "outputs": [
        {
          "output_type": "stream",
          "text": [
            "python 88\n",
            "english 77\n",
            "math 66\n",
            "science 95\n",
            "----------------------------------------------------------------------\n",
            "python 88\n",
            "english 77\n",
            "math 66\n",
            "science 95\n",
            "----------------------------------------------------------------------\n",
            "python 88\n",
            "english 77\n",
            "math 66\n",
            "science 95\n"
          ],
          "name": "stdout"
        }
      ]
    },
    {
      "cell_type": "markdown",
      "metadata": {
        "id": "vChwm6drl5e5",
        "colab_type": "text"
      },
      "source": [
        "# ***평균값을 구해라***"
      ]
    },
    {
      "cell_type": "code",
      "metadata": {
        "id": "NTR6ydYTl7eJ",
        "colab_type": "code",
        "colab": {
          "base_uri": "https://localhost:8080/",
          "height": 107
        },
        "outputId": "d762264a-0ed0-460e-ec9b-7e4caa6b88ab"
      },
      "source": [
        "average = 0\n",
        "total = 0\n",
        "for subject, score in zip(subjects, scores):\n",
        "    total += score # total에는 score을 계속 더해줌,\n",
        "    print(subject, score)\n",
        "\n",
        "print(\"평균 점수 = {0}\".format(total/len(subjects))) # 포멧팅으로 출력함.\n",
        "\n",
        "\n",
        "\n",
        "# python 88\n",
        "# english 77\n",
        "# math 66\n",
        "# science 95\n",
        "# 평균 점수 = 81.5"
      ],
      "execution_count": 43,
      "outputs": [
        {
          "output_type": "stream",
          "text": [
            "python 88\n",
            "english 77\n",
            "math 66\n",
            "science 95\n",
            "평균 점수 = 81.5\n"
          ],
          "name": "stdout"
        }
      ]
    },
    {
      "cell_type": "markdown",
      "metadata": {
        "id": "nnF_aF3wk9GV",
        "colab_type": "text"
      },
      "source": [
        ""
      ]
    }
  ]
}