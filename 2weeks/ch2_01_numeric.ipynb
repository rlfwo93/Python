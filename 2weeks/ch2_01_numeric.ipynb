{
  "nbformat": 4,
  "nbformat_minor": 0,
  "metadata": {
    "colab": {
      "name": "ch2_01_numeric.ipynb",
      "provenance": [],
      "include_colab_link": true
    },
    "kernelspec": {
      "name": "python3",
      "display_name": "Python 3"
    }
  },
  "cells": [
    {
      "cell_type": "markdown",
      "metadata": {
        "id": "view-in-github",
        "colab_type": "text"
      },
      "source": [
        "<a href=\"https://colab.research.google.com/github/rlfwo93/Python/blob/master/2weeks/ch2_01_numeric.ipynb\" target=\"_parent\"><img src=\"https://colab.research.google.com/assets/colab-badge.svg\" alt=\"Open In Colab\"/></a>"
      ]
    },
    {
      "cell_type": "markdown",
      "metadata": {
        "id": "1njNI3fYmHQV",
        "colab_type": "text"
      },
      "source": [
        "# **파이썬 데이터 정수형**"
      ]
    },
    {
      "cell_type": "code",
      "metadata": {
        "id": "JohuMdy2mB31",
        "colab_type": "code",
        "colab": {
          "base_uri": "https://localhost:8080/",
          "height": 107
        },
        "outputId": "4d069a55-f941-4d28-82a6-ae2d3d6503f0"
      },
      "source": [
        "# ch2_01_numeric.py\n",
        "print(\"파이썬의 변수는 불변.\")\n",
        "print(\"숫자형: 정수\")\n",
        "a = 123\n",
        "print(\"a={0}\".format(a))\n",
        "a = 0\n",
        "print(\"a={0}\".format(a))\n",
        "a = 178\n",
        "print(\"a={0}\".format(a))\n",
        "\n"
      ],
      "execution_count": 43,
      "outputs": [
        {
          "output_type": "stream",
          "text": [
            "파이썬의 변수는 불변.\n",
            "숫자형: 정수\n",
            "a=123\n",
            "a=0\n",
            "a=178\n"
          ],
          "name": "stdout"
        }
      ]
    },
    {
      "cell_type": "markdown",
      "metadata": {
        "id": "wTD_1WrKmso1",
        "colab_type": "text"
      },
      "source": [
        "# ***파이썬 데이터 실수형***"
      ]
    },
    {
      "cell_type": "code",
      "metadata": {
        "id": "jV4xHQ7Fm5yF",
        "colab_type": "code",
        "colab": {
          "base_uri": "https://localhost:8080/",
          "height": 251
        },
        "outputId": "dac09cc6-c6c2-4bf8-f1c0-d978570fb548"
      },
      "source": [
        "print(\"파이썬은 8진수와 6진수를 이용하여 표현할수있음\")\n",
        "print(\"=\"*30)\n",
        "print(\" 실수\")\n",
        "a  = 1.2\n",
        "print(\"a={0}\".format(a))\n",
        "b = -3.48\n",
        "print(\"b={0}\".format(b))\n",
        "c = 4.24e10\n",
        "print(\"c={0}\".format(c))\n",
        "d = 4.24e-10\n",
        "print(\"d={0}\".format(d))\n",
        "print(\"=\"*30)\n",
        "print(\" 8진수와 16진수\")\n",
        "\n",
        "a = 0o177\n",
        "print(\"a={0}\".format(a))\n",
        "a = 0x8FF\n",
        "print(\"a={0}\".format(a))\n",
        "a = 0xABC\n",
        "print(\"a={0}\".format(a))\n",
        "print(\"=\"*30)"
      ],
      "execution_count": 41,
      "outputs": [
        {
          "output_type": "stream",
          "text": [
            "파이썬은 8진수와 6진수를 이용하여 표현할수있음\n",
            "==============================\n",
            " 실수\n",
            "a=1.2\n",
            "b=-3.48\n",
            "c=42400000000.0\n",
            "d=4.24e-10\n",
            "==============================\n",
            " 8진수와 16진수\n",
            "a=127\n",
            "a=2303\n",
            "a=2748\n",
            "==============================\n"
          ],
          "name": "stdout"
        }
      ]
    },
    {
      "cell_type": "markdown",
      "metadata": {
        "id": "B_Iipa5cnJ_1",
        "colab_type": "text"
      },
      "source": [
        "# ***파이썬 숫자형의 연산***"
      ]
    },
    {
      "cell_type": "code",
      "metadata": {
        "id": "a50zim7GnN-N",
        "colab_type": "code",
        "colab": {
          "base_uri": "https://localhost:8080/",
          "height": 107
        },
        "outputId": "90cff0ca-6b65-444a-928d-781b3cac6b33"
      },
      "source": [
        "print(\"숫자형: 연산자와 연산\")\n",
        "a = 3\n",
        "b = 4\n",
        "a + b\n",
        "a * b\n",
        "a / b\n",
        "print(\"a ** b:{0}\".format(\"a의b승\"))\n",
        "a % b\n",
        "print(\"a // b:{0}\".format(\"몫이 정수형으로 나옴\"))\n",
        "\n",
        "\n",
        "14 // 3\n",
        "14 % 3\n",
        "\n",
        "print(\"a // b = {0}\".format(a//b))\n",
        "print(\"a ** b = {0}\".format(a**b))\n"
      ],
      "execution_count": 48,
      "outputs": [
        {
          "output_type": "stream",
          "text": [
            "숫자형: 연산자와 연산\n",
            "a ** b:a의b승\n",
            "a // b:몫이 정수형으로 나옴\n",
            "a // b = 0\n",
            "a ** b = 81\n"
          ],
          "name": "stdout"
        }
      ]
    },
    {
      "cell_type": "markdown",
      "metadata": {
        "id": "ZkM1Uh6_nto1",
        "colab_type": "text"
      },
      "source": [
        "# ***파이썬 문자형 ***\n",
        "\n",
        "\n"
      ]
    },
    {
      "cell_type": "code",
      "metadata": {
        "id": "n3ys5zoun_iN",
        "colab_type": "code",
        "colab": {
          "base_uri": "https://localhost:8080/",
          "height": 449
        },
        "outputId": "b9e82a4d-64fc-4a08-b354-f02875e914d4"
      },
      "source": [
        "print(\"=\"*30)\n",
        "print(\"문자열: '은 파이썬의 디폴트 문자열이다.\")\n",
        "# 따음포 에러를 방지하려면 따음표앞에다가 \\\n",
        "# \"\"안에 ''를 넣으면 문자열로취급 반대도 똑같음\n",
        "# 문자열은 불면임.\n",
        "food = \"Python's favorite food is perl\"\n",
        "food\n",
        "\n",
        "food = \"'Python's favorite food is perl' \" # \" ' \"를 연산자로 읽어버리기떄문에 오류가남.\n",
        "\n",
        "say = '\"Python is very easy.\" he says.'\n",
        "print(say)\n",
        "print(\"=\"*30)\n",
        "print(\"문자열: \\ 이용\")\n",
        "food = 'Python\\'s favorite food is perl'\n",
        "say = \"\\\"Python is very easy.\\\" he says.\"\n",
        "print(say)\n",
        "print(\"=\"*30)\n",
        "\n",
        "# 이스케이프 코드\n",
        "print(\"문자열: 이스케이프 코드 이용\")\n",
        "multiline = \"Life is too short\\nYou need python\"\n",
        "multiline\n",
        "print(multiline)\n",
        "\n",
        "# 여러줄 문자열 처리\n",
        "multiline = '''\n",
        "... Life is too short\n",
        "... You need python\n",
        "... '''\n",
        "multiline\n",
        "print(multiline)\n",
        "################################################\n",
        "print(\"=\"*30)\n",
        "print(\"문자열 연산: 더하기\") # 문자열을 더하여 새로운 문자열을 만들수있음.\n",
        "head = \"Python\"\n",
        "tail = \" is fun!\"\n",
        "total=head + tail\n",
        "print(\"{0}+{1}={2}\".format(head,tail,total))\n",
        "print(\"=\"*30)\n",
        "print(\"문자열 연산: 곱하기\")  #파이썬은 문자열을 곱해서 원하는 횟수만큼 반복출력할수있음.\n",
        "a = \"python\"\n",
        "\n",
        "print(\"{0}*2={1}\".format(a,a*2))\n",
        "print(\"=\"*30)\n",
        "\n",
        "#####################################\n",
        "# multistring.py\n",
        "print(\"=\" * 50)\n",
        "print(\"I am now coding Python!\")\n",
        "print(\"=\" * 50)"
      ],
      "execution_count": 31,
      "outputs": [
        {
          "output_type": "stream",
          "text": [
            "==============================\n",
            "문자열: '은 파이썬의 디폴트 문자열이다.\n",
            "\"Python is very easy.\" he says.\n",
            "==============================\n",
            "문자열: \\ 이용\n",
            "\"Python is very easy.\" he says.\n",
            "==============================\n",
            "문자열: 이스케이프 코드 이용\n",
            "Life is too short\n",
            "You need python\n",
            "\n",
            "... Life is too short\n",
            "... You need python\n",
            "... \n",
            "==============================\n",
            "문자열 연산: 더하기\n",
            "Python+ is fun!=Python is fun!\n",
            "==============================\n",
            "문자열 연산: 곱하기\n",
            "python*2=pythonpython\n",
            "==============================\n",
            "==================================================\n",
            "I am now coding Python!\n",
            "==================================================\n"
          ],
          "name": "stdout"
        }
      ]
    },
    {
      "cell_type": "markdown",
      "metadata": {
        "id": "7kFYQsF-rjDV",
        "colab_type": "text"
      },
      "source": [
        "# ***문자열의 인덱싱 ***"
      ]
    },
    {
      "cell_type": "code",
      "metadata": {
        "id": "60dGWkrjtdo2",
        "colab_type": "code",
        "colab": {
          "base_uri": "https://localhost:8080/",
          "height": 323
        },
        "outputId": "3a4b474b-ef25-4e84-83b2-2f95681c992a"
      },
      "source": [
        "print(\"문자열: 인덱싱이란?\")\n",
        "print(\"\"\"파이썬은 문자열도 0부터 인덱스가 있기때문에 원하는 인덱스를 입력하면 값이나온다.\n",
        "그리고 파이썬은 0번부터 인덱스가 시작된다\"\"\")\n",
        "print(\"=\"*30)\n",
        "\n",
        "print(\"\\n\")\n",
        "a = \"Life is too short, You need Python\"\n",
        "print(\"a = {0}\".format(a)) \n",
        "print(\"a[3] = {0}\".format(a[3]))\n",
        "print(\"a[15] = {0}\".format(a[15]))\n",
        "print(\"=\"*30)\n",
        "\n",
        "\n",
        "print(\"문자열: 인덱싱 활용\")\n",
        "\n",
        "a = \"Life is too short, You need Python\"\n",
        "print(\"a = {0}\".format(a))\n",
        "print(\"인덱스에서 -1은 뒤쪽부터 시작한다는 뜻이다.\")\n",
        "\n",
        "print(\"a[-1] = {0}\".format(a[-1])) \n",
        "\n",
        "# a[-0]\n",
        "print(\"a[-2] = {0}\".format(a[-2])) \n",
        "print(\"a[-5] = {0}\".format(a[-5])) \n",
        "print(\"a[-12] = {0}\".format(a[-12])) \n"
      ],
      "execution_count": 59,
      "outputs": [
        {
          "output_type": "stream",
          "text": [
            "문자열: 인덱싱이란?\n",
            "파이썬은 문자열도 0부터 인덱스가 있기때문에 원하는 인덱스를 입력하면 값이나온다.\n",
            "그리고 파이썬은 0번부터 인덱스가 시작된다\n",
            "==============================\n",
            "\n",
            "\n",
            "a = Life is too short, You need Python\n",
            "a[3] = e\n",
            "a[15] = r\n",
            "==============================\n",
            "문자열: 인덱싱 활용\n",
            "a = Life is too short, You need Python\n",
            "인덱스에서 -1은 뒤쪽부터 시작한다는 뜻이다.\n",
            "a[-1] = n\n",
            "a[-2] = o\n",
            "a[-5] = y\n",
            "a[-12] =  \n"
          ],
          "name": "stdout"
        }
      ]
    },
    {
      "cell_type": "markdown",
      "metadata": {
        "id": "NnMpgVNhvQ6b",
        "colab_type": "text"
      },
      "source": [
        "# ***문자열 슬라이싱 ***"
      ]
    },
    {
      "cell_type": "code",
      "metadata": {
        "id": "oYealt8mvZ6t",
        "colab_type": "code",
        "colab": {
          "base_uri": "https://localhost:8080/",
          "height": 413
        },
        "outputId": "e5c721e8-079d-4c6a-cd33-29f340d1c864"
      },
      "source": [
        "print(\"\"\"문자열: 슬라이싱이란?\n",
        "answer:원하는 값만큼 잘라내는것을 의미함.\"\"\" )\n",
        "print(\"\\n\")\n",
        "a = \"Life is too short, You need Python\"\n",
        "print(\"a={0}\".format(a))\n",
        "# slicing (슬라이싱)\n",
        "print(\"a[0:4]={0}\".format(a[0:4]))  # 0 <= index < 4\n",
        "\n",
        "a[0:5]\n",
        "a[5:7]\n",
        "a[12:17]\n",
        "# : 의 사용\n",
        "a[:4]\n",
        "a[19:]\n",
        "a[:17]\n",
        "\n",
        "a[:]\n",
        "\n",
        "# a[19:-7] ?\n",
        "a[19:-7]\n",
        "print(\"=\"*30)\n",
        "print(\"문자열: 슬라이싱 응용하기\")\n",
        "print(\"a = {0}\".format(a))\n",
        "date = a[:8]\n",
        "print(\"a[:8] = {0}\".format(date))\n",
        "weather = a[8:]\n",
        "print(\"a[8:] = {0}\".format(weather))\n",
        "print(\"=\"*30)\n",
        "a = \"20190917Rainy\"\n",
        "print(\"a = {0}\".format(a))\n",
        "year = a[:4]\n",
        "print(\"a[:4] = {0}\".format(year))\n",
        "day = a[4:8]\n",
        "print(\"a[4:8] = {0}\".format(day))\n",
        "weather = a[8:]\n",
        "print(\"a[8:] = {0}\".format(weather))\n",
        "print(\"=\"*30)\n",
        "\n",
        "print('\"Pithon\"이라는 문자열을 \"Python\"으로 바꾸려면?')\n",
        "a = \"Pithon\"\n",
        "a[1]\n",
        "print(\"a[1] = 'y'  # Error (immutable한 자료형) 이미 할당된 스트링변수의 값은 변경할수가 없다\")\n",
        "#################\n",
        "a = \"Pithon\"\n",
        "a[:1]\n",
        "print(\"a[:1] = {0}\".format(a[:1]))\n",
        "print(\"a[2:0] = {0}\".format(a[2:]))\n",
        "print(\"a[:1] + 'y' + a[2:] = {0}\".format(a[:1] + 'y' + a[2:]))  # Python"
      ],
      "execution_count": 81,
      "outputs": [
        {
          "output_type": "stream",
          "text": [
            "문자열: 슬라이싱이란?\n",
            "answer:원하는 값만큼 잘라내는것을 의미함.\n",
            "\n",
            "\n",
            "a=Life is too short, You need Python\n",
            "a[0:4]=Life\n",
            "==============================\n",
            "문자열: 슬라이싱 응용하기\n",
            "a = Life is too short, You need Python\n",
            "a[:8] = Life is \n",
            "a[8:] = too short, You need Python\n",
            "==============================\n",
            "a = 20190917Rainy\n",
            "a[:4] = 2019\n",
            "a[4:8] = 0917\n",
            "a[8:] = Rainy\n",
            "==============================\n",
            "\"Pithon\"이라는 문자열을 \"Python\"으로 바꾸려면?\n",
            "a[1] = 'y'  # Error (immutable한 자료형) 이미 할당된 스트링변수의 값은 변경할수가 없다\n",
            "a[:1] = P\n",
            "a[2:0] = thon\n",
            "a[:1] + 'y' + a[2:] = Python\n"
          ],
          "name": "stdout"
        }
      ]
    },
    {
      "cell_type": "markdown",
      "metadata": {
        "id": "UCXw1ElPyiD2",
        "colab_type": "text"
      },
      "source": [
        "# * ***문자열 포맷팅 첫번째 방법***  (묵시적 형변환)*"
      ]
    },
    {
      "cell_type": "code",
      "metadata": {
        "id": "4NWrJ0d8w5Nw",
        "colab_type": "code",
        "colab": {
          "base_uri": "https://localhost:8080/",
          "height": 449
        },
        "outputId": "e14f14bb-fe21-45eb-bce6-e2d796ad2028"
      },
      "source": [
        "print(\"\"\"문자열: 포매팅이란?\n",
        "문자열을 다루는 방법으로써, 원하는 값을 넣을수있다.\"\"\")\n",
        "print(\"=\"*30)\n",
        "print(\"1. 숫자 바로 대입\")\n",
        "\n",
        "print(\"I eat %d apples. = {0}\".format(\"I eat 3 apples\") )\n",
        "print(\"=\"*30)\n",
        "print(\"2. 문자열 바로 대입\")\n",
        "print(\"I eat %s apples. % five  =  {0}\".format(\"I eat five apples.\"))\n",
        "print(\"=\"*30)\n",
        "print(\"3. 숫자 값을 나타내는 변수로 대입\")\n",
        "number = 3\n",
        "print(\"number = {0}\".format(number))\n",
        "print(\"I eat %d apples.\" % number)\n",
        "print(\"=\"*30)\n",
        "\n",
        "print(\"4. 2개 이상의 값 넣기\")\n",
        "number = 10\n",
        "day = \"three\"\n",
        "print(\"I ate %d apples. so I was sick for %s days. %(number, day) = {0}\".format(\"I ate 10 apples. so I was sick for three days\"))\n",
        "print(\"소괄호 안에 콤마(,)로 구분하여 각각의 값을 넣어 준다.\")\n",
        "print(\"=\"*30)\n",
        "print(\"문자열: 포맷 코드:%d, %s, %c, %f, %o, %x, %%\")\n",
        "print(\"=\"*30)\n",
        "###############################################-p60\n",
        "print(\"문자열: 포맷 코드와 숫자 함께 사용하기\")\n",
        "# 1. 정렬과 공백\n",
        "print('\"%10s\" % \"hi\"={0}'.format(\"hi                    \"))\n",
        "print('\"%-10sjane.\" % \"hi = {0}\"'.format(\"hi    jane\"))\n",
        "# 2. 소수점 표현하기\n",
        "print('\"%0.4f\" % \"3.42134234\" = {0}'.format(\"    3.4213\"))\n",
        "print('\"%10.4f\" % \"3.42134234\" = {0}'.format(\"    3.4213\"))"
      ],
      "execution_count": 105,
      "outputs": [
        {
          "output_type": "stream",
          "text": [
            "문자열: 포매팅이란?\n",
            "문자열을 다루는 방법으로써, 원하는 값을 넣을수있다.\n",
            "==============================\n",
            "1. 숫자 바로 대입\n",
            "I eat %d apples. = I eat 3 apples\n",
            "==============================\n",
            "2. 문자열 바로 대입\n",
            "I eat %s apples. % five  =  I eat five apples.\n",
            "==============================\n",
            "3. 숫자 값을 나타내는 변수로 대입\n",
            "number = 3\n",
            "I eat 3 apples.\n",
            "==============================\n",
            "4. 2개 이상의 값 넣기\n",
            "I ate %d apples. so I was sick for %s days. %(number, day) = I ate 10 apples. so I was sick for three days\n",
            "소괄호 안에 콤마(,)로 구분하여 각각의 값을 넣어 준다.\n",
            "==============================\n",
            "문자열: 포맷 코드:%d, %s, %c, %f, %o, %x, %%\n",
            "==============================\n",
            "문자열: 포맷 코드와 숫자 함께 사용하기\n",
            "\"%10s\" % \"hi\"=hi                    \n",
            "\"%-10sjane.\" % \"hi = hi    jane\"\n",
            "\"%0.4f\" % \"3.42134234\" =     3.4213\n",
            "\"%10.4f\" % \"3.42134234\" =     3.4213\n"
          ],
          "name": "stdout"
        }
      ]
    },
    {
      "cell_type": "markdown",
      "metadata": {
        "id": "90JYwuBU4P-Q",
        "colab_type": "text"
      },
      "source": [
        "# ***format함수 사용하기 ***"
      ]
    },
    {
      "cell_type": "code",
      "metadata": {
        "id": "1yxi8l254cWJ",
        "colab_type": "code",
        "colab": {
          "base_uri": "https://localhost:8080/",
          "height": 665
        },
        "outputId": "c419605b-cb76-4783-d457-762f1efb981e"
      },
      "source": [
        "print(\"문자열: format 함수를 사용한 포매팅\")\n",
        "print(\"=\"*30)\n",
        "print(\"1. 숫자 바로 대입하기\")\n",
        "print(\"I eat {0} apples.format(3) = I eat {3} apples\" )\n",
        "print(\"I eat {0} {1} apples.format(3, 4) =I eat 3 4 apples\" )\n",
        "print(\"=\"*30)\n",
        "print(\"2. 문자열 바로 대입하기\")\n",
        "print('I eat {0} apples.format(\"five\")= I eat five apples')\n",
        "print('\"I eat {0} apples from {1} boxes\".format(\"five\", \"three\") = I eat five apples from three boxes')\n",
        "print(\"=\"*30)\n",
        "print(\"3. 숫자 값을 가진 변수로 대입하기\")\n",
        "print(\"number = 3\")\n",
        "print('\"I eat {0} apples\".format(number) = I eat 3 apples')\n",
        "print('\"I eat {0} apples\".format(number+1) = I eat 4 apples')\n",
        "print(\"=\"*30)\n",
        "print('4. 2개 이상의 값 넣기')\n",
        "print(\"number = 10\")\n",
        "print('day = \"three\"')\n",
        "\n",
        "print(' --이름으로 넣기--')\n",
        "print('\"I ate {0} apples. so I was sick for {1} days.\".format(number, day)   = I ate 10 apples, so i was sick for 3 days')\n",
        "print('--인덱스와 이름을 혼용해서 넣기--')\n",
        "print('\"I ate {0} apples. so I was sick for {1} days.\".format(number, 3)   = I ate 10 apples, so i was sick for 3 days')\n",
        "\n",
        "print(\"=\"*50)\n",
        "\n",
        "\n",
        "\n",
        "print(\"\"\"##########################\n",
        "##### f 문자열 포매팅 #####\n",
        "##### .format() 대체\n",
        "##########################\"\"\")\n",
        "print(\"문자열: f 문자열 포매팅\")\n",
        "print(\"\"\"name = \"홍길동\"\n",
        "age = 30\"\"\")\n",
        "print('f\"나의 이름은 {name}입니다. 나이는 {age}입니다.\" = 나의 이름은 홍길동입니다. 나이는 30살입니다.')\n",
        "\n",
        "age = 30\n",
        "f\"나는 내년이면 {age+1}살이 된다.\"\n",
        "\n",
        "# 딕셔너리는 f 문자열 포매팅에서 다음과 같이 사용\n",
        "d = {\"name\": \"홍길동\", \"age\": 30}\n",
        "f'나의 이름은 {d[\"name\"]}입니다. 나이는 {d[\"age\"]}입니다.'\n",
        "# 정렬\n",
        "f'{\"hi\":<10}'  # 왼쪽 정렬\n",
        "f'{\"hi\":>10}'  # 오른쪽 정렬\n",
        "f'{\"hi\":^10}'  # 가운데 정렬\n",
        "# 공백 채우기\n",
        "y = 3.42134234\n",
        "print('f\"{y:0.4f}\"= 3.421  # 소수점 4자리까지만 표현')\n",
        "print('f\"{y:10.4f}\" =    3.4213  # 소수점 4자리까지 표현하고 총 자리수를 10으로 맞춤')\n",
        "print(\"=\"*30)\n",
        "print(\"{ } 문자를 표시\")\n",
        "print('f\"{{ and }}\" = { and }')"
      ],
      "execution_count": 133,
      "outputs": [
        {
          "output_type": "stream",
          "text": [
            "문자열: format 함수를 사용한 포매팅\n",
            "==============================\n",
            "1. 숫자 바로 대입하기\n",
            "I eat {0} apples.format(3) = I eat {3} apples\n",
            "I eat {0} {1} apples.format(3, 4) =I eat 3 4 apples\n",
            "==============================\n",
            "2. 문자열 바로 대입하기\n",
            "I eat {0} apples.format(\"five\")= I eat five apples\n",
            "\"I eat {0} apples from {1} boxes\".format(\"five\", \"three\") = I eat five apples from three boxes\n",
            "==============================\n",
            "3. 숫자 값을 가진 변수로 대입하기\n",
            "number = 3\n",
            "\"I eat {0} apples\".format(number) = I eat 3 apples\n",
            "\"I eat {0} apples\".format(number+1) = I eat 4 apples\n",
            "==============================\n",
            "4. 2개 이상의 값 넣기\n",
            "number = 10\n",
            "day = \"three\"\n",
            " --이름으로 넣기--\n",
            "\"I ate {0} apples. so I was sick for {1} days.\".format(number, day)   = I ate 10 apples, so i was sick for 3 days\n",
            "--인덱스와 이름을 혼용해서 넣기--\n",
            "\"I ate {0} apples. so I was sick for {1} days.\".format(number, 3)   = I ate 10 apples, so i was sick for 3 days\n",
            "==================================================\n",
            "##########################\n",
            "##### f 문자열 포매팅 #####\n",
            "##### .format() 대체\n",
            "##########################\n",
            "문자열: f 문자열 포매팅\n",
            "name = \"홍길동\"\n",
            "age = 30\n",
            "f\"나의 이름은 {name}입니다. 나이는 {age}입니다.\" = 나의 이름은 홍길동입니다. 나이는 30살입니다.\n",
            "f\"{y:0.4f}\"= 3.421  # 소수점 4자리까지만 표현\n",
            "f\"{y:10.4f}\" =    3.4213  # 소수점 4자리까지 표현하고 총 자리수를 10으로 맞춤\n",
            "==============================\n",
            "{ } 문자를 표시\n",
            "f\"{{ and }}\" = { and }\n"
          ],
          "name": "stdout"
        }
      ]
    },
    {
      "cell_type": "markdown",
      "metadata": {
        "id": "P6EqNkHK90mX",
        "colab_type": "text"
      },
      "source": [
        "# * ***문자열 관련 내장함수들*** *"
      ]
    },
    {
      "cell_type": "code",
      "metadata": {
        "id": "g1efYzvB986K",
        "colab_type": "code",
        "colab": {
          "base_uri": "https://localhost:8080/",
          "height": 161
        },
        "outputId": "dc455446-924e-4c2d-c588-a1c251ea7ad1"
      },
      "source": [
        "print(\"문자열: 관련 내장 함수들\")\n",
        "print('문자 개수 세기(count)')\n",
        "a = \"hobby\"\n",
        "print(\"{0}.count('b') = {1}\".format(a,a.count('b')))\n",
        "print(\"=\"*30)\n",
        "\n",
        "print('위치 알려주기1(find)')\n",
        "a = \"Python is the best choice\"\n",
        "a.find(\"b\")\n",
        "print(\"{0}.find{1} = {2}\".format(a,\"b\",a.find(\"b\")))\n",
        "a.find(\"k\")  # what value?\n",
        "# 위치 알려주기2(index)\n",
        "a = \"Life is too short\"\n",
        "a.index(\"t\")\n",
        "print('a.index(\"k\") index는 요소가없을경우 에러가 뜬다')\n",
        "\n",
        "# 문자열 삽입(join)\n",
        "\",\".join(\"abcd\")\n",
        "\",\".join([\"a\", \"b\", \"c\", \"d\"])\n",
        "# 소문자를 대문자로 바꾸기(upper)\n",
        "a = \"hi\"\n",
        "a.upper()\n",
        "# 대문자를 소문자로 바꾸기(lower)\n",
        "a = \"IoT\"\n",
        "a.lower()\n",
        "# 왼쪽 공백 지우기(lstrip)\n",
        "a = \" hi \"\n",
        "a.lstrip()\n",
        "# 오른쪽 공백 지우기(rstrip)\n",
        "a.rstrip()\n",
        "# 양쪽 공백 지우기(strip)\n",
        "a.strip()\n",
        "# 문자열 바꾸기(replace)\n",
        "a = \"Life is too short\"\n",
        "a.replace(\"Life\", \"Your leg\")\n"
      ],
      "execution_count": 154,
      "outputs": [
        {
          "output_type": "stream",
          "text": [
            "문자열: 관련 내장 함수들\n",
            "문자 개수 세기(count)\n",
            "hobby.count('b') = 2\n",
            "==============================\n",
            "위치 알려주기1(find)\n",
            "Python is the best choice.findb = 14\n",
            "a.index(\"k\") index는 요소가없을경우 에러가 뜬다\n"
          ],
          "name": "stdout"
        },
        {
          "output_type": "execute_result",
          "data": {
            "text/plain": [
              "'Your leg is too short'"
            ]
          },
          "metadata": {
            "tags": []
          },
          "execution_count": 154
        }
      ]
    }
  ]
}