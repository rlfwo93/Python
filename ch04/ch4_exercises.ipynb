{
  "nbformat": 4,
  "nbformat_minor": 0,
  "metadata": {
    "colab": {
      "name": "ch4_exercises.ipynb",
      "provenance": [],
      "collapsed_sections": [],
      "toc_visible": true,
      "include_colab_link": true
    },
    "kernelspec": {
      "name": "python3",
      "display_name": "Python 3"
    }
  },
  "cells": [
    {
      "cell_type": "markdown",
      "metadata": {
        "id": "view-in-github",
        "colab_type": "text"
      },
      "source": [
        "<a href=\"https://colab.research.google.com/github/rlfwo93/Python/blob/master/ch04/ch4_exercises.ipynb\" target=\"_parent\"><img src=\"https://colab.research.google.com/assets/colab-badge.svg\" alt=\"Open In Colab\"/></a>"
      ]
    },
    {
      "cell_type": "markdown",
      "metadata": {
        "id": "ovY5jkD5dpxE",
        "colab_type": "text"
      },
      "source": [
        "## ch4_exercises.ipynb"
      ]
    },
    {
      "cell_type": "markdown",
      "metadata": {
        "id": "SZw6UnxQWYBe",
        "colab_type": "text"
      },
      "source": [
        "## Q1.\n",
        "> 주어진 자연수가 홀수인지 짝수인지 판별해 주는 함수(is_odd)를 작성해 보자.\n"
      ]
    },
    {
      "cell_type": "code",
      "metadata": {
        "id": "rUNNaqJPdg7B",
        "colab_type": "code",
        "colab": {
          "base_uri": "https://localhost:8080/",
          "height": 35
        },
        "outputId": "2623655f-86c9-4d54-efef-16a266e3d488"
      },
      "source": [
        "def is_odd(a):\n",
        "  if a%2==0:\n",
        "    print(\"{0}는 짝수입니다.\".format(a))\n",
        "  else:\n",
        "    print(\"{0}는 홀수입니다.\".format(a))\n",
        "    \n",
        "is_odd(2)\n",
        "\n"
      ],
      "execution_count": 1,
      "outputs": [
        {
          "output_type": "stream",
          "text": [
            "2는 짝수입니다.\n"
          ],
          "name": "stdout"
        }
      ]
    },
    {
      "cell_type": "markdown",
      "metadata": {
        "colab_type": "text",
        "id": "re2-XrUYXF1m"
      },
      "source": [
        "## Q2.\n",
        "> 입력으로 들어오는 모든 수의 평균 값을 계산해 주는 함수를 작성해 보자. \n",
        "- (단 입력으로 들어오는 수의 개수는 정해져 있지 않다.)\n",
        "- ※ 평균 값을 구할 때 len 함수를 사용해 보자.\n"
      ]
    },
    {
      "cell_type": "code",
      "metadata": {
        "colab_type": "code",
        "id": "5MBLUZ5WXF1q",
        "colab": {
          "base_uri": "https://localhost:8080/",
          "height": 35
        },
        "outputId": "a1212ad2-6d5b-4ebf-e8f7-919ec0297fdf"
      },
      "source": [
        "def average(*a):\n",
        " \n",
        "  print(\"평균값은{0}입니다\".format(sum(a)//len(a))) # sum이라는 함수를 사용해서 다 더하고 //len으로 정수형까지 나눠준다.\n",
        "                                                    # sum은 모든 요소를 다더해서 리턴해주는 함수.\n",
        "    \n",
        "    \n",
        "average(10,10,10,10,10,10)    \n",
        "\n",
        "\n"
      ],
      "execution_count": 5,
      "outputs": [
        {
          "output_type": "stream",
          "text": [
            "평균값은10입니다\n"
          ],
          "name": "stdout"
        }
      ]
    },
    {
      "cell_type": "code",
      "metadata": {
        "id": "e80LQuN0qrbi",
        "colab_type": "code",
        "colab": {
          "base_uri": "https://localhost:8080/",
          "height": 53
        },
        "outputId": "23992527-5d42-4fd9-cf04-a2ef191c2b50"
      },
      "source": [
        "def average(*a):\n",
        "    result=0\n",
        "    for i in range(len(a)):\n",
        "        result+=a[i] # result에 각각의 요소를 더해줌,\n",
        "        \n",
        "    print(\"평균값은{0}입니다\".format(result//len(a))) #더한요소에 길이만큼 나눠서 평균을 구함.\n",
        "    print(result)\n",
        "    \n",
        "average(10,10,10,10,10,10,10,10)"
      ],
      "execution_count": 8,
      "outputs": [
        {
          "output_type": "stream",
          "text": [
            "평균값은10입니다\n",
            "80\n"
          ],
          "name": "stdout"
        }
      ]
    },
    {
      "cell_type": "markdown",
      "metadata": {
        "colab_type": "text",
        "id": "UZy8lu_BXGnT"
      },
      "source": [
        "## Q3.\n",
        "> 다음은 두 개의 숫자를 입력받아 더하여 돌려주는 프로그램이다.\n",
        "\n",
        "```\n",
        "input1 = input(\"첫번째 숫자를 입력하세요:\")\n",
        "input2 = input(\"두번째 숫자를 입력하세요:\")\n",
        "\n",
        "total = input1 + input2\n",
        "print(\"두 수의 합은 %s 입니다\" % total)\n",
        "\n",
        "```\n",
        "---\n",
        "> 이 프로그램을 수행해 보자.\n",
        "\n",
        ">> 첫번째 숫자를 입력하세요:3  \n",
        ">> 두번째 숫자를 입력하세요:6\n",
        "- 두 수의 합은 36 입니다\n",
        "- 3과 6을 입력했을 때 9가 아닌 36이라는 결괏값을 돌려주었다.  \n",
        "이 프로그램의 오류를 수정해 보자."
      ]
    },
    {
      "cell_type": "code",
      "metadata": {
        "colab_type": "code",
        "id": "H9T_sXHzXGnW",
        "colab": {
          "base_uri": "https://localhost:8080/",
          "height": 71
        },
        "outputId": "489e9779-a2fc-4a90-99a8-bb8eb8d16e64"
      },
      "source": [
        "# [Q3] Code\n",
        "# input1 = input(\"첫번째 숫자를 입력하세요:\")\n",
        "# input2 = input(\"두번째 숫자를 입력하세요:\")\n",
        "\n",
        "# total = input1 + input2\n",
        "# print(\"두 수의 합은 %s 입니다\" % total)  \n",
        "\n",
        "\n",
        "# input은 문자열로 인식이되기때문에 사칙연산이 아니라 문자열 더하기로 넘어간다. 따라서 int형으로 형변환을 시켜줘di한다.\n",
        "\n",
        "\n",
        "\n",
        "\n",
        "input1= int(input(\"첫번째 숫자를 입력하세요:\"))\n",
        "input2= int(input(\"첫번째 숫자를 입력하세요:\"))\n",
        "\n",
        "print(\"두수의 합은{0}입니다.\".format(input1+input2))\n",
        "\n",
        "\n",
        "\n",
        "\n"
      ],
      "execution_count": 12,
      "outputs": [
        {
          "output_type": "stream",
          "text": [
            "첫번째 숫자를 입력하세요:3\n",
            "첫번째 숫자를 입력하세요:6\n",
            "두수의 합은9입니다.\n"
          ],
          "name": "stdout"
        }
      ]
    },
    {
      "cell_type": "markdown",
      "metadata": {
        "colab_type": "text",
        "id": "fqypxxqTXHY7"
      },
      "source": [
        "## Q4.\n",
        "> 다음 중 출력 결과가 다른 것 한 개를 골라 보자.\n",
        "\n",
        "```\n",
        "print(\"you\" \"need\" \"python\")\n",
        "print(\"you\"+\"need\"+\"python\")\n",
        "print(\"you\", \"need\", \"python\")\n",
        "print(\"\".join([\"you\", \"need\", \"python\"]))\n",
        "```"
      ]
    },
    {
      "cell_type": "code",
      "metadata": {
        "colab_type": "code",
        "id": "oQ5UnmayXHY-",
        "colab": {
          "base_uri": "https://localhost:8080/",
          "height": 89
        },
        "outputId": "22b2a019-ada0-407d-d260-aa00d5cb6953"
      },
      "source": [
        "# [Q4] Code\n",
        "print(\"you\" \"need\" \"python\") #youneedpython 이라고 출력이됨. \n",
        "print(\"you\"+\"need\"+\"python\") #youneedpython 이라고 출력이됨.\n",
        "print(\"you\", \"need\", \"python\")# ,는 뛰어쓰기로 인식하기때문에 you need python 이라고 출력이됨.\n",
        "print(\"\".join([\"you\", \"need\", \"python\"])) #join함수에서 \"\"이라고 줫기때문에 youneedpython 이라고 출력이됨.\n",
        "\n",
        "print(\"답은 3번이다.\")\n"
      ],
      "execution_count": 13,
      "outputs": [
        {
          "output_type": "stream",
          "text": [
            "youneedpython\n",
            "youneedpython\n",
            "you need python\n",
            "youneedpython\n"
          ],
          "name": "stdout"
        }
      ]
    },
    {
      "cell_type": "markdown",
      "metadata": {
        "colab_type": "text",
        "id": "NKsvciXZXIL-"
      },
      "source": [
        "## Q5.\n",
        "> 다음은 \"test.txt\"라는 파일에 \"Life is too short\" 문자열을 저장한 후 다시 그 파일을 읽어서 출력하는 프로그램이다.\n",
        "\n",
        "```\n",
        "f1 = open(\"test.txt\", 'w')\n",
        "f1.write(\"Life is too short\")\n",
        "\n",
        "f2 = open(\"test.txt\", 'r')\n",
        "print(f2.read())\n",
        "\n",
        "```\n",
        ">> 이 프로그램은 우리가 예상한 \"Life is too short\"라는 문장을 출력하지 않는다.\n",
        "\n",
        ">> 우리가 예상한 값을 출력할 수 있도록 프로그램을 수정해 보자."
      ]
    },
    {
      "cell_type": "code",
      "metadata": {
        "colab_type": "code",
        "id": "5MZQYOVjXIL_",
        "colab": {
          "base_uri": "https://localhost:8080/",
          "height": 35
        },
        "outputId": "170d6c9b-535b-4075-bddb-574c95cbc0b5"
      },
      "source": [
        "#f1 = open(\"test.txt\", 'w')\n",
        "#f1.write(\"Life is too short\")\n",
        "\n",
        "#f2 = open(\"test.txt\", 'r')\n",
        "#print(f2.read())  \n",
        "                                   #파일을 한번 읽거나 쓰면 무조건 닫아주고 다시 열어줘여한다. 하지만 여기에는 파일을 닫아주지 않았기때문에 원하는값이 출력이안된다.\n",
        "  \n",
        "f1 = open(\"test.txt\", 'w')\n",
        "f1.write(\"Life is too short\")\n",
        "f1.close()\n",
        "f2 = open(\"test.txt\", 'r')\n",
        "print(f2.read())  \n",
        "f2.close()    \n",
        "\n"
      ],
      "execution_count": 80,
      "outputs": [
        {
          "output_type": "stream",
          "text": [
            "Life is too short\n"
          ],
          "name": "stdout"
        }
      ]
    },
    {
      "cell_type": "markdown",
      "metadata": {
        "colab_type": "text",
        "id": "-3KHtOOoXJBV"
      },
      "source": [
        "## Q6.\n",
        "> 사용자의 입력을 파일(test.txt)에 저장하는 프로그램을 작성해 보자. \n",
        "- (단 프로그램을 다시 실행하더라도 기존에 작성한 내용을 유지하고 새로 입력한 내용을 추가해야 한다.)\n"
      ]
    },
    {
      "cell_type": "code",
      "metadata": {
        "colab_type": "code",
        "id": "AjYR0lUaXJBa",
        "colab": {
          "base_uri": "https://localhost:8080/",
          "height": 71
        },
        "outputId": "2b4cd47f-8d93-49b6-dfd7-5155cdff689b"
      },
      "source": [
        "# [Q6] Code\n",
        "\n",
        "f = open(\"test.txt\", 'a')\n",
        "while True:\n",
        "    data = input(\"입력해봐라:\")\n",
        "    if data==\"이제입력안합니다\":\n",
        "        break\n",
        "      \n",
        "    f.write(data)\n",
        "\n"
      ],
      "execution_count": 81,
      "outputs": [
        {
          "output_type": "stream",
          "text": [
            "입력해봐라:안녕\n",
            "입력해봐라:잘가\n",
            "입력해봐라:이제입력안합니다\n"
          ],
          "name": "stdout"
        }
      ]
    },
    {
      "cell_type": "markdown",
      "metadata": {
        "colab_type": "text",
        "id": "YrS3b88QbmKo"
      },
      "source": [
        "## Q7.\n",
        "> 다음과 같은 내용을 지닌 파일 foo1.txt가 있다. 이 파일의 내용 중 \"java\"라는 문자열을 \"python\"으로 바꾸어서 저장해 보자.\n",
        "\n",
        ">> Life is too short  \n",
        ">> you need java\n",
        "\n",
        "- ※ replace 함수를 사용해 보자.\n"
      ]
    },
    {
      "cell_type": "code",
      "metadata": {
        "colab_type": "code",
        "id": "Ll_2InMWbmKq",
        "colab": {
          "base_uri": "https://localhost:8080/",
          "height": 89
        },
        "outputId": "99b6d2db-f469-41a6-a6fa-96f996e8edd7"
      },
      "source": [
        "f= open(\"foo1.txt\",'w') # 쓰기모드로 텍스트를 열어 문자를 입력해줌,\n",
        "f.write(\"Life is too short\\n\")\n",
        "f.write(\"you need java\")\n",
        "f.close() #한번쓰면 무조건 닫아야함\n",
        "\n",
        "f1= open(\"foo1.txt\",'r') # 읽기모드로 텍스트를 열어 자료를 읽음.\n",
        "data = f1.read()\n",
        "print(data)\n",
        "data=data.replace(\"java\",\"python\") # data변수에 텍스트내용일 입력하고 replace 문자열 교체함수를 써서 java를 python으로 바꿔줌.\n",
        "f1.close() #한번쓰고 무조건 닫음.\n",
        "\n",
        "f2 = open(\"foo1.txt\",'w') # 다시 쓰기 모드로 열어서 data를 그대로 써줌.\n",
        "f2.write(data)\n",
        "f2.close() #한번 쓰고 무조건 닫음\n",
        "\n",
        "f3 = open(\"foo1.txt\",'r') #읽기모드로 열어서 값이 잘 들어갔나 확인함.\n",
        "result=f3.read()\n",
        "print(result)\n",
        "f3.close() #한번쓰고 무조건 닫음."
      ],
      "execution_count": 63,
      "outputs": [
        {
          "output_type": "stream",
          "text": [
            "Life is too short\n",
            "you need java\n",
            "Life is too short\n",
            "you need python\n"
          ],
          "name": "stdout"
        }
      ]
    },
    {
      "cell_type": "code",
      "metadata": {
        "id": "x_3UnIWD0xRx",
        "colab_type": "code",
        "colab": {
          "base_uri": "https://localhost:8080/",
          "height": 53
        },
        "outputId": "3ad44f6a-7d4c-4307-a931-b117f532fb3f"
      },
      "source": [
        "f= open(\"foo1.txt\",'w') # 쓰기모드로 텍스트를 열어 문자를 입력해줌,\n",
        "f.write(\"Life is too short\\n\")\n",
        "f.write(\"you need java\")\n",
        "f.close() #한번쓰면 무조건 닫아야함\n",
        "\n",
        "f1= open(\"foo1.txt\",'r') # 읽기모드로 텍스트를 열어 자료를 읽음.\n",
        "data=\"\"\n",
        "while True: #line을 하나하나 읽어들임.\n",
        "  line=f1.readline()\n",
        "  if not line: #line없을경우 break를 통해 탈출.\n",
        "      break\n",
        "  data+=line #data변수에 line으로 받은 변수를 더함.\n",
        "data=data[0:27]+\"python\" # 인덱싱을 이용해서 java앞까지 짜르고 python을 더해줌.\n",
        "f1.close() #한번쓰고 무조건 닫음.\n",
        "\n",
        "f2 = open(\"foo1.txt\",'w') # 다시 쓰기 모드로 열어서 data를 그대로 써줌.\n",
        "f2.write(data)\n",
        "f2.close() #한번 쓰고 무조건 닫음\n",
        "\n",
        "f3 = open(\"foo1.txt\",'r') #읽기모드로 열어서 값이 잘 들어갔나 확인함.\n",
        "result=f3.read()\n",
        "print(result)\n",
        "f3.close() #한번쓰고 무조건 닫음."
      ],
      "execution_count": 78,
      "outputs": [
        {
          "output_type": "stream",
          "text": [
            "Life is too short\n",
            "you need python\n"
          ],
          "name": "stdout"
        }
      ]
    },
    {
      "cell_type": "markdown",
      "metadata": {
        "id": "2ljBDShkbqZO",
        "colab_type": "text"
      },
      "source": [
        "## 코딩 연습 결과를 github에 올리기\n",
        "> 완성된 ipython 노트북 파일을 각자의 github에 올리시오.\n",
        "\n",
        "- github 계정 만들기 (계정이 없는 학생)\n",
        "    1. github에 sign up (Google gmail 계정을 이용해서 만드시오.)\n",
        "- github에 노트 올리기\n",
        "    2. github에 각자의 id로 repo를 만드시오. (한번 만들면 계속 재사용)\n",
        "    3. github repo에 연습결과 노트를 올리시오.\n",
        "        - 제출노트: ch4_exercises_id.ipynb\n"
      ]
    },
    {
      "cell_type": "code",
      "metadata": {
        "id": "OnCR-YNCc8B6",
        "colab_type": "code",
        "colab": {}
      },
      "source": [
        ""
      ],
      "execution_count": 0,
      "outputs": []
    }
  ]
}