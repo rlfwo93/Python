{
  "nbformat": 4,
  "nbformat_minor": 0,
  "metadata": {
    "colab": {
      "name": "Untitled2.ipynb",
      "provenance": [],
      "include_colab_link": true
    },
    "kernelspec": {
      "name": "python3",
      "display_name": "Python 3"
    }
  },
  "cells": [
    {
      "cell_type": "markdown",
      "metadata": {
        "id": "view-in-github",
        "colab_type": "text"
      },
      "source": [
        "<a href=\"https://colab.research.google.com/github/rlfwo93/Python/blob/master/ch04/Untitled2.ipynb\" target=\"_parent\"><img src=\"https://colab.research.google.com/assets/colab-badge.svg\" alt=\"Open In Colab\"/></a>"
      ]
    },
    {
      "cell_type": "markdown",
      "metadata": {
        "id": "2xZqPg-6NsP-",
        "colab_type": "text"
      },
      "source": [
        "# ***함수***"
      ]
    },
    {
      "cell_type": "code",
      "metadata": {
        "id": "9GV7f6r-NygL",
        "colab_type": "code",
        "colab": {
          "base_uri": "https://localhost:8080/",
          "height": 305
        },
        "outputId": "39e4d27e-1e53-4728-aaff-f1bea4474e7a"
      },
      "source": [
        "print(\"함수란 무엇인가?\")\n",
        "#######################################\n",
        "print(\"\"\"입력값을 가지고 어떤 일을 수행한 다음에 \n",
        "그 결과물을 내어놓는 것\"\"\")\n",
        "#######################################\n",
        "print(\"\\n\")\n",
        "print(\"함수를 사용하는 이유는 무엇일까?\")\n",
        "#######################################\n",
        "print(\"\"\"반복되는 부분을 함수로 전환.\n",
        "코딩을 모듈화\"\"\")\n",
        "#######################################\n",
        "\n",
        "print(\"\\n\")\n",
        "print(\"파이썬 함수의 구조\")\n",
        "#######################################\n",
        "print(\"\"\"\n",
        "def 함수명(매개변수):\n",
        "    <수행할 문장1>\n",
        "    <수행할 문장2>\n",
        "    \"\"\")"
      ],
      "execution_count": 8,
      "outputs": [
        {
          "output_type": "stream",
          "text": [
            "함수란 무엇인가?\n",
            "입력값을 가지고 어떤 일을 수행한 다음에 \n",
            "그 결과물을 내어놓는 것\n",
            "\n",
            "\n",
            "함수를 사용하는 이유는 무엇일까?\n",
            "반복되는 부분을 함수로 전환.\n",
            "코딩을 모듈화\n",
            "\n",
            "\n",
            "파이썬 함수의 구조\n",
            "\n",
            "def 함수명(매개변수):\n",
            "    <수행할 문장1>\n",
            "    <수행할 문장2>\n",
            "    \n"
          ],
          "name": "stdout"
        }
      ]
    },
    {
      "cell_type": "markdown",
      "metadata": {
        "id": "4C5bJXaIOfns",
        "colab_type": "text"
      },
      "source": [
        "# ***함수를 정의하기***"
      ]
    },
    {
      "cell_type": "code",
      "metadata": {
        "id": "doi5_LEpOiDr",
        "colab_type": "code",
        "colab": {
          "base_uri": "https://localhost:8080/",
          "height": 35
        },
        "outputId": "873cc8d4-0c93-431b-c64a-d3c6745ac082"
      },
      "source": [
        "# add() 함수를 정의\n",
        "def add(a, b): \n",
        "    return a + b\n",
        "  \n",
        "  \n",
        "add(4,5) #9\n",
        "\n",
        "  "
      ],
      "execution_count": 11,
      "outputs": [
        {
          "output_type": "execute_result",
          "data": {
            "text/plain": [
              "9"
            ]
          },
          "metadata": {
            "tags": []
          },
          "execution_count": 11
        }
      ]
    },
    {
      "cell_type": "markdown",
      "metadata": {
        "id": "wTBYQ1pXOwFL",
        "colab_type": "text"
      },
      "source": [
        "# ***add()함수 사용하기***"
      ]
    },
    {
      "cell_type": "code",
      "metadata": {
        "id": "GgBLOFS7O0QT",
        "colab_type": "code",
        "colab": {
          "base_uri": "https://localhost:8080/",
          "height": 53
        },
        "outputId": "f528236e-a14d-492f-de13-2808218a01a8"
      },
      "source": [
        "# add() 함수를 사용\n",
        "a=3\n",
        "b=4\n",
        "c=add(a,b) # 3+4=7\n",
        "print(c) # 7\n",
        "\n",
        "x=[1,2,3]\n",
        "y=[4,5,6]\n",
        "z=x+y #[1,2,3]+[4,5,6]\n",
        "print(z) #[1,2,3,4,5,6]\n",
        "#"
      ],
      "execution_count": 13,
      "outputs": [
        {
          "output_type": "stream",
          "text": [
            "7\n",
            "[1, 2, 3, 4, 5, 6]\n"
          ],
          "name": "stdout"
        }
      ]
    },
    {
      "cell_type": "markdown",
      "metadata": {
        "id": "vr8bNc1CPAi7",
        "colab_type": "text"
      },
      "source": [
        "# ***매개변수와 인수의 차이를 이해***"
      ]
    },
    {
      "cell_type": "code",
      "metadata": {
        "id": "SNVXedcWPD07",
        "colab_type": "code",
        "colab": {
          "base_uri": "https://localhost:8080/",
          "height": 89
        },
        "outputId": "d3dfbafc-6b96-4271-f798-36fb095c7be8"
      },
      "source": [
        "print(\"매개변수와 인수의 차이를 이해하자!\")\n",
        "#######################################\n",
        "print(\"\"\"매개변수는 함수에 입력으로 전달된 값을 받는 변수\n",
        "인수는 함수를 호출할 때 전달하는 입력값을 의미\"\"\")\n",
        "#######################################\n",
        "# add() 함수에서의 매개변수와 인수\n",
        "\"\"\"\n",
        "def add(a, b):  # a, b는 매개변수\n",
        "    return a+b\n",
        "\n",
        "print(add(3, 4))  # 3, 4는 인수\n",
        "\n",
        "\"\"\""
      ],
      "execution_count": 17,
      "outputs": [
        {
          "output_type": "stream",
          "text": [
            "매개변수와 인수의 차이를 이해하자!\n",
            "매개변수는 함수에 입력으로 전달된 값을 받는 변수\n",
            "인수는 함수를 호출할 때 전달하는 입력값을 의미\n"
          ],
          "name": "stdout"
        },
        {
          "output_type": "execute_result",
          "data": {
            "text/plain": [
              "'\\ndef add(a, b):  # a, b는 매개변수\\n    return a+b\\n\\nprint(add(3, 4))  # 3, 4는 인수\\n\\n'"
            ]
          },
          "metadata": {
            "tags": []
          },
          "execution_count": 17
        }
      ]
    },
    {
      "cell_type": "markdown",
      "metadata": {
        "id": "0FerpSE2PhC0",
        "colab_type": "text"
      },
      "source": [
        "# ***입력값과 결괏값이 있는 함수의 사용법***"
      ]
    },
    {
      "cell_type": "code",
      "metadata": {
        "id": "6pAJhJ9HPjob",
        "colab_type": "code",
        "colab": {
          "base_uri": "https://localhost:8080/",
          "height": 35
        },
        "outputId": "e115240d-5db6-4695-98ef-a39f2b6c8f63"
      },
      "source": [
        "def add2(a, b): \n",
        "    result = a + b #3+4\n",
        "    return result\n",
        "  \n",
        "  \n",
        "a = add2(3, 4) \n",
        "print(a) #7\n"
      ],
      "execution_count": 18,
      "outputs": [
        {
          "output_type": "stream",
          "text": [
            "7\n"
          ],
          "name": "stdout"
        }
      ]
    },
    {
      "cell_type": "markdown",
      "metadata": {
        "id": "1FhWn2vlPvfy",
        "colab_type": "text"
      },
      "source": [
        "# **입력 값이 없는 함수의 사용법.**"
      ]
    },
    {
      "cell_type": "code",
      "metadata": {
        "id": "kxpznNu8PIo4",
        "colab_type": "code",
        "colab": {
          "base_uri": "https://localhost:8080/",
          "height": 35
        },
        "outputId": "5ddf7d33-51b3-43e7-cf6a-441484e4acdd"
      },
      "source": [
        "def say(): \n",
        "    return 'Hi'\n",
        "\n",
        "\n",
        "# 입력값이 없는 함수의 사용법\n",
        "# 결괏값을 받을 변수 = 함수이름()\n",
        "a = say() #hi\n",
        "print(a) #HI"
      ],
      "execution_count": 20,
      "outputs": [
        {
          "output_type": "stream",
          "text": [
            "Hi\n"
          ],
          "name": "stdout"
        }
      ]
    },
    {
      "cell_type": "markdown",
      "metadata": {
        "id": "3XdGcmZpQC4C",
        "colab_type": "text"
      },
      "source": [
        "# ***결괏값이 없는 함수***"
      ]
    },
    {
      "cell_type": "code",
      "metadata": {
        "id": "92JUXgGRQFOS",
        "colab_type": "code",
        "colab": {
          "base_uri": "https://localhost:8080/",
          "height": 71
        },
        "outputId": "f80c1047-f20f-477b-a127-2e7fc82c8299"
      },
      "source": [
        "def add3(a, b): \n",
        "    print(\"%d, %d의 합은 %d입니다.\" % (a, b, a+b))\n",
        "\n",
        "\n",
        "# 결괏값이 없는 함수의 사용법\n",
        "# 함수이름(입력인수1, 입력인수2, ...)\n",
        "add3(3, 4) #3, 4의 합은 7입니다.\n",
        "\n",
        "# 다음 결과는 무엇인가?\n",
        "a = add3(3, 4) # 3, 4의 합은 7입니다.\n",
        "print(a) #리턴을 해서 돌려주는 반환값이 없기때문에 none 이 뜸\n",
        "# "
      ],
      "execution_count": 22,
      "outputs": [
        {
          "output_type": "stream",
          "text": [
            "3, 4의 합은 7입니다.\n",
            "3, 4의 합은 7입니다.\n",
            "None\n"
          ],
          "name": "stdout"
        }
      ]
    },
    {
      "cell_type": "markdown",
      "metadata": {
        "id": "YCMxUS2gQi-8",
        "colab_type": "text"
      },
      "source": [
        "# ***입력값도 결과값도 없는 함수의 사용법***"
      ]
    },
    {
      "cell_type": "code",
      "metadata": {
        "id": "Oms1XvQAQvSa",
        "colab_type": "code",
        "colab": {
          "base_uri": "https://localhost:8080/",
          "height": 35
        },
        "outputId": "41ee5fdd-e7bf-42ab-d490-4d302f4a27aa"
      },
      "source": [
        "# 입력값도 결괏값도 없는 함수\n",
        "\n",
        "def say2(): \n",
        "    print('Hi')\n",
        "\n",
        "\n",
        "# 입력값도 결괏값도 없는 함수의 사용법\n",
        "# 함수이름()\n",
        "say() #\"HI\""
      ],
      "execution_count": 23,
      "outputs": [
        {
          "output_type": "execute_result",
          "data": {
            "text/plain": [
              "'Hi'"
            ]
          },
          "metadata": {
            "tags": []
          },
          "execution_count": 23
        }
      ]
    },
    {
      "cell_type": "markdown",
      "metadata": {
        "id": "7mdNVreMQ4jK",
        "colab_type": "text"
      },
      "source": [
        "# ***매개변수의 값을 지정하여 호출하기.***"
      ]
    },
    {
      "cell_type": "code",
      "metadata": {
        "id": "A3fV5R8qQ8Ky",
        "colab_type": "code",
        "colab": {
          "base_uri": "https://localhost:8080/",
          "height": 71
        },
        "outputId": "3367e62e-2f57-47c2-cb6d-b602a20c9314"
      },
      "source": [
        "#######################################\n",
        "print(\"매개변수의 값을 지정하여 호출하기\")\n",
        "#######################################\n",
        "def add4(a, b):\n",
        "    return a+b\n",
        "\n",
        "\n",
        "result = add4(a=3, b=7)  # a에 3, b에 7을 전달\n",
        "print(result) #10\n",
        "\n",
        "# 매개변수의 순서에 상관없이 사용\n",
        "result = add4(b=5, a=3)  # b에 5, a에 3을 전달\n",
        "print(result) # 8\n",
        "#######################################"
      ],
      "execution_count": 25,
      "outputs": [
        {
          "output_type": "stream",
          "text": [
            "매개변수의 값을 지정하여 호출하기\n",
            "10\n",
            "8\n"
          ],
          "name": "stdout"
        }
      ]
    },
    {
      "cell_type": "markdown",
      "metadata": {
        "id": "h3vCLPeORFeS",
        "colab_type": "text"
      },
      "source": [
        "# ***입력값이 몇개가 될지 모를 때***"
      ]
    },
    {
      "cell_type": "code",
      "metadata": {
        "id": "SHsx06PKRIVr",
        "colab_type": "code",
        "colab": {
          "base_uri": "https://localhost:8080/",
          "height": 35
        },
        "outputId": "4063a8b6-e8eb-4e58-e05f-b414978aa16d"
      },
      "source": [
        "\"\"\"\n",
        "def 함수이름(*매개변수): \n",
        "    <수행할 문장>\n",
        "    ...\n",
        "\"\"\"\n",
        "def add_many(*args):  #튜플형태로 돌려줌\n",
        "    result = 0 \n",
        "    for i in args: \n",
        "        result = result + i \n",
        "    return result \n",
        "\n",
        "add_many(1, 2, 3)\n",
        "add_many(1, 2, 3, 4, 5, 6, 7, 8, 9)\n",
        "\n",
        "result = add_many(1,2,3,4,5,6,7,8,9,10)\n",
        "print(result)\n"
      ],
      "execution_count": 26,
      "outputs": [
        {
          "output_type": "stream",
          "text": [
            "55\n"
          ],
          "name": "stdout"
        }
      ]
    },
    {
      "cell_type": "markdown",
      "metadata": {
        "id": "PcoPWLrBRnbT",
        "colab_type": "text"
      },
      "source": [
        "# 여러 개의 입력을 처리하는 함수(*args) "
      ]
    },
    {
      "cell_type": "code",
      "metadata": {
        "id": "BMCHVNIaRq-b",
        "colab_type": "code",
        "colab": {
          "base_uri": "https://localhost:8080/",
          "height": 53
        },
        "outputId": "6473de91-46ff-47bb-f147-a3d79d0faba3"
      },
      "source": [
        "\n",
        "def add_mul(choice, *args):\n",
        "    if choice == \"add\":\n",
        "        result = 0 \n",
        "        for i in args:\n",
        "            result = result + i \n",
        "    elif choice == \"mul\":\n",
        "        result = 1 \n",
        "        for i in args: \n",
        "            result = result * i \n",
        "    return result \n",
        "\n",
        "# add\n",
        "result = add_mul('add', 1,2,3,4,5)\n",
        "print(result) # 15\n",
        "# multiply\n",
        "result = add_mul('mul', 1,2,3,4,5)\n",
        "print(result) #120"
      ],
      "execution_count": 27,
      "outputs": [
        {
          "output_type": "stream",
          "text": [
            "15\n",
            "120\n"
          ],
          "name": "stdout"
        }
      ]
    },
    {
      "cell_type": "markdown",
      "metadata": {
        "id": "mThjw5NFSIYC",
        "colab_type": "text"
      },
      "source": [
        "# ***키워드 파라미터 kwargs***"
      ]
    },
    {
      "cell_type": "code",
      "metadata": {
        "id": "2_PTcDoiSRly",
        "colab_type": "code",
        "colab": {
          "base_uri": "https://localhost:8080/",
          "height": 71
        },
        "outputId": "01e0c9cb-0293-4734-cbeb-6343342f3a10"
      },
      "source": [
        "print(\"키워드 파라미터 kwargs\")\n",
        "#######################################\n",
        "\n",
        "def print_kwargs(**kwargs):\n",
        "    print(kwargs)\n",
        "\n",
        "\n",
        "# print_kwargs 함수는 매개변수 kwargs를 출력하는 함수\n",
        "#\n",
        "print_kwargs(a=1) #{'a': 1}\n",
        "\n",
        "print_kwargs(name='foo', age=3) # {'name': 'foo', 'age': 3}\n",
        "\n",
        "#\n",
        "# **kwargs처럼 매개변수 이름 앞에 **을 붙이면 매개변수 \n",
        "# kwargs는 딕셔너리가 되고 모든 key=value 형태의 결괏값이 \n",
        "# 그 딕셔너리에 저장된다.\n",
        "#"
      ],
      "execution_count": 30,
      "outputs": [
        {
          "output_type": "stream",
          "text": [
            "키워드 파라미터 kwargs\n",
            "{'a': 1}\n",
            "{'name': 'foo', 'age': 3}\n"
          ],
          "name": "stdout"
        }
      ]
    },
    {
      "cell_type": "markdown",
      "metadata": {
        "id": "chMd9mZbTC_i",
        "colab_type": "text"
      },
      "source": [
        "# ***함수의 결괏값은 언제나 하나***"
      ]
    },
    {
      "cell_type": "code",
      "metadata": {
        "id": "Xqgm6TBPTG1J",
        "colab_type": "code",
        "colab": {
          "base_uri": "https://localhost:8080/",
          "height": 107
        },
        "outputId": "abd360db-d197-4d34-93ce-e9ef3b2c0541"
      },
      "source": [
        "print(\"함수의 결괏값은 언제나 하나\")\n",
        "#######################################\n",
        "#\n",
        "def add_and_mul(a,b): \n",
        "    return a+b, a*b #결과값이 두개이지만 이 결과값들을 튜플형식으로 반환해줌.\n",
        "\n",
        "\n",
        "# add_and_mul() 사용 1.\n",
        "result = add_and_mul(3,4) \n",
        "\n",
        "print(result) # (7,12)\n",
        "\n",
        "# add_and_mul() 사용 2.\n",
        "result1, result2 = add_and_mul(3, 4)\n",
        "\n",
        "print(result1, result2) # 7, 12 각각의 값을 다른 변수의 넣어줌.\n",
        "\n",
        "#######################################\n",
        "print(\"잘못된 함수\")\n",
        "#######################################\n",
        "def add_and_mul2(a,b): \n",
        "    return a+b \n",
        "    return a*b  # Not working!! 위에서 리턴을만나 값을반환하고 함수를 종료시켰기때문에  동작하지않음.\n",
        "\n",
        "\n",
        "result = add_and_mul2(2, 3)\n",
        "print(result) # 5"
      ],
      "execution_count": 32,
      "outputs": [
        {
          "output_type": "stream",
          "text": [
            "함수의 결괏값은 언제나 하나\n",
            "(7, 12)\n",
            "7 12\n",
            "잘못된 함수\n",
            "5\n"
          ],
          "name": "stdout"
        }
      ]
    },
    {
      "cell_type": "markdown",
      "metadata": {
        "id": "Ct2dGnozUEwb",
        "colab_type": "text"
      },
      "source": [
        "# ***리턴의 용도***"
      ]
    },
    {
      "cell_type": "code",
      "metadata": {
        "id": "npvdCRrAUGG6",
        "colab_type": "code",
        "colab": {
          "base_uri": "https://localhost:8080/",
          "height": 53
        },
        "outputId": "9976b341-41ba-43e0-9801-e7038541af64"
      },
      "source": [
        "print(\"return 의 용도: 함수 실행 종료\")\n",
        "#######################################\n",
        "def say_nick(nick): \n",
        "    if nick == \"바보\": \n",
        "        return \n",
        "    print(\"나의 별명은 %s 입니다.\" % nick)\n",
        "\n",
        "\n",
        "say_nick(\"홍길동\")\n",
        "say_nick(\"바보\") # 이름이 바보이면 그냥 종료."
      ],
      "execution_count": 33,
      "outputs": [
        {
          "output_type": "stream",
          "text": [
            "return 의 용도: 함수 실행 종료\n",
            "나의 별명은 홍길동 입니다.\n"
          ],
          "name": "stdout"
        }
      ]
    },
    {
      "cell_type": "markdown",
      "metadata": {
        "id": "GKRG9GWeUb9q",
        "colab_type": "text"
      },
      "source": [
        "# ***매개변수에 초깃값 미리 설정하기***"
      ]
    },
    {
      "cell_type": "code",
      "metadata": {
        "id": "ddlKa69IUeeC",
        "colab_type": "code",
        "colab": {
          "base_uri": "https://localhost:8080/",
          "height": 197
        },
        "outputId": "1e1840aa-037b-4657-d789-1389a9893db4"
      },
      "source": [
        "print(\"매개변수에 초깃값 미리 설정하기\")\n",
        "#######################################\n",
        "def say_myself(name, old, man=True): \n",
        "    print(\"나의 이름은 %s 입니다.\" % name) \n",
        "    print(\"나이는 %d살입니다.\" % old) \n",
        "    if man: \n",
        "        print(\"남자입니다.\")\n",
        "    else: \n",
        "        print(\"여자입니다.\")\n",
        "    \n",
        "\n",
        "say_myself(\"박응용\", 27)\n",
        "say_myself(\"박응용\", 27, True)\n",
        "\n",
        "say_myself(\"박응용\", 27, False)\n",
        "\n",
        "\n",
        "#def say_myself2(name, man=True, old): \n",
        "#    print(\"나의 이름은 %s 입니다.\" % name) \n",
        "#    print(\"나이는 %d살입니다.\" % old) \n",
        "  #  if man: \n",
        "   #     print(\"남자입니다.\") \n",
        "    #else:\n",
        "     #   print(\"여자입니다.\")\n",
        "      \n",
        "      \n",
        "      \n",
        "#초깃값을 설정해 놓은 매개변수 뒤에 \n",
        "# 초깃값을 설정해 놓지 않은 매개변수는 사용할 수 없다\n",
        "# 초기화시키고 싶은 매개변수를 항상 뒤쪽에 놓는다."
      ],
      "execution_count": 37,
      "outputs": [
        {
          "output_type": "stream",
          "text": [
            "매개변수에 초깃값 미리 설정하기\n",
            "나의 이름은 박응용 입니다.\n",
            "나이는 27살입니다.\n",
            "남자입니다.\n",
            "나의 이름은 박응용 입니다.\n",
            "나이는 27살입니다.\n",
            "남자입니다.\n",
            "나의 이름은 박응용 입니다.\n",
            "나이는 27살입니다.\n",
            "여자입니다.\n"
          ],
          "name": "stdout"
        }
      ]
    },
    {
      "cell_type": "markdown",
      "metadata": {
        "id": "t6rhmsKjVUP5",
        "colab_type": "text"
      },
      "source": [
        "# ***함수 안에서 선언한 변수의 효력 범위***"
      ]
    },
    {
      "cell_type": "code",
      "metadata": {
        "id": "0Ha-FWi3VZp6",
        "colab_type": "code",
        "colab": {
          "base_uri": "https://localhost:8080/",
          "height": 262
        },
        "outputId": "21fe2094-24ac-4a7a-bd70-01b03aff9280"
      },
      "source": [
        "#######################################\n",
        "print(\"함수 안에서 선언한 변수의 효력 범위\")\n",
        "# 전역변수\n",
        "# 지역 변수, 자동 변수\n",
        "#######################################\n",
        "\n",
        "# vartest.py\n",
        "a = 1\n",
        "def vartest(a):\n",
        "   a = a +1\n",
        "   return a \n",
        "\n",
        "print(vartest(a)) #2\n",
        "print(a) # 1\n",
        "\n",
        "# vartest_error.py\n",
        "def vartest2(z2):\n",
        "    z2 = z2 + 1\n",
        "\n",
        "vartest2(3)\n",
        "\n",
        "#print(z2)  # Error\n",
        "            # 전역변수로 z2를 선언안하고 함수안에 지역변수로만 z2를 선언했기떄문에 정의하지않았다고 에러가뜸."
      ],
      "execution_count": 49,
      "outputs": [
        {
          "output_type": "stream",
          "text": [
            "함수 안에서 선언한 변수의 효력 범위\n",
            "2\n",
            "1\n"
          ],
          "name": "stdout"
        },
        {
          "output_type": "error",
          "ename": "NameError",
          "evalue": "ignored",
          "traceback": [
            "\u001b[0;31m---------------------------------------------------------------------------\u001b[0m",
            "\u001b[0;31mNameError\u001b[0m                                 Traceback (most recent call last)",
            "\u001b[0;32m<ipython-input-49-c67136fbcb0d>\u001b[0m in \u001b[0;36m<module>\u001b[0;34m()\u001b[0m\n\u001b[1;32m     19\u001b[0m \u001b[0mvartest2\u001b[0m\u001b[0;34m(\u001b[0m\u001b[0;36m3\u001b[0m\u001b[0;34m)\u001b[0m\u001b[0;34m\u001b[0m\u001b[0;34m\u001b[0m\u001b[0m\n\u001b[1;32m     20\u001b[0m \u001b[0;34m\u001b[0m\u001b[0m\n\u001b[0;32m---> 21\u001b[0;31m \u001b[0mprint\u001b[0m\u001b[0;34m(\u001b[0m\u001b[0mz2\u001b[0m\u001b[0;34m)\u001b[0m  \u001b[0;31m# Error\u001b[0m\u001b[0;34m\u001b[0m\u001b[0;34m\u001b[0m\u001b[0m\n\u001b[0m",
            "\u001b[0;31mNameError\u001b[0m: name 'z2' is not defined"
          ]
        }
      ]
    },
    {
      "cell_type": "markdown",
      "metadata": {
        "id": "Sseax3BHXWcV",
        "colab_type": "text"
      },
      "source": [
        "# ***함수 안에서 함수 밖의 변수를 변경하는 방법***\n"
      ]
    },
    {
      "cell_type": "markdown",
      "metadata": {
        "id": "e1sIP-tdXs2z",
        "colab_type": "text"
      },
      "source": [
        "# ***return 사용하기***"
      ]
    },
    {
      "cell_type": "code",
      "metadata": {
        "id": "vugBvJxNXvE4",
        "colab_type": "code",
        "colab": {
          "base_uri": "https://localhost:8080/",
          "height": 35
        },
        "outputId": "5894384c-6ed1-48a8-ec12-fb05e9986561"
      },
      "source": [
        "# 1. return 사용하기\n",
        "a = 1 \n",
        "def vartest3(a): \n",
        "    a = a +1 \n",
        "    return a\n",
        "\n",
        "a = vartest3(a)  # 2의 값을 리턴해주는데 그것을 다시 a로 제정의함.\n",
        "print(a) #2\n"
      ],
      "execution_count": 50,
      "outputs": [
        {
          "output_type": "stream",
          "text": [
            "2\n"
          ],
          "name": "stdout"
        }
      ]
    },
    {
      "cell_type": "markdown",
      "metadata": {
        "id": "0SrUkay7X0ty",
        "colab_type": "text"
      },
      "source": [
        "# ***global 사용하기***"
      ]
    },
    {
      "cell_type": "code",
      "metadata": {
        "id": "Dm4WpitrX3IB",
        "colab_type": "code",
        "colab": {
          "base_uri": "https://localhost:8080/",
          "height": 35
        },
        "outputId": "8908f7f1-ac1d-4bd2-c6fb-45c7af893340"
      },
      "source": [
        "a = 1 \n",
        "def vartest4(): \n",
        "    global a  #전역변수를 가져옴.\n",
        "    a = a+1 # 2가됨.\n",
        "               # 리턴하지않아도 값을 바꿀수가있음.\n",
        "vartest4()  \n",
        "print(a) # 2\n"
      ],
      "execution_count": 52,
      "outputs": [
        {
          "output_type": "stream",
          "text": [
            "2\n"
          ],
          "name": "stdout"
        }
      ]
    },
    {
      "cell_type": "markdown",
      "metadata": {
        "id": "AoA0qIVdYCA9",
        "colab_type": "text"
      },
      "source": [
        "# ***lambda함수***"
      ]
    },
    {
      "cell_type": "code",
      "metadata": {
        "id": "YEaSZtNrYEgB",
        "colab_type": "code",
        "colab": {
          "base_uri": "https://localhost:8080/",
          "height": 53
        },
        "outputId": "7af3b151-b061-4579-f370-dd9d9ad19f56"
      },
      "source": [
        "dd = lambda a, b: a+b # a, b를 받고 a+b의 값을 줌.\n",
        "\n",
        "result = add(3, 4)\n",
        "print(result)\n",
        "# lambda 매개변수1, 매개변수2, ... : 매개변수를 이용한 표현식\n",
        "#\n",
        "# lambda 예약어로 만든 함수는 return 명령어가 없어도 결괏값을 돌려준다.\n",
        "\n",
        "################################\n",
        "# lambda 함수의 응용\n",
        "#\n",
        "models = ['K-3000', 'N-1000', 'T-2000', 'X-5000']\n",
        "sorted(models, key=lambda x: x[-4:])\n",
        "#인덱싱으로 잘른 값을 키값으로 정렬한다음 반환해준다."
      ],
      "execution_count": 54,
      "outputs": [
        {
          "output_type": "stream",
          "text": [
            "7\n"
          ],
          "name": "stdout"
        },
        {
          "output_type": "execute_result",
          "data": {
            "text/plain": [
              "['N-1000', 'T-2000', 'K-3000', 'X-5000']"
            ]
          },
          "metadata": {
            "tags": []
          },
          "execution_count": 54
        }
      ]
    },
    {
      "cell_type": "markdown",
      "metadata": {
        "id": "q1tn1Ij2byK-",
        "colab_type": "text"
      },
      "source": [
        "# ***사용자 입력***"
      ]
    },
    {
      "cell_type": "code",
      "metadata": {
        "id": "9y1-bDr6b34H",
        "colab_type": "code",
        "colab": {
          "base_uri": "https://localhost:8080/",
          "height": 107
        },
        "outputId": "ea8803db-5463-4d54-8261-622945b3beb9"
      },
      "source": [
        "print(\"사용자 입력과 출력\")\n",
        "#######################################\n",
        "# 사용자의 입력을 받는 방법과 출력하는 방법\n",
        "#######################################\n",
        "\n",
        "print(\"사용자 입력\")\n",
        "# 사용자가 입력한 값을 어떤 변수에 대입\n",
        "#######################################\n",
        "print(\"input의 사용\")\n",
        "#######################################\n",
        "\n",
        "a = input()\n",
        "# Life is too short, you need python\n",
        "a"
      ],
      "execution_count": 56,
      "outputs": [
        {
          "output_type": "stream",
          "text": [
            "사용자 입력과 출력\n",
            "사용자 입력\n",
            "input의 사용\n",
            "웅웅\n"
          ],
          "name": "stdout"
        },
        {
          "output_type": "execute_result",
          "data": {
            "text/plain": [
              "'웅웅'"
            ]
          },
          "metadata": {
            "tags": []
          },
          "execution_count": 56
        }
      ]
    },
    {
      "cell_type": "markdown",
      "metadata": {
        "id": "hoj4aEnJb8d2",
        "colab_type": "text"
      },
      "source": [
        "# ***입력 안내문구를 이용한 input사용***"
      ]
    },
    {
      "cell_type": "code",
      "metadata": {
        "id": "TSmrLsTrb-yP",
        "colab_type": "code",
        "colab": {
          "base_uri": "https://localhost:8080/",
          "height": 71
        },
        "outputId": "d6687ba3-c0fc-4436-a69c-208c19aec8da"
      },
      "source": [
        "#######################################\n",
        "# input(\"안내 문구\")\n",
        "#######################################\n",
        "\n",
        "number = input(\"숫자를 입력하세요: \")\n",
        "\n",
        "print(number)\n",
        "\n"
      ],
      "execution_count": 60,
      "outputs": [
        {
          "output_type": "stream",
          "text": [
            "숫자를 입력하세요: 3\n",
            "3\n",
            "숫자를 입력해라2\n"
          ],
          "name": "stdout"
        }
      ]
    },
    {
      "cell_type": "markdown",
      "metadata": {
        "id": "XPrkrOlNcZl9",
        "colab_type": "text"
      },
      "source": [
        "# ***사용자 출력***"
      ]
    },
    {
      "cell_type": "code",
      "metadata": {
        "id": "dFTKeoIxccFo",
        "colab_type": "code",
        "colab": {
          "base_uri": "https://localhost:8080/",
          "height": 233
        },
        "outputId": "1e01a271-ee9d-434a-a1bd-f98046ffc2f1"
      },
      "source": [
        "print(\"사용자 출력: print()\")\n",
        "# 입력한 자료형을 출력\n",
        "#######################################\n",
        "print(\"print의 사용\")\n",
        "#######################################\n",
        "\n",
        "a = 123\n",
        "print(a)\n",
        "\n",
        "a = \"Python\"\n",
        "print(a)\n",
        "\n",
        "a = [1, 2, 3]\n",
        "print(a)\n",
        "\n",
        "#######################################\n",
        "print(\"큰따옴표(\\\")로 둘러싸인 문자열은 + 연산과 동일\")\n",
        "#\n",
        "print(\"life\" \"is\" \"too short\")\n",
        "print(\"life\"+\"is\"+\"too short\")\n",
        "\n",
        "\n",
        "#######################################\n",
        "print(\"문자열 띄어쓰기는 콤마로 한다\")\n",
        "#\n",
        "print(\"life\",\"is\",\"too short\")\n",
        "\n",
        "\n",
        "#######################################\n",
        "print(\"한 줄에 결괏값 출력하기\")\n",
        "#\n",
        "for i in range(10):\n",
        "    print(i, end=' ')"
      ],
      "execution_count": 61,
      "outputs": [
        {
          "output_type": "stream",
          "text": [
            "사용자 출력: print()\n",
            "print의 사용\n",
            "123\n",
            "Python\n",
            "[1, 2, 3]\n",
            "큰따옴표(\")로 둘러싸인 문자열은 + 연산과 동일\n",
            "lifeistoo short\n",
            "lifeistoo short\n",
            "문자열 띄어쓰기는 콤마로 한다\n",
            "life is too short\n",
            "한 줄에 결괏값 출력하기\n",
            "0 1 2 3 4 5 6 7 8 9 "
          ],
          "name": "stdout"
        }
      ]
    },
    {
      "cell_type": "markdown",
      "metadata": {
        "id": "3zoFwUt9dEwG",
        "colab_type": "text"
      },
      "source": [
        "# ***파일 ***"
      ]
    },
    {
      "cell_type": "code",
      "metadata": {
        "id": "udVXT2mEdPzv",
        "colab_type": "code",
        "colab": {
          "base_uri": "https://localhost:8080/",
          "height": 71
        },
        "outputId": "44fafde4-5094-4281-a999-5fb6332a6369"
      },
      "source": [
        "print(\"파일 읽고 쓰기\")\n",
        "#######################################\n",
        "# 파일을 통한 입출력 방법에 대해 알아보자.\n",
        "#######################################\n",
        "\n",
        "print(\"파일 쓰기(생성하기)\")\n",
        "#\n",
        "# 파일 객체 = open(파일 이름, 파일 열기 모드)\n",
        "#\n",
        "# 파일열기모드\n",
        "# r\t읽기모드 - 파일을 읽기만 할 때 사용\n",
        "# w\t쓰기모드 - 파일에 내용을 쓸 때 사용\n",
        "# a\t추가모드 - 파일의 마지막에 새로운 내용을 추가 시킬 때 사용\n",
        "#\n",
        "\n",
        "f = open(\"새파일.txt\", \"w\") #기존에 내용이 있더라도 w를 써서 쓰면 기존의 파일은 다날아감.\n",
        "f.close()\n",
        "# 파일이 어디에 만들어졌는 지 확인하시오!!!\n",
        "#ctrl+z를 누르면 빠져나감.\n",
        "# 다른 폴더에 파일 생성\n",
        "# 파일은 내가 지정해논 default폴더에 생성되기때문에 추가해줘야함.\n",
        "#import sys import를 시켜야함.\n",
        "#sys.exit() 빠져나가는 함수\n",
        "\"\"\"\n",
        "f = open(\"C:/doit/새파일.txt\", 'w')\n",
        "f.close()\n",
        "\"\"\""
      ],
      "execution_count": 62,
      "outputs": [
        {
          "output_type": "stream",
          "text": [
            "파일 읽고 쓰기\n",
            "파일 쓰기(생성하기)\n"
          ],
          "name": "stdout"
        },
        {
          "output_type": "execute_result",
          "data": {
            "text/plain": [
              "'\\nf = open(\"C:/doit/새파일.txt\", \\'w\\')\\nf.close()\\n'"
            ]
          },
          "metadata": {
            "tags": []
          },
          "execution_count": 62
        }
      ]
    },
    {
      "cell_type": "markdown",
      "metadata": {
        "id": "I5GNyhs9gZAJ",
        "colab_type": "text"
      },
      "source": [
        "# ***파일을 쓰기 모드로 열어 출력값적기 \n",
        "# ***모니터에 출력하기***"
      ]
    },
    {
      "cell_type": "code",
      "metadata": {
        "id": "W32o35dMgch1",
        "colab_type": "code",
        "colab": {
          "base_uri": "https://localhost:8080/",
          "height": 377
        },
        "outputId": "723b6db5-49af-4720-aaaf-a5b40daf9809"
      },
      "source": [
        "for i in range(1, 11):\n",
        "    data = \"%d번째 줄입니다.\\n\" % i\n",
        "    print(data) \n",
        "    \n"
      ],
      "execution_count": 63,
      "outputs": [
        {
          "output_type": "stream",
          "text": [
            "1번째 줄입니다.\n",
            "\n",
            "2번째 줄입니다.\n",
            "\n",
            "3번째 줄입니다.\n",
            "\n",
            "4번째 줄입니다.\n",
            "\n",
            "5번째 줄입니다.\n",
            "\n",
            "6번째 줄입니다.\n",
            "\n",
            "7번째 줄입니다.\n",
            "\n",
            "8번째 줄입니다.\n",
            "\n",
            "9번째 줄입니다.\n",
            "\n",
            "10번째 줄입니다.\n",
            "\n"
          ],
          "name": "stdout"
        }
      ]
    },
    {
      "cell_type": "markdown",
      "metadata": {
        "id": "d687kiiCguuG",
        "colab_type": "text"
      },
      "source": [
        "# ***파일에 기록(출력)***"
      ]
    },
    {
      "cell_type": "code",
      "metadata": {
        "id": "iBnkWTKUgxPu",
        "colab_type": "code",
        "colab": {}
      },
      "source": [
        "# 파일에 기록(출력)\n",
        "# writedata.py\n",
        "f = open(\"./새파일.txt\", \"w\") #파일을쓰기모드로 염.\n",
        "for i in range(1, 11):\n",
        "    data = \"%d번째 줄입니다.\\n\" % i\n",
        "    f.write(data) #data하나하나를 data에 넣어줌.\n",
        "    # 파일 > 기본설정 > 설정 > Files: Auto Guess Encoding 을 지정(check)\n",
        " \n",
        "f.close()"
      ],
      "execution_count": 0,
      "outputs": []
    },
    {
      "cell_type": "markdown",
      "metadata": {
        "id": "xpn07h9khDpF",
        "colab_type": "text"
      },
      "source": [
        "# ***파일 읽기***\n",
        "# ***readline함수 사용하기***"
      ]
    },
    {
      "cell_type": "code",
      "metadata": {
        "id": "3lcoDqibhF9V",
        "colab_type": "code",
        "colab": {
          "base_uri": "https://localhost:8080/",
          "height": 413
        },
        "outputId": "7f166a6d-26e1-46be-db84-03f13262652a"
      },
      "source": [
        "# 1. readline() 함수\n",
        "# readline_test.py\n",
        "f = open(\"새파일.txt\", \"r\")\n",
        "line = f.readline()\n",
        "print(line) #한줄씩 읽어들임.\n",
        "f.close()\n",
        "\n",
        "# readline_all.py\n",
        "f = open(\"새파일.txt\", \"r\")\n",
        "while True: #계속읽어들이다가 이제 읽을 자료가 없으면 break로 탈출.\n",
        "    line = f.readline()\n",
        "    if not line:\n",
        "        break\n",
        "    print(line)\n",
        "f.close()"
      ],
      "execution_count": 66,
      "outputs": [
        {
          "output_type": "stream",
          "text": [
            "1번째 줄입니다.\n",
            "\n",
            "1번째 줄입니다.\n",
            "\n",
            "2번째 줄입니다.\n",
            "\n",
            "3번째 줄입니다.\n",
            "\n",
            "4번째 줄입니다.\n",
            "\n",
            "5번째 줄입니다.\n",
            "\n",
            "6번째 줄입니다.\n",
            "\n",
            "7번째 줄입니다.\n",
            "\n",
            "8번째 줄입니다.\n",
            "\n",
            "9번째 줄입니다.\n",
            "\n",
            "10번째 줄입니다.\n",
            "\n"
          ],
          "name": "stdout"
        }
      ]
    },
    {
      "cell_type": "markdown",
      "metadata": {
        "id": "xKTTt302ih5m",
        "colab_type": "text"
      },
      "source": [
        "# ***사용자 입력을 이용한 화면 출력.***"
      ]
    },
    {
      "cell_type": "code",
      "metadata": {
        "id": "qu92G33LimsF",
        "colab_type": "code",
        "colab": {}
      },
      "source": [
        "while 1: #입력값이 있으면 계속 출력하고 없으면 break로 탈출.\n",
        "    data = input()\n",
        "    if not data:\n",
        "        break\n",
        "    print(data)\n"
      ],
      "execution_count": 0,
      "outputs": []
    },
    {
      "cell_type": "markdown",
      "metadata": {
        "id": "KcsKKo0PiuiC",
        "colab_type": "text"
      },
      "source": [
        "# ***readlines()함수 사용하기***"
      ]
    },
    {
      "cell_type": "code",
      "metadata": {
        "id": "kc9SKyvPi4l8",
        "colab_type": "code",
        "colab": {
          "base_uri": "https://localhost:8080/",
          "height": 377
        },
        "outputId": "b115e2ea-078b-439f-f469-da9c44e59de1"
      },
      "source": [
        "# 2. readlines() 함수\n",
        "f = open(\"새파일.txt\", \"r\")\n",
        "lines = f.readlines() #모든정보를 lines에 넘겨줌.\n",
        "for line in lines: #line변수에 저장.\n",
        "    print(line)  # , end=\"\")\n",
        "f.close()"
      ],
      "execution_count": 67,
      "outputs": [
        {
          "output_type": "stream",
          "text": [
            "1번째 줄입니다.\n",
            "\n",
            "2번째 줄입니다.\n",
            "\n",
            "3번째 줄입니다.\n",
            "\n",
            "4번째 줄입니다.\n",
            "\n",
            "5번째 줄입니다.\n",
            "\n",
            "6번째 줄입니다.\n",
            "\n",
            "7번째 줄입니다.\n",
            "\n",
            "8번째 줄입니다.\n",
            "\n",
            "9번째 줄입니다.\n",
            "\n",
            "10번째 줄입니다.\n",
            "\n"
          ],
          "name": "stdout"
        }
      ]
    },
    {
      "cell_type": "markdown",
      "metadata": {
        "id": "CeVJrngxjDfG",
        "colab_type": "text"
      },
      "source": [
        "# ***read 함수 사용하기***"
      ]
    },
    {
      "cell_type": "code",
      "metadata": {
        "id": "OrJpPUaBjFKf",
        "colab_type": "code",
        "colab": {
          "base_uri": "https://localhost:8080/",
          "height": 233
        },
        "outputId": "cbe1cc51-0447-456b-dfc4-d68ef5af081f"
      },
      "source": [
        "# 3. read() 함수\n",
        "f = open(\"새파일.txt\", \"r\")\n",
        "data = f.read()\n",
        "print(data)\n",
        "f.close()\n",
        "\n"
      ],
      "execution_count": 70,
      "outputs": [
        {
          "output_type": "stream",
          "text": [
            "1번째 줄입니다.\n",
            "2번째 줄입니다.\n",
            "3번째 줄입니다.\n",
            "4번째 줄입니다.\n",
            "5번째 줄입니다.\n",
            "6번째 줄입니다.\n",
            "7번째 줄입니다.\n",
            "8번째 줄입니다.\n",
            "9번째 줄입니다.\n",
            "10번째 줄입니다.\n",
            "\n",
            "['1번째 줄입니다.\\n', '2번째 줄입니다.\\n', '3번째 줄입니다.\\n', '4번째 줄입니다.\\n', '5번째 줄입니다.\\n', '6번째 줄입니다.\\n', '7번째 줄입니다.\\n', '8번째 줄입니다.\\n', '9번째 줄입니다.\\n', '10번째 줄입니다.\\n']\n"
          ],
          "name": "stdout"
        }
      ]
    },
    {
      "cell_type": "markdown",
      "metadata": {
        "id": "KIWutgmijf9c",
        "colab_type": "text"
      },
      "source": [
        "# ***파일에 새로운 내용 추가하기***"
      ]
    },
    {
      "cell_type": "code",
      "metadata": {
        "id": "pTt5n8vDjipe",
        "colab_type": "code",
        "colab": {
          "base_uri": "https://localhost:8080/",
          "height": 377
        },
        "outputId": "11fd63a8-a978-40bc-d1cc-0c42f1ceec01"
      },
      "source": [
        "# adddata.py\n",
        "f = open(\"새파일.txt\", \"a\") #맨뒤 데이터부터 새로운 자료를 추가함.\n",
        "for i in range(11, 20):\n",
        "    data = \"%d번째 줄입니다.\\n\" % i\n",
        "    f.write(data)\n",
        "f.close()\n",
        "\n",
        "# 수정된 파일 확인\n",
        "f = open(\"새파일.txt\", \"r\")\n",
        "data = f.read()\n",
        "print(data)\n",
        "f.close()\n"
      ],
      "execution_count": 71,
      "outputs": [
        {
          "output_type": "stream",
          "text": [
            "1번째 줄입니다.\n",
            "2번째 줄입니다.\n",
            "3번째 줄입니다.\n",
            "4번째 줄입니다.\n",
            "5번째 줄입니다.\n",
            "6번째 줄입니다.\n",
            "7번째 줄입니다.\n",
            "8번째 줄입니다.\n",
            "9번째 줄입니다.\n",
            "10번째 줄입니다.\n",
            "11번째 줄입니다.\n",
            "12번째 줄입니다.\n",
            "13번째 줄입니다.\n",
            "14번째 줄입니다.\n",
            "15번째 줄입니다.\n",
            "16번째 줄입니다.\n",
            "17번째 줄입니다.\n",
            "18번째 줄입니다.\n",
            "19번째 줄입니다.\n",
            "\n"
          ],
          "name": "stdout"
        }
      ]
    },
    {
      "cell_type": "markdown",
      "metadata": {
        "id": "kgP3dr9ckJLS",
        "colab_type": "text"
      },
      "source": [
        "# ***with문과 함께 사용하기***"
      ]
    },
    {
      "cell_type": "code",
      "metadata": {
        "id": "Yi7zhYOvkMO3",
        "colab_type": "code",
        "colab": {}
      },
      "source": [
        "#\n",
        "# with문을 사용하면 with 블록을 벗어나는 순간\n",
        "# 열린 파일 객체 f가 자동으로 close 된다.\n",
        "#\n",
        "f = open(\"foo.txt\", \"w\")\n",
        "f.write(\"Life is too short, you need python\")\n",
        "f.close()\n",
        "\n",
        "with open(\"foo1.txt\", \"w\") as f:\n",
        "    f.write(\"Life is too short, you need python\")\n"
      ],
      "execution_count": 0,
      "outputs": []
    }
  ]
}