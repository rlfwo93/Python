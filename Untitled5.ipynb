{
  "nbformat": 4,
  "nbformat_minor": 0,
  "metadata": {
    "colab": {
      "name": "Untitled5.ipynb",
      "provenance": [],
      "include_colab_link": true
    },
    "kernelspec": {
      "name": "python3",
      "display_name": "Python 3"
    }
  },
  "cells": [
    {
      "cell_type": "markdown",
      "metadata": {
        "id": "view-in-github",
        "colab_type": "text"
      },
      "source": [
        "<a href=\"https://colab.research.google.com/github/rlfwo93/Python/blob/master/Untitled5.ipynb\" target=\"_parent\"><img src=\"https://colab.research.google.com/assets/colab-badge.svg\" alt=\"Open In Colab\"/></a>"
      ]
    },
    {
      "cell_type": "markdown",
      "metadata": {
        "id": "RRgSY40sA2Y9",
        "colab_type": "text"
      },
      "source": [
        "#**06-1 내가 프로그램을 만들 수 있을까?**\n"
      ]
    },
    {
      "cell_type": "code",
      "metadata": {
        "colab_type": "code",
        "outputId": "358491c2-e308-4a26-fcdc-07a7a124ae42",
        "id": "UCXQhC-qB5-K",
        "colab": {
          "base_uri": "https://localhost:8080/",
          "height": 54
        }
      },
      "source": [
        "print(\"첫번째 방법\")\n",
        "def GuGu(n):\n",
        "    result = []\n",
        "    i = 1 #증가값을 초기화해줌.\n",
        "    while i < 10: #while문이 break되는 조건\n",
        "        result.append(n * i) #배열에 값을 추가해줌.\n",
        "        i = i + 1\n",
        "    return result\n",
        "\n",
        "print(\"출력값 :{0}\".format(GuGu(2)))"
      ],
      "execution_count": 0,
      "outputs": [
        {
          "output_type": "stream",
          "text": [
            "첫번째 방법\n",
            "출력값 :[2, 4, 6, 8, 10, 12, 14, 16, 18]\n"
          ],
          "name": "stdout"
        }
      ]
    },
    {
      "cell_type": "code",
      "metadata": {
        "id": "wKbPTSSRB6xU",
        "colab_type": "code",
        "colab": {
          "base_uri": "https://localhost:8080/",
          "height": 53
        },
        "outputId": "22aba80e-5d02-4539-97cc-e897459258ed"
      },
      "source": [
        "print(\"두번쨰방법\")\n",
        "\n",
        "def gugu(i):\n",
        "  result=[]\n",
        "  for n in range(1,10):\n",
        "    result.append(n*i)\n",
        "  return result\n",
        "print(\"출력값 :{0}\".format(gugu(2)))"
      ],
      "execution_count": 18,
      "outputs": [
        {
          "output_type": "stream",
          "text": [
            "두번쨰방법\n",
            "출력값 :[2, 4, 6, 8, 10, 12, 14, 16, 18]\n"
          ],
          "name": "stdout"
        }
      ]
    },
    {
      "cell_type": "markdown",
      "metadata": {
        "id": "Q2oyQI-M-dud",
        "colab_type": "text"
      },
      "source": [
        "# *문제2: 3과5의 배수 합하기*\n",
        "\n",
        "입력받는 값은? 1부터999까지\n",
        "\n",
        "출력하는 값은? 3의 배수와 5의 배수의 총합"
      ]
    },
    {
      "cell_type": "code",
      "metadata": {
        "id": "tnLgbFDt-w7-",
        "colab_type": "code",
        "colab": {
          "base_uri": "https://localhost:8080/",
          "height": 53
        },
        "outputId": "4a227591-3698-431d-f559-4e392d333ad2"
      },
      "source": [
        "print(\"첫번째 방법\")\n",
        "result=0\n",
        "\n",
        "for i in range(1,1000): \n",
        "  if i%3==0 or i%5==0 : # 논리연사자 or을 써서 둘장하나만 True이면 result에 값을 더해줌,\n",
        "    result+=i \n",
        "\n",
        "print(\"출력값: {0}\".format(result))"
      ],
      "execution_count": 3,
      "outputs": [
        {
          "output_type": "stream",
          "text": [
            "첫번째 방법\n",
            "출력값: 233168\n"
          ],
          "name": "stdout"
        }
      ]
    },
    {
      "cell_type": "code",
      "metadata": {
        "id": "VseBE8qH_7NP",
        "colab_type": "code",
        "colab": {
          "base_uri": "https://localhost:8080/",
          "height": 53
        },
        "outputId": "41420c3f-f74f-4292-e2b6-9cf83ffd5e9c"
      },
      "source": [
        "print(\"두번째 방법\")\n",
        "result=0\n",
        "i=1 # 증가할 값을 설정해줌.\n",
        "\n",
        "while i<1000:\n",
        "  if i%3==0 or i%5==0 : # 논리연사자 or을 써서 둘장하나만 True이면 result에 값을 더해줌,\n",
        "    result+=i\n",
        "  i+=1\n",
        "\n",
        "\n",
        "print(\"출력값: {0}\".format(result))"
      ],
      "execution_count": 7,
      "outputs": [
        {
          "output_type": "stream",
          "text": [
            "두번째 방법\n",
            "출력값: 233168\n"
          ],
          "name": "stdout"
        }
      ]
    },
    {
      "cell_type": "markdown",
      "metadata": {
        "id": "qXjQhOyfCopu",
        "colab_type": "text"
      },
      "source": [
        "#**06-3 게시판 페이징하기**\n",
        "\n",
        "**함수 이름은? getTotalPage**\n",
        "\n",
        "**입력 받는 값은? 게시물의 총 건수(m), 한 페이지에 보여줄 게시물 수(n)**\n",
        "\n",
        "**출력하는 값은? 총 페이지수**"
      ]
    },
    {
      "cell_type": "code",
      "metadata": {
        "id": "A_Ea7mXpDBgH",
        "colab_type": "code",
        "colab": {
          "base_uri": "https://localhost:8080/",
          "height": 107
        },
        "outputId": "e8f5c2ef-030e-4675-d71c-ad807220c6d3"
      },
      "source": [
        "def getTotalPage(m, n):\n",
        "    if m % n == 0:   #총건수랑 건수가 같을때 1이 나오도록 공식을 만듬.\n",
        "        return m // n\n",
        "    else:\n",
        "        return m // n + 1  # 총페이지를 구하는 공식\n",
        "\n",
        "print(getTotalPage(5, 10))\n",
        "print(getTotalPage(10, 10))\n",
        "print(getTotalPage(15, 10))\n",
        "print(getTotalPage(25, 10))\n",
        "print(getTotalPage(30, 10))"
      ],
      "execution_count": 20,
      "outputs": [
        {
          "output_type": "stream",
          "text": [
            "1\n",
            "1\n",
            "2\n",
            "3\n",
            "3\n"
          ],
          "name": "stdout"
        }
      ]
    },
    {
      "cell_type": "code",
      "metadata": {
        "id": "HZJjAiZ3Egvl",
        "colab_type": "code",
        "colab": {}
      },
      "source": [
        ""
      ],
      "execution_count": 0,
      "outputs": []
    }
  ]
}