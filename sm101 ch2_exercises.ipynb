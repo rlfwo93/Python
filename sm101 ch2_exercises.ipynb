{
  "nbformat": 4,
  "nbformat_minor": 0,
  "metadata": {
    "colab": {
      "name": "Untitled1.ipynb",
      "provenance": [],
      "include_colab_link": true
    },
    "kernelspec": {
      "name": "python3",
      "display_name": "Python 3"
    }
  },
  "cells": [
    {
      "cell_type": "markdown",
      "metadata": {
        "id": "view-in-github",
        "colab_type": "text"
      },
      "source": [
        "<a href=\"https://colab.research.google.com/github/rlfwo93/Python/blob/master/sm101%20ch2_exercises.ipynb\" target=\"_parent\"><img src=\"https://colab.research.google.com/assets/colab-badge.svg\" alt=\"Open In Colab\"/></a>"
      ]
    },
    {
      "cell_type": "markdown",
      "metadata": {
        "id": "MyjmTdL15g0H",
        "colab_type": "text"
      },
      "source": [
        "20151534 sm101박진석"
      ]
    },
    {
      "cell_type": "markdown",
      "metadata": {
        "id": "2Ifk3DOqn9bJ",
        "colab_type": "text"
      },
      "source": [
        "\n",
        "# ***Q1.***\n",
        "# ***홍길동 씨의 과목별 점수는 다음과 같다. 홍길동 씨의 평균 점수를 구해 보자.***\n",
        "\n",
        "# ***과목 점수***\n",
        "# ***국어 80***\n",
        "# ***영어 75***\n",
        "# ***수학 55***"
      ]
    },
    {
      "cell_type": "code",
      "metadata": {
        "id": "oUVn8dGdoIU8",
        "colab_type": "code",
        "colab": {
          "base_uri": "https://localhost:8080/",
          "height": 53
        },
        "outputId": "e4f52ec0-133a-40f0-97d8-2b716502204d"
      },
      "source": [
        "print(\"첫번째 방법\")\n",
        "\n",
        "\n",
        "average=(80+75+55)//3\n",
        "print(\"평균점수는{0}점입니다\".format(average))\n",
        "\n",
        "\n"
      ],
      "execution_count": 86,
      "outputs": [
        {
          "output_type": "stream",
          "text": [
            "첫번째 방법\n",
            "평균점수는70점입니다\n"
          ],
          "name": "stdout"
        }
      ]
    },
    {
      "cell_type": "code",
      "metadata": {
        "id": "tQUJ95zWsOYA",
        "colab_type": "code",
        "colab": {
          "base_uri": "https://localhost:8080/",
          "height": 53
        },
        "outputId": "6607c49c-5609-44b7-f836-dbfb036dff1a"
      },
      "source": [
        "print(\"두번째 방법\")\n",
        "li=[80,75,55]\n",
        "print(\"평균점수는{0}점입니다\".format(sum(li)//3))\n"
      ],
      "execution_count": 85,
      "outputs": [
        {
          "output_type": "stream",
          "text": [
            "두번째 방법\n",
            "평균점수는70점입니다\n"
          ],
          "name": "stdout"
        }
      ]
    },
    {
      "cell_type": "markdown",
      "metadata": {
        "id": "iIaHlOQKpEuU",
        "colab_type": "text"
      },
      "source": [
        "# ***Q2.***\n",
        "# ***자연수 13이 홀수인지 짝수인지 판별할 수 있는 방법에 대해 말해 보자.***\n",
        "# **판별 기준**\n",
        "# ***코드***"
      ]
    },
    {
      "cell_type": "code",
      "metadata": {
        "id": "67NvVH3YpZPq",
        "colab_type": "code",
        "colab": {
          "base_uri": "https://localhost:8080/",
          "height": 53
        },
        "outputId": "50a431a5-58f0-4c9e-8c06-e68e1cb0c54f"
      },
      "source": [
        "print(\"첫번째 방법\")\n",
        "if 13%2==0:\n",
        "    print(\"13은짝수\")\n",
        "else:\n",
        "    print(\"13은홀수\")\n",
        "  \n",
        "  \n",
        "  \n",
        "  "
      ],
      "execution_count": 19,
      "outputs": [
        {
          "output_type": "stream",
          "text": [
            "Q2.First\n",
            "13은홀수\n"
          ],
          "name": "stdout"
        }
      ]
    },
    {
      "cell_type": "code",
      "metadata": {
        "id": "Hf5lwAv9sS40",
        "colab_type": "code",
        "colab": {
          "base_uri": "https://localhost:8080/",
          "height": 53
        },
        "outputId": "5b3263ac-d5a9-4066-8009-70f8543de40f"
      },
      "source": [
        "print(\"두번째 방법\")\n",
        "if 13%3==0:\n",
        "    print(\"13은짝수\")\n",
        "else:\n",
        "    print(\"13은홀수\")"
      ],
      "execution_count": 18,
      "outputs": [
        {
          "output_type": "stream",
          "text": [
            "Q2.Second\n",
            "13은홀수\n"
          ],
          "name": "stdout"
        }
      ]
    },
    {
      "cell_type": "markdown",
      "metadata": {
        "id": "7ywBQ7_kqZgb",
        "colab_type": "text"
      },
      "source": [
        "# ***Q3***\n",
        "# ***홍길동 씨의 주민등록번호는 881120-1068234이다. 홍길동 씨의 주민등록번호를 연월일(YYYYMMDD) 부분과 그 뒤의 숫자 부분으로 나누어 출력해 보자.***"
      ]
    },
    {
      "cell_type": "code",
      "metadata": {
        "id": "IXi8C4a8qhj2",
        "colab_type": "code",
        "colab": {
          "base_uri": "https://localhost:8080/",
          "height": 71
        },
        "outputId": "2e3c2ef9-3277-4cca-904f-7017ca4395ab"
      },
      "source": [
        "print(\"첫번째 방법\")\n",
        "\n",
        "Number=\"881120-1068234\"\n",
        "li=Number.split(\"-\")\n",
        "print(li[0])\n",
        "print(li[1])\n",
        "\n"
      ],
      "execution_count": 20,
      "outputs": [
        {
          "output_type": "stream",
          "text": [
            "Q3.First\n",
            "881120\n",
            "1068234\n"
          ],
          "name": "stdout"
        }
      ]
    },
    {
      "cell_type": "code",
      "metadata": {
        "id": "JJe5tMiOsa-v",
        "colab_type": "code",
        "colab": {
          "base_uri": "https://localhost:8080/",
          "height": 71
        },
        "outputId": "7d590a9a-c58c-4c4d-93ff-7c1debc651b7"
      },
      "source": [
        "print(\"두번째 방법\")\n",
        "Number=\"881120-1068234\"\n",
        "print(Number[0:6])\n",
        "print(Number[7:])"
      ],
      "execution_count": 21,
      "outputs": [
        {
          "output_type": "stream",
          "text": [
            "Q3.Second\n",
            "881120\n",
            "1068234\n"
          ],
          "name": "stdout"
        }
      ]
    },
    {
      "cell_type": "markdown",
      "metadata": {
        "id": "H5LXh9iFrjOs",
        "colab_type": "text"
      },
      "source": [
        "# ***Q4.***\n",
        "# ***주민등록번호 뒷자리의 맨 첫 번째 숫자는 성별을 나타낸다. 주민등록번호에서 성별을 나타내는 숫자를 출력해 보자.***\n",
        "\n",
        "# ***pin = \"881120-1068234\"***\n",
        "# ***※ 문자열 인덱싱 또는 내장함수를 사용해 보자.***\n",
        "# ***문자열포맷팅을 이용해서 성별을 출력하시오.***"
      ]
    },
    {
      "cell_type": "code",
      "metadata": {
        "id": "kKpHwIGbuaTj",
        "colab_type": "code",
        "colab": {
          "base_uri": "https://localhost:8080/",
          "height": 53
        },
        "outputId": "9401ffef-be25-425e-ae11-6aabf5b29754"
      },
      "source": [
        "print(\"첫번째 방법\")\n",
        "pin = \"881120-1068234\"\n",
        "\n",
        "if pin[7:8]==\"1\":\n",
        "  print(\"{0}이므로 남자입니다\".format(pin[7:8]))\n",
        "else:\n",
        "   print(\"{0}이므로 여자입니다\".format(pin[7:8]))"
      ],
      "execution_count": 24,
      "outputs": [
        {
          "output_type": "stream",
          "text": [
            "첫번째 방법\n",
            "1이므로 남자입니다\n"
          ],
          "name": "stdout"
        }
      ]
    },
    {
      "cell_type": "code",
      "metadata": {
        "id": "BYWimkwZu72P",
        "colab_type": "code",
        "colab": {
          "base_uri": "https://localhost:8080/",
          "height": 53
        },
        "outputId": "71c1facd-b934-4fd0-fc9b-56ae2cde8286"
      },
      "source": [
        "print(\"두번째 방법\")\n",
        "pin = \"881120-1068234\"\n",
        "li=pin.split(\"-\")\n",
        "if li[1][0:1]==\"1\":\n",
        "  print(\"{0}이므로 남자입니다\".format(li[1][0:1]))\n",
        "else:\n",
        "   print(\"{0}이므로 여자입니다\".format(li[1][0:1]))"
      ],
      "execution_count": 45,
      "outputs": [
        {
          "output_type": "stream",
          "text": [
            "두번째 방법\n",
            "1이므로 남자입니다\n"
          ],
          "name": "stdout"
        }
      ]
    },
    {
      "cell_type": "markdown",
      "metadata": {
        "id": "OTHb5k9gve4Q",
        "colab_type": "text"
      },
      "source": [
        "# ***Q.5***\n",
        "# ***다음과 같은 문자열 a:b:c:d가 있다. 문자열의 replace 함수를 사용하여 a#b#c#d로 바꿔서 출력해 보자.***\n",
        "\n",
        "# ***a = \"a:b:c:d\"***"
      ]
    },
    {
      "cell_type": "code",
      "metadata": {
        "id": "i5O5gL4Ev1sC",
        "colab_type": "code",
        "colab": {
          "base_uri": "https://localhost:8080/",
          "height": 53
        },
        "outputId": "427d6e19-f6a0-49cb-b37a-5f7ddee7cb7d"
      },
      "source": [
        "print(\"첫번째 방법\")\n",
        "a=\"a:b:c:d\"\n",
        "print(a.replace(\":\",\"#\"))"
      ],
      "execution_count": 87,
      "outputs": [
        {
          "output_type": "stream",
          "text": [
            "첫번째 방법\n",
            "a#b#c#d\n"
          ],
          "name": "stdout"
        }
      ]
    },
    {
      "cell_type": "code",
      "metadata": {
        "id": "A2G4hTFfwCWF",
        "colab_type": "code",
        "colab": {
          "base_uri": "https://localhost:8080/",
          "height": 53
        },
        "outputId": "8e491b28-c7a0-405b-c673-243b51fb814f"
      },
      "source": [
        "print(\"두번째 방법\")\n",
        "print(a[0:1]+\"#\"+a[2:3]+\"#\"+a[4:5]+\"#\"+a[-1:])"
      ],
      "execution_count": 88,
      "outputs": [
        {
          "output_type": "stream",
          "text": [
            "두번째 방법\n",
            "a#b#c#d\n"
          ],
          "name": "stdout"
        }
      ]
    },
    {
      "cell_type": "markdown",
      "metadata": {
        "id": "rI5mHLOXw76h",
        "colab_type": "text"
      },
      "source": [
        "# ***Q6.***\n",
        "# ***[1, 3, 5, 4, 2] 리스트를 [5, 4, 3, 2, 1]로 만들어 보자.***\n",
        "\n",
        "# ***※ 리스트의 내장 함수를 사용해 보자***"
      ]
    },
    {
      "cell_type": "code",
      "metadata": {
        "id": "cOKYr469w_sN",
        "colab_type": "code",
        "colab": {
          "base_uri": "https://localhost:8080/",
          "height": 53
        },
        "outputId": "5aab571b-ffec-43b1-c8cf-66eae8a5a3f3"
      },
      "source": [
        "print(\"첫번째 방법\")\n",
        "a=[1,3,5,4,2]\n",
        "a.sort(reverse=True)\n",
        "print(a)"
      ],
      "execution_count": 89,
      "outputs": [
        {
          "output_type": "stream",
          "text": [
            "첫번째 방법\n",
            "[5, 4, 3, 2, 1]\n"
          ],
          "name": "stdout"
        }
      ]
    },
    {
      "cell_type": "code",
      "metadata": {
        "id": "veOk_GWoxbRY",
        "colab_type": "code",
        "colab": {
          "base_uri": "https://localhost:8080/",
          "height": 53
        },
        "outputId": "1bba6980-bdac-48a5-a097-8ad8ebc080bf"
      },
      "source": [
        "print(\"두번째 방법\")\n",
        "a=[1,3,5,4,2]\n",
        "a.sort()\n",
        "li=[]\n",
        "for i in range(len(a)):\n",
        "  li.append(a[len(a)-1-i])\n",
        "print(li)"
      ],
      "execution_count": 90,
      "outputs": [
        {
          "output_type": "stream",
          "text": [
            "두번째 방법\n",
            "[5, 4, 3, 2, 1]\n"
          ],
          "name": "stdout"
        }
      ]
    },
    {
      "cell_type": "markdown",
      "metadata": {
        "id": "i3TIj-IXx-EQ",
        "colab_type": "text"
      },
      "source": [
        "# ***Q7.***\n",
        "# ***['Life', 'is', 'too', 'short'] 리스트를 Life is too short 문자열로 만들어 출력해 보자.***\n",
        "# ***※ 문자열의 join 함수를 사용하면 리스트를 문자열로 쉽게 만들 수 있다.***"
      ]
    },
    {
      "cell_type": "code",
      "metadata": {
        "id": "X82wbYX8yJu7",
        "colab_type": "code",
        "colab": {
          "base_uri": "https://localhost:8080/",
          "height": 53
        },
        "outputId": "69a50cda-69b9-4fb4-941e-2e35c140e71b"
      },
      "source": [
        "print(\"첫번째 방법\")\n",
        "str1=['Life', 'is', 'too', 'short']\n",
        "str1=\" \".join(str1)\n",
        "print(str1)"
      ],
      "execution_count": 91,
      "outputs": [
        {
          "output_type": "stream",
          "text": [
            "첫번째 방법\n",
            "Life is too short\n"
          ],
          "name": "stdout"
        }
      ]
    },
    {
      "cell_type": "code",
      "metadata": {
        "id": "RU2PbI7VycgZ",
        "colab_type": "code",
        "colab": {
          "base_uri": "https://localhost:8080/",
          "height": 53
        },
        "outputId": "5755eb59-d8df-4265-f6fc-5162ec780264"
      },
      "source": [
        "print(\"두번째 방법\")\n",
        "str1=['Life', 'is', 'too', 'short']\n",
        "str2=\"\"\n",
        "for i in range(len(str1)):\n",
        "  str2+=str1[i]\n",
        "  str2+=\" \"\n",
        "print(str2)\n",
        "  "
      ],
      "execution_count": 92,
      "outputs": [
        {
          "output_type": "stream",
          "text": [
            "두번째 방법\n",
            "Life is too short \n"
          ],
          "name": "stdout"
        }
      ]
    },
    {
      "cell_type": "markdown",
      "metadata": {
        "id": "9-owA4kBy_bA",
        "colab_type": "text"
      },
      "source": [
        "# ***Q8.***\n",
        "# ***(1,2,3) 튜플에 값 4를 추가하여 (1,2,3,4)를 만들어 출력해 보자.***\n",
        "\n",
        "## ※ 더하기(+) 또는 다른 방법들을 사용해 보자."
      ]
    },
    {
      "cell_type": "code",
      "metadata": {
        "id": "kCjfxJAPzq4y",
        "colab_type": "code",
        "colab": {
          "base_uri": "https://localhost:8080/",
          "height": 53
        },
        "outputId": "9d705138-ac22-41e1-b50d-1c282c45eb8e"
      },
      "source": [
        "print(\"첫번째 방법\")\n",
        "t1=(1,2,3)\n",
        "t1+=(4,)\n",
        "print(t1)"
      ],
      "execution_count": 93,
      "outputs": [
        {
          "output_type": "stream",
          "text": [
            "첫번째 방법\n",
            "(1, 2, 3, 4)\n"
          ],
          "name": "stdout"
        }
      ]
    },
    {
      "cell_type": "code",
      "metadata": {
        "id": "IBCdnihQ0DXh",
        "colab_type": "code",
        "colab": {
          "base_uri": "https://localhost:8080/",
          "height": 53
        },
        "outputId": "b9f96f7d-2ed1-4b94-f142-250d40e1d6d4"
      },
      "source": [
        "print(\"두번째 방법\")\n",
        "t1=(1,2,3)\n",
        "li=list(t1)\n",
        "li.append(4)\n",
        "t1=tuple(li)\n",
        "print(t1)"
      ],
      "execution_count": 94,
      "outputs": [
        {
          "output_type": "stream",
          "text": [
            "두번째 방법\n",
            "(1, 2, 3, 4)\n"
          ],
          "name": "stdout"
        }
      ]
    },
    {
      "cell_type": "markdown",
      "metadata": {
        "id": "5o91s2Za1QL4",
        "colab_type": "text"
      },
      "source": [
        "# ***Q9.***\n",
        "# ***다음과 같은 딕셔너리 a가 있다.***\n",
        "# ***a = dict()***\n",
        "# ***a***\n",
        "# {}\n",
        "\n",
        "# ***다음 중 오류가 발생하는 경우를 고르고, 그 이유를 설명해 보자.***\n",
        "# ***1.a['name'] = 'python'***\n",
        "# ***2.a[('a',)] = 'python'***\n",
        "# ***3.a[[1]] = 'python'***\n",
        "# ***4.a[250] = 'python'***"
      ]
    },
    {
      "cell_type": "code",
      "metadata": {
        "id": "i8ULSeUV45EA",
        "colab_type": "code",
        "colab": {
          "base_uri": "https://localhost:8080/",
          "height": 35
        },
        "outputId": "69065606-ca96-4381-eeb6-992a9707e16d"
      },
      "source": [
        "\n",
        "\n",
        "print(\"딕셔너리의 키값은 변하지 않는 값만 쓸수있는데  배열은 가변형 이므로. 키값에 배열을 쓸 경우 오류가 발생한다.. 따라서 키값에 배열을 쓴 3번이 답이다.\")"
      ],
      "execution_count": 84,
      "outputs": [
        {
          "output_type": "stream",
          "text": [
            "딕셔너리의 키값은 변하지 않는 값만 쓸수있는데  배열은 가변형 이므로. 키값에 배열을 쓸 경우 오류가 발생한다.. 따라서 키값에 배열을 쓴 3번이 답이다.\n"
          ],
          "name": "stdout"
        }
      ]
    },
    {
      "cell_type": "markdown",
      "metadata": {
        "id": "Yr5gvUDk2het",
        "colab_type": "text"
      },
      "source": [
        "# ***Q10.***\n",
        "# ***딕셔너리 a에서 'B'에 해당되는 값을 추출해 보자.***\n",
        "\n",
        "# ***a = {'A':90, 'B':80, 'C':70}***\n",
        "\n",
        "# ***※ 딕셔너리의 pop 함수를 사용해 보자.***"
      ]
    },
    {
      "cell_type": "code",
      "metadata": {
        "id": "lYgFopvO2ryo",
        "colab_type": "code",
        "colab": {
          "base_uri": "https://localhost:8080/",
          "height": 53
        },
        "outputId": "d347cfe4-899d-4946-e1e9-db1c01dc04f5"
      },
      "source": [
        "print(\"첫번째 방법\")\n",
        "a = {'A':90, 'B':80, 'C':70}\n",
        "a.pop('B')\n",
        "print(a)"
      ],
      "execution_count": 71,
      "outputs": [
        {
          "output_type": "stream",
          "text": [
            "첫번째 방법\n",
            "{'A': 90, 'C': 70}\n"
          ],
          "name": "stdout"
        }
      ]
    },
    {
      "cell_type": "code",
      "metadata": {
        "id": "2eo80p2C259I",
        "colab_type": "code",
        "colab": {
          "base_uri": "https://localhost:8080/",
          "height": 71
        },
        "outputId": "f4f0330c-1352-4e32-9dec-07b0617f5115"
      },
      "source": [
        "print(\"두번째 방법\")\n",
        "a = {'A':90, 'B':80, 'C':70}\n",
        "print(a['B'])\n",
        "del a['B']\n",
        "print(a)\n"
      ],
      "execution_count": 70,
      "outputs": [
        {
          "output_type": "stream",
          "text": [
            "두번째 방법\n",
            "80\n",
            "{'A': 90, 'C': 70}\n"
          ],
          "name": "stdout"
        }
      ]
    },
    {
      "cell_type": "markdown",
      "metadata": {
        "id": "R3Hnmvm83fRS",
        "colab_type": "text"
      },
      "source": [
        "# ***Q11.***\n",
        "# ***a 리스트에서 중복 숫자를 제거해 보자.***\n",
        "\n",
        "# ***a = [1, 1, 1, 2, 2, 3, 3, 3, 4, 4, 5]***\n",
        "\n",
        "# ***※ 집합 자료형의 요솟값이 중복될 수 없다는 특징을 사용해 보자.***"
      ]
    },
    {
      "cell_type": "code",
      "metadata": {
        "id": "tnv-o4H-3sJG",
        "colab_type": "code",
        "colab": {
          "base_uri": "https://localhost:8080/",
          "height": 53
        },
        "outputId": "78bd30e3-1490-4488-d87c-c60ce6bfd0d4"
      },
      "source": [
        "print(\"첫번째 방법\")\n",
        "a = [1, 1, 1, 2, 2, 3, 3, 3, 4, 4, 5]\n",
        "a=set(a)\n",
        "a=list(a)\n",
        "print(a)"
      ],
      "execution_count": 77,
      "outputs": [
        {
          "output_type": "stream",
          "text": [
            "첫번째 방법\n",
            "[1, 2, 3, 4, 5]\n"
          ],
          "name": "stdout"
        }
      ]
    },
    {
      "cell_type": "code",
      "metadata": {
        "id": "M5yLE5S03_im",
        "colab_type": "code",
        "colab": {
          "base_uri": "https://localhost:8080/",
          "height": 53
        },
        "outputId": "e8d295e6-f760-4bfe-b9bc-d56318c12878"
      },
      "source": [
        "print(\"두번째 방법\")\n",
        "a = [1, 1, 1, 2, 2, 3, 3, 3, 4, 4, 5]\n",
        "a.remove(1)\n",
        "a.remove(1)\n",
        "a.remove(2)\n",
        "a.remove(3)\n",
        "a.remove(3)\n",
        "a.remove(4)\n",
        "print(a)"
      ],
      "execution_count": 81,
      "outputs": [
        {
          "output_type": "stream",
          "text": [
            "두번째 방법\n",
            "[1, 2, 3, 4, 5]\n"
          ],
          "name": "stdout"
        }
      ]
    },
    {
      "cell_type": "markdown",
      "metadata": {
        "id": "mfSeYRdX4Op4",
        "colab_type": "text"
      },
      "source": [
        "# ***Q12.***\n",
        "# ***파이썬은 다음처럼 동일한 값에 여러 개의 변수를 선언할 수 있다. 다음과 같이 a, b 변수를 선언한 후 a의 두 번째 요솟값을 변경하면 b 값은 어떻게 될까? 그리고 이런 결과가 오는 이유에 대해 설명해 보자.***\n",
        "\n",
        "# ***a = b = [1, 2, 3]***\n",
        "# ***a[1] = 4***\n",
        "# ***print(b)***"
      ]
    },
    {
      "cell_type": "code",
      "metadata": {
        "id": "pt2pP5SD4gyX",
        "colab_type": "code",
        "colab": {
          "base_uri": "https://localhost:8080/",
          "height": 35
        },
        "outputId": "b3659a5c-a177-45ac-ebc2-ea82efb43c03"
      },
      "source": [
        "a = b = [1, 2, 3]\n",
        "a[1] = 4\n",
        "print(\"{0}이 출력된다. a와b모두 동일한 리스트인[1,2,3]을 가르키고 있기때문.\".format(b))"
      ],
      "execution_count": 83,
      "outputs": [
        {
          "output_type": "stream",
          "text": [
            "[1, 4, 3]이 출력된다. a와b모두 동일한 리스트인[1,2,3]을 가르키고 있기때문.\n"
          ],
          "name": "stdout"
        }
      ]
    },
    {
      "cell_type": "markdown",
      "metadata": {
        "id": "Tum1G6G65cOe",
        "colab_type": "text"
      },
      "source": [
        "20151534 sm101박진석"
      ]
    }
  ]
}