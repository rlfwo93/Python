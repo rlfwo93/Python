{
  "nbformat": 4,
  "nbformat_minor": 0,
  "metadata": {
    "colab": {
      "name": "sm101_exam_mid의 풀이",
      "provenance": [],
      "collapsed_sections": [],
      "include_colab_link": true
    },
    "kernelspec": {
      "display_name": "Python 3",
      "language": "python",
      "name": "python3"
    }
  },
  "cells": [
    {
      "cell_type": "markdown",
      "metadata": {
        "id": "view-in-github",
        "colab_type": "text"
      },
      "source": [
        "<a href=\"https://colab.research.google.com/github/rlfwo93/Python/blob/master/sm101_exam_mid%EC%9D%98_%ED%92%80%EC%9D%B4.ipynb\" target=\"_parent\"><img src=\"https://colab.research.google.com/assets/colab-badge.svg\" alt=\"Open In Colab\"/></a>"
      ]
    },
    {
      "cell_type": "markdown",
      "metadata": {
        "colab_type": "text",
        "id": "jXMg8Cv_Q0bM"
      },
      "source": [
        "# 중간필기시험: 고급시뮬레이션 (2019.10.25)\n",
        "- 문제에 배점이 표시되어 있음. (기본 배점은 1, 총 32점)"
      ]
    },
    {
      "cell_type": "code",
      "metadata": {
        "id": "iEZkBZU9N_1U",
        "colab_type": "code",
        "colab": {}
      },
      "source": [
        ""
      ],
      "execution_count": 0,
      "outputs": []
    },
    {
      "cell_type": "markdown",
      "metadata": {
        "id": "Rc8uW2C1MAyp",
        "colab_type": "text"
      },
      "source": [
        "***"
      ]
    },
    {
      "cell_type": "markdown",
      "metadata": {
        "colab_type": "text",
        "id": "aqPJkzsTW4An"
      },
      "source": [
        "### # [1] 다음 식의 연산 결과는?\n",
        "\n",
        "```\n",
        "a = 3\n",
        "b = 4\n",
        "a**b  \n",
        "```\n"
      ]
    },
    {
      "cell_type": "code",
      "metadata": {
        "id": "FS9fT3h37CWo",
        "colab_type": "code",
        "outputId": "afc5de5a-fd17-4677-b283-1ce3c236f2af",
        "colab": {
          "base_uri": "https://localhost:8080/",
          "height": 35
        }
      },
      "source": [
        "3**4 #**연산자는 a의b승 이라는 뜻이다."
      ],
      "execution_count": 0,
      "outputs": [
        {
          "output_type": "execute_result",
          "data": {
            "text/plain": [
              "81"
            ]
          },
          "metadata": {
            "tags": []
          },
          "execution_count": 3
        }
      ]
    },
    {
      "cell_type": "markdown",
      "metadata": {
        "colab_type": "text",
        "id": "0l2hcxDHYB_s"
      },
      "source": [
        "### # [2-3] 다음 문자열 a 에 대하여 인덱싱과 슬라이싱을 한 결괴는? \n",
        "\n",
        "\n",
        "```\n",
        "a = \"Life is too short, You need Python!\"\n",
        "\n",
        "print(a[-16])   # 문제[2]\n",
        "\n",
        "# \n",
        "\n",
        "a[23:-8]       # 문제[3] \n",
        "\n",
        "```"
      ]
    },
    {
      "cell_type": "code",
      "metadata": {
        "id": "rNzdR8LX7Vb3",
        "colab_type": "code",
        "outputId": "aebbec17-1e52-475e-e6fa-59a7d802fb13",
        "colab": {
          "base_uri": "https://localhost:8080/",
          "height": 54
        }
      },
      "source": [
        "a = \"Life is too short, You need Python!\"\n",
        "print(a[-16])   # 문제[2] :y\n",
        "# -로 시작하면 맨마지막 부터 나온다.\n",
        "a[23:-8]       # 문제[3] :'need' 0부터 23까지 증가해서, 23부터 -8까지 잘라준다.\n",
        "# n부터 \" \"공백까지이므로  need출력"
      ],
      "execution_count": 0,
      "outputs": [
        {
          "output_type": "stream",
          "text": [
            "Y\n"
          ],
          "name": "stdout"
        },
        {
          "output_type": "execute_result",
          "data": {
            "text/plain": [
              "'need'"
            ]
          },
          "metadata": {
            "tags": []
          },
          "execution_count": 7
        }
      ]
    },
    {
      "cell_type": "markdown",
      "metadata": {
        "id": "6A6wwwuSYUB7",
        "colab_type": "text"
      },
      "source": [
        "\n",
        "\n",
        "---\n",
        "\n"
      ]
    },
    {
      "cell_type": "markdown",
      "metadata": {
        "colab_type": "text",
        "id": "UhMFzra8YYwa"
      },
      "source": [
        "### # [4] 다음의 결과가 출력되지 않는 것은?\n",
        "\n",
        "'I ate 10 apples. so I was sick for three days.'\n",
        "\n",
        "\n",
        "```\n",
        "# code start\n",
        "number = 10\n",
        "day = \"three\"\n",
        "\n",
        "A. \"I ate {0} apples. so I was sick for {1} days.\".format(10, day)\n",
        "B. f\"I ate {number} apples. so I was sick for {day} days.\"\n",
        "C. f\"I ate {number} apples. so I was sick for {'three'} days.\"\n",
        "D. \"I ate {0} apples. so I was sick for {1} days.\".format(number=10, day)\n",
        "\n",
        "```"
      ]
    },
    {
      "cell_type": "markdown",
      "metadata": {
        "id": "ubrdvC5vRk38",
        "colab_type": "text"
      },
      "source": [
        "\n",
        "\n",
        "---\n",
        "\n"
      ]
    },
    {
      "cell_type": "code",
      "metadata": {
        "id": "BtSfYAVV8IuY",
        "colab_type": "code",
        "colab": {}
      },
      "source": [
        "# code start\n",
        "number = 10\n",
        "day = \"three\"\n",
        " \n",
        "A=\"I ate {0} apples. so I was sick for {1} days.\".format(10, day)\n",
        "B= f\"I ate {number} apples. so I was sick for {day} days.\"\n",
        "C= f\"I ate {number} apples. so I was sick for {'three'} days.\""
      ],
      "execution_count": 0,
      "outputs": []
    },
    {
      "cell_type": "code",
      "metadata": {
        "id": "eTszo9ke8fQa",
        "colab_type": "code",
        "outputId": "7a7700c8-de49-46cf-c3d1-2dc6ea1da798",
        "colab": {
          "base_uri": "https://localhost:8080/",
          "height": 136
        }
      },
      "source": [
        "D= \"I ate {0} apples. so I was sick for {1} days.\".format(number=10, day) \n",
        "# answer:D\n",
        "# format함수는 변수에 바로 값을 대입 할수 없다."
      ],
      "execution_count": 0,
      "outputs": [
        {
          "output_type": "error",
          "ename": "SyntaxError",
          "evalue": "ignored",
          "traceback": [
            "\u001b[0;36m  File \u001b[0;32m\"<ipython-input-11-9a061db591d4>\"\u001b[0;36m, line \u001b[0;32m1\u001b[0m\n\u001b[0;31m    D= \"I ate {0} apples. so I was sick for {1} days.\".format(number=10, day)\u001b[0m\n\u001b[0m                                                                        ^\u001b[0m\n\u001b[0;31mSyntaxError\u001b[0m\u001b[0;31m:\u001b[0m positional argument follows keyword argument\n"
          ]
        }
      ]
    },
    {
      "cell_type": "markdown",
      "metadata": {
        "id": "btLVuaxpY39a",
        "colab_type": "text"
      },
      "source": [
        "### # [5] format 함수 또는 f 문자열 포매팅을 이용해서 '!!python!!' 문자열을 출력해보시오.\n",
        "\n",
        "```\n",
        "\n",
        "\n",
        "\n",
        "```\n"
      ]
    },
    {
      "cell_type": "code",
      "metadata": {
        "id": "OaHM2nGF8Wuu",
        "colab_type": "code",
        "outputId": "0f840769-c4c5-4043-fca7-69516f961a97",
        "colab": {
          "base_uri": "https://localhost:8080/",
          "height": 35
        }
      },
      "source": [
        "'{0:!^10}'.format(\"python\")\n",
        "#포맷팅 방법은 3가지 방법이있다.\n",
        "#1. %포맷팅   ex> (10%d)%5\n",
        "#  f 포맷팅   ex)f'{\"python\":!^101}'\n",
        "#format함수 포맷팅  ex){0:!^10}'.format(\"python\")"
      ],
      "execution_count": 0,
      "outputs": [
        {
          "output_type": "execute_result",
          "data": {
            "text/plain": [
              "'!!python!!'"
            ]
          },
          "metadata": {
            "tags": []
          },
          "execution_count": 13
        }
      ]
    },
    {
      "cell_type": "markdown",
      "metadata": {
        "id": "bsQtSg0lY-mz",
        "colab_type": "text"
      },
      "source": [
        "\n",
        "\n",
        "---\n",
        "\n"
      ]
    },
    {
      "cell_type": "markdown",
      "metadata": {
        "colab_type": "text",
        "id": "RoOLqvs0ZH-m"
      },
      "source": [
        "### # [6] 다음 list a의 인덱싱 결과는?\n",
        "\n",
        "```\n",
        "a = [1, 2, (3, 4), ['a', 'b', ['My', 'Life', 'Good']]]\n",
        "\n",
        "\n",
        "a[3][-1][-1]\n",
        "\n",
        "```\n"
      ]
    },
    {
      "cell_type": "markdown",
      "metadata": {
        "id": "lNKyqCh4ZQQm",
        "colab_type": "text"
      },
      "source": [
        "\n",
        "\n",
        "---\n",
        "\n"
      ]
    },
    {
      "cell_type": "code",
      "metadata": {
        "id": "b0mgC4l89c3J",
        "colab_type": "code",
        "outputId": "967aa02a-e7fe-4469-9a63-e5dda92205aa",
        "colab": {
          "base_uri": "https://localhost:8080/",
          "height": 35
        }
      },
      "source": [
        "a = [1, 2, (3, 4), ['a', 'b', ['My', 'Life', 'Good']]]\n",
        " \n",
        " \n",
        "a[3][-1][-1]\n",
        "\n",
        "#3번째 인덱스는  ['a', 'b', ['My', 'Life', 'Good']] 그안에서 -1은 ['My', 'Life', 'Good'] 안에서 -1은 'Good'"
      ],
      "execution_count": 0,
      "outputs": [
        {
          "output_type": "execute_result",
          "data": {
            "text/plain": [
              "'Good'"
            ]
          },
          "metadata": {
            "tags": []
          },
          "execution_count": 14
        }
      ]
    },
    {
      "cell_type": "markdown",
      "metadata": {
        "colab_type": "text",
        "id": "5MYeANveZUSL"
      },
      "source": [
        "### # [7] 다음 list x의 슬라이싱 결과는?\n",
        "\n",
        "\n",
        "```\n",
        "x = [1, 2, 3, 4, 5, 6, 7, 8, 9, 10]\n",
        "\n",
        "x[-6:1:-1]\n",
        "\n",
        "```\n"
      ]
    },
    {
      "cell_type": "code",
      "metadata": {
        "id": "lDRGryM49rWh",
        "colab_type": "code",
        "outputId": "f8e9a40d-1851-40bf-e124-1b8180f2e709",
        "colab": {
          "base_uri": "https://localhost:8080/",
          "height": 35
        }
      },
      "source": [
        "x = [1, 2, 3, 4, 5, 6, 7, 8, 9, 10]\n",
        " \n",
        "x[-6:1:-1]\n",
        "# -6은 5이므로 5부터 1까지 -1일씩 증가해서 인덱싱."
      ],
      "execution_count": 0,
      "outputs": [
        {
          "output_type": "execute_result",
          "data": {
            "text/plain": [
              "[5, 4, 3]"
            ]
          },
          "metadata": {
            "tags": []
          },
          "execution_count": 15
        }
      ]
    },
    {
      "cell_type": "markdown",
      "metadata": {
        "id": "03WI5SptZhWi",
        "colab_type": "text"
      },
      "source": [
        "\n",
        "\n",
        "---\n",
        "\n"
      ]
    },
    {
      "cell_type": "markdown",
      "metadata": {
        "colab_type": "text",
        "id": "X-wkQ_E2Z2Am"
      },
      "source": [
        "### # [8] 다음 tuple t1의 슬라이싱 결과는?\n",
        "\n",
        "\n",
        "\n",
        "```\n",
        "t1 = (0, 2, \"s\", \"t\", \"u\")\n",
        "\n",
        "t1[3:-1]\n",
        "\n",
        "```\n"
      ]
    },
    {
      "cell_type": "code",
      "metadata": {
        "id": "F00o4v8O-BIX",
        "colab_type": "code",
        "outputId": "0ceb5ad0-6400-4b07-9799-f4aca641ed8b",
        "colab": {
          "base_uri": "https://localhost:8080/",
          "height": 35
        }
      },
      "source": [
        "t1 = (0, 2, \"s\", \"t\", \"u\")\n",
        " \n",
        "t1[3:-1]\n",
        "#튜플은 입력값이 하나이면 뒤에','을 넣어줌.\n",
        "#튜플은 출력값이 하나이면 뒤에','도 출력됨.\n"
      ],
      "execution_count": 0,
      "outputs": [
        {
          "output_type": "execute_result",
          "data": {
            "text/plain": [
              "('t',)"
            ]
          },
          "metadata": {
            "tags": []
          },
          "execution_count": 16
        }
      ]
    },
    {
      "cell_type": "markdown",
      "metadata": {
        "id": "E5cAIBhjRze1",
        "colab_type": "text"
      },
      "source": [
        "\n",
        "\n",
        "---\n",
        "\n"
      ]
    },
    {
      "cell_type": "markdown",
      "metadata": {
        "colab_type": "text",
        "id": "0lS1bWBAaDj7"
      },
      "source": [
        "### # [9] 다음 set s1의 최종 출력 결과는?\n",
        "\n",
        "```\n",
        "s1 = set([2, 3])\n",
        "s1.update([2, 4, 6])\n",
        "\n",
        "s1.add(4)\n",
        "\n",
        "s1  # 출력 결과?\n",
        "```\n"
      ]
    },
    {
      "cell_type": "code",
      "metadata": {
        "id": "9e41IDwO-Qiu",
        "colab_type": "code",
        "outputId": "819621e2-c99f-4242-e30e-b3a14ed53728",
        "colab": {
          "base_uri": "https://localhost:8080/",
          "height": 35
        }
      },
      "source": [
        "s1 = set([2, 3])\n",
        "s1.update([2, 4, 6])\n",
        " \n",
        "s1.add(4)\n",
        " \n",
        "s1  # 출력 결과?\n",
        "\n",
        "#set은 값이 중복되지않음\n",
        "#udate함수는 set에 여러개의 값을 집어넣을떄 사용하는 함수\n",
        "#add(4)를하면 4가추가됨 4는 이미 있으므로 중복된 4를 제거\n",
        "#{2, 3, 4, 6}"
      ],
      "execution_count": 0,
      "outputs": [
        {
          "output_type": "execute_result",
          "data": {
            "text/plain": [
              "{2, 3, 4, 6}"
            ]
          },
          "metadata": {
            "tags": []
          },
          "execution_count": 17
        }
      ]
    },
    {
      "cell_type": "markdown",
      "metadata": {
        "colab_type": "text",
        "id": "kqa9iT2Fa-jf"
      },
      "source": [
        "\n",
        "\n",
        "---\n",
        "\n"
      ]
    },
    {
      "cell_type": "markdown",
      "metadata": {
        "colab_type": "text",
        "id": "TqPDhfKHaSeE"
      },
      "source": [
        "ㄱ### # [10] 다음 bool 값 출력 중 정확한 것은?\n",
        "\n",
        "bool([0, 1, 2, 3]), bool([0]), bool((0)), bool((0,))\n",
        "\n",
        "\n",
        "```\n",
        "'''\n",
        "A. (True, True, True, True)\n",
        "B. (False, False, False, False)\n",
        "C. (True, True, False, True)\n",
        "D. (True, False, False, True)\n",
        "'''\n",
        "\n",
        "```\n"
      ]
    },
    {
      "cell_type": "code",
      "metadata": {
        "id": "E6_boOrY-uQq",
        "colab_type": "code",
        "outputId": "8ca79f21-0f03-4b20-b910-d38615ea357f",
        "colab": {
          "base_uri": "https://localhost:8080/",
          "height": 35
        }
      },
      "source": [
        "print(bool([0, 1, 2, 3]), bool([0]), bool((0)), bool((0,)))\n",
        "#답은 C(True True False True)이다.\n",
        "#문자열은 \"\"이면 FALSE\n",
        "#정수형은 0 이면 FALSE\n",
        "#배열은 []이면 FALSE\n",
        "#튜플은 ()FALSE\n",
        "\n"
      ],
      "execution_count": 0,
      "outputs": [
        {
          "output_type": "stream",
          "text": [
            "True True False True\n"
          ],
          "name": "stdout"
        }
      ]
    },
    {
      "cell_type": "markdown",
      "metadata": {
        "id": "ZJkvEy9SPOtJ",
        "colab_type": "text"
      },
      "source": [
        "\n",
        "\n",
        "---\n",
        "\n"
      ]
    },
    {
      "cell_type": "markdown",
      "metadata": {
        "id": "NnWDXeUJ8yFF",
        "colab_type": "text"
      },
      "source": [
        "### # [11-2점] 다음 조건문을 1줄 코드로 변경하시오.  \n",
        "\n",
        "```\n",
        "score=80\n",
        "\n",
        "if score >= 60:\n",
        "    message = \"success\"\n",
        "else:\n",
        "    message = \"failure\"\n",
        "\n",
        "print(message)\n",
        "\n",
        "```\n",
        "\n",
        "> 출력 결과 :  success\n",
        "\n"
      ]
    },
    {
      "cell_type": "code",
      "metadata": {
        "colab_type": "code",
        "id": "xx3Nk7cX7rLi",
        "outputId": "5ece4730-3783-4b60-8caa-e23d4f7a55ea",
        "colab": {
          "base_uri": "https://localhost:8080/",
          "height": 35
        }
      },
      "source": [
        "# [11-2점] 1줄 조건문\n",
        "\n",
        "score=80\n",
        "\n",
        "message =\"Success\" if score>=60 else \"failure\" #맨앞이 조건부 if else 순이다.\n",
        "\n",
        "print(message) #'Success'\n"
      ],
      "execution_count": 0,
      "outputs": [
        {
          "output_type": "stream",
          "text": [
            "Success\n"
          ],
          "name": "stdout"
        }
      ]
    },
    {
      "cell_type": "markdown",
      "metadata": {
        "id": "KWmhM8m6Qc2_",
        "colab_type": "text"
      },
      "source": [
        "\n",
        "\n",
        "---\n",
        "\n"
      ]
    },
    {
      "cell_type": "markdown",
      "metadata": {
        "colab_type": "text",
        "id": "lGorfx3Q_Ym8"
      },
      "source": [
        "### # [12-2점] 다음 커피자판기가 실행 결과와 같이 제대로 실행되도록 A, B 에 코드를 완성하시오. \n",
        "> coffee.py\n",
        "\n",
        "```\n",
        "\n",
        "coffee = 5\n",
        "\n",
        "while True:\n",
        "    money = int(input(\"돈을 넣어 주세요: \"))\n",
        "    if money == 300:\n",
        "        print(\"커피를 줍니다.\")\n",
        "        coffee = coffee -1\n",
        "    elif money > 300:\n",
        "        print(\"거스름돈 %d를 주고 커피를 줍니다.\" % A._____________)\n",
        "        coffee = coffee -1\n",
        "    else:\n",
        "        print(\"돈을 다시 돌려주고 커피를 주지 않습니다.\")\n",
        "        print(\"남은 커피의 양은 %d개 입니다.\" % coffee)\n",
        "    if : coffee == 0\n",
        "        print(\"커피가 다 떨어졌습니다. 판매를 중지 합니다.\")\n",
        "        B._______________\n",
        "```\n",
        "> 실행 결과 :  \n",
        "```\n",
        "돈을 넣어 주세요: 300\n",
        "커피를 줍니다.\n",
        "돈을 넣어 주세요: 400\n",
        "거스름돈 100를 주고 커피를 줍니다.\n",
        "돈을 넣어 주세요: 500\n",
        "거스름돈 200를 주고 커피를 줍니다.\n",
        "돈을 넣어 주세요: 400\n",
        "거스름돈 100를 주고 커피를 줍니다.\n",
        "돈을 넣어 주세요: 300\n",
        "커피를 줍니다.\n",
        "커피가 다 떨어졌습니다. 판매를 중지 합니다.\n",
        "\n",
        "```\n",
        "\n"
      ]
    },
    {
      "cell_type": "code",
      "metadata": {
        "id": "42lyhxxnATIi",
        "colab_type": "code",
        "outputId": "46c5740c-505f-4fa9-dfdf-42c07a2e05d2",
        "colab": {
          "base_uri": "https://localhost:8080/",
          "height": 217
        }
      },
      "source": [
        "coffee = 5\n",
        "\n",
        "while True:\n",
        "    money = int(input(\"돈을 넣어 주세요: \"))\n",
        "    if money == 300:\n",
        "        print(\"커피를 줍니다.\")\n",
        "        coffee = coffee -1\n",
        "    elif money > 300:\n",
        "        print(\"거스름돈 %d를 주고 커피를 줍니다.\" %(money-300)) #3가지의 포맷중 하나인 %포맷을 쓴다.\n",
        "                                                                # ()를 안쓰면 제대로 인식이 안되기 때문에 ()를쓴다.,\n",
        "        coffee = coffee -1\n",
        "    else:\n",
        "        print(\"돈을 다시 돌려주고 커피를 주지 않습니다.\")\n",
        "        print(\"남은 커피의 양은 %d개 입니다.\" % coffee)\n",
        "    if coffee == 0: #break조건문.\n",
        "        print(\"커피가 다 떨어졌습니다. 판매를 중지 합니다.\")\n",
        "        break #while문을 탈출시켜주는 제어문."
      ],
      "execution_count": 0,
      "outputs": [
        {
          "output_type": "stream",
          "text": [
            "돈을 넣어 주세요: 300\n",
            "커피를 줍니다.\n",
            "돈을 넣어 주세요: 400\n",
            "거스름돈 100를 주고 커피를 줍니다.\n",
            "돈을 넣어 주세요: 500\n",
            "거스름돈 200를 주고 커피를 줍니다.\n",
            "돈을 넣어 주세요: 400\n",
            "거스름돈 100를 주고 커피를 줍니다.\n",
            "돈을 넣어 주세요: 300\n",
            "커피를 줍니다.\n",
            "커피가 다 떨어졌습니다. 판매를 중지 합니다.\n"
          ],
          "name": "stdout"
        }
      ]
    },
    {
      "cell_type": "markdown",
      "metadata": {
        "id": "0qRrZYG7QZhd",
        "colab_type": "text"
      },
      "source": [
        "\n",
        "\n",
        "---\n",
        "\n"
      ]
    },
    {
      "cell_type": "markdown",
      "metadata": {
        "colab_type": "text",
        "id": "OJike-w1CsoQ"
      },
      "source": [
        "### # [13-2점] 다음 for-loop의 출력 결과는?\n",
        "\n",
        "```\n",
        "\n",
        "games = [\"축구\", \"야구\", \"농구\"]\n",
        "\n",
        "\n",
        "# \n",
        "for cnt in range(len(games)):\n",
        "    print(cnt, games[cnt], end=',')\n",
        "    \n",
        "    \n",
        "    \n",
        "```\n",
        "\n",
        "> 출력 결과 ? \n",
        "\n"
      ]
    },
    {
      "cell_type": "code",
      "metadata": {
        "id": "-BK4Qv-zCorq",
        "colab_type": "code",
        "outputId": "65f1093c-cc3f-4260-f901-214f454b0a11",
        "colab": {
          "base_uri": "https://localhost:8080/",
          "height": 35
        }
      },
      "source": [
        " \n",
        "games = [\"축구\", \"야구\", \"농구\"]\n",
        " \n",
        " \n",
        " \n",
        "for cnt in range(len(games)): #range함수와 len 함수사용. 0부터 len(games)길이 까지 증가.\n",
        "    print(cnt, games[cnt], end=',')   #cnt의 값을 출력하고 games배열 값을 하나씩 출력시킴. \n",
        "                                      #end=\",\" 가 있으므로 출력하는 값 마지막에 \",\"을 출력시킴.\n",
        "# 0 축구,1 야구,2 농구,\n",
        " "
      ],
      "execution_count": 0,
      "outputs": [
        {
          "output_type": "stream",
          "text": [
            "0 축구,1 야구,2 농구,"
          ],
          "name": "stdout"
        }
      ]
    },
    {
      "cell_type": "markdown",
      "metadata": {
        "colab_type": "text",
        "id": "cKCXDHUgDQIx"
      },
      "source": [
        "### # [14-2점] 다음 dictionary와 관련된 함수로 평균 점수를 계산하는 코드를 완성하시오.\n",
        "\n",
        "```\n",
        "\n",
        "\n",
        "\n",
        "scores={\"국어\":80, \"영어\":75, \"수학\":55}\n",
        "\n",
        "\n",
        "print(\"평균점수는{0}점입니다\".format(sum([14]_____________________)/len(scores)))\n",
        "\n",
        "\n",
        "\n",
        "    \n",
        "```\n",
        " \n",
        "\n"
      ]
    },
    {
      "cell_type": "code",
      "metadata": {
        "id": "duzWEjz1H1sO",
        "colab_type": "code",
        "outputId": "97ca7300-8e65-40a0-8397-fc0bc4181ca4",
        "colab": {
          "base_uri": "https://localhost:8080/",
          "height": 35
        }
      },
      "source": [
        "scores={\"국어\":80, \"영어\":75, \"수학\":55}\n",
        " \n",
        " \n",
        "print(\"평균점수는{0}점입니다\".format(sum(scores.values())/len(scores))) \n",
        "#scores.values()로 딕셔너리의 벨류값만 모아서 리스트로 만들어줌.\n",
        "#sum으로 리스트안에 있는 벨류값을 다 더함.\n",
        "#len으로 scores의 갯수를 구하고 나눔."
      ],
      "execution_count": 0,
      "outputs": [
        {
          "output_type": "stream",
          "text": [
            "평균점수는70.0점입니다\n"
          ],
          "name": "stdout"
        }
      ]
    },
    {
      "cell_type": "markdown",
      "metadata": {
        "id": "cNQi2Iz1QhY1",
        "colab_type": "text"
      },
      "source": [
        "\n",
        "\n",
        "---\n",
        "\n"
      ]
    },
    {
      "cell_type": "markdown",
      "metadata": {
        "id": "9AmH3Us784z2",
        "colab_type": "text"
      },
      "source": [
        "\n",
        "\n",
        "---\n",
        "\n"
      ]
    },
    {
      "cell_type": "markdown",
      "metadata": {
        "colab_type": "text",
        "id": "avsnuGXeGoXx"
      },
      "source": [
        "### # [15-2점] a 리스트에서 중복 숫자를 제거해서 출력하는 다음 코드를 완성하시오.\n",
        "\n",
        "\n",
        "\n",
        "```\n",
        "\n",
        "a = [1, 1, 1, 2, 2, 3, 3, 3, 4, 4, 5]\n",
        "\n",
        "\n",
        "a = A.________________\n",
        "\n",
        "\n",
        "a = B.________________\n",
        "\n",
        "\n",
        "print(a)\n",
        "\n",
        "\n",
        "```\n",
        "\n",
        "  \n",
        "> 출력 결과 : [1, 2, 3, 4, 5]\n",
        "\n"
      ]
    },
    {
      "cell_type": "code",
      "metadata": {
        "id": "KBnY6IbMIr7z",
        "colab_type": "code",
        "outputId": "36415a92-b7c2-4215-f7c6-dd76df07de08",
        "colab": {
          "base_uri": "https://localhost:8080/",
          "height": 35
        }
      },
      "source": [
        "a = [1, 1, 1, 2, 2, 3, 3, 3, 4, 4, 5]\n",
        " \n",
        " \n",
        "a = set(a)\n",
        "# set으로 형변환해서 a의 중복값을 제거함.\n",
        " \n",
        "a = list(a)\n",
        " #set형식을 다시 list로 형변환.\n",
        " \n",
        "print(a)"
      ],
      "execution_count": 0,
      "outputs": [
        {
          "output_type": "stream",
          "text": [
            "[1, 2, 3, 4, 5]\n"
          ],
          "name": "stdout"
        }
      ]
    },
    {
      "cell_type": "markdown",
      "metadata": {
        "colab_type": "text",
        "id": "fAy1a2TAJEjA"
      },
      "source": [
        "### # [16-최대 3점] for문 사용해 1부터 1000까지의 자연수 중 5의 배수의 합을 구하는 전체 코드를 작성하시오.\n",
        "\n",
        "> 결과(5의 배수의 합)까지 출력하는 코드는 4줄 이하로 작성하시오.\n",
        ">> 최소한의 줄로 만든 코드에 최대 점수 3점.\n",
        "- 1줄: 3점\n",
        "- 2줄: 2점\n",
        "- 3줄 이상: 1점  \n",
        "\n",
        ">> list 내포를 이용하시오.\n",
        "\n",
        "```\n",
        "_________________________________________________________________________________________\n",
        "\n",
        "_________________________________________________________________________________________\n",
        "\n",
        "_________________________________________________________________________________________\n",
        "\n",
        "_________________________________________________________________________________________\n",
        "\n",
        "\n",
        "```\n",
        "  \n"
      ]
    },
    {
      "cell_type": "code",
      "metadata": {
        "id": "O7vtjyrJIrVd",
        "colab_type": "code",
        "outputId": "732f30b4-d802-408b-e416-eaeb5ff20fcd",
        "colab": {
          "base_uri": "https://localhost:8080/",
          "height": 35
        }
      },
      "source": [
        "sum([num for num in range(1,1001) if num%5==0])\n",
        "# 리스트내포를 사용 range함수로 범위를 지정. 1000은 제외되기때문에 1001을 넣어줌.\n",
        "#for로 1부터 1001까지 계속 값을 증가시키면서 if로 5의 배수일때만 num을 배열에 넣어줌.\n",
        "#sum함수를 사용하여 배열의 값을 다 더해줌."
      ],
      "execution_count": 0,
      "outputs": [
        {
          "output_type": "execute_result",
          "data": {
            "text/plain": [
              "100500"
            ]
          },
          "metadata": {
            "tags": []
          },
          "execution_count": 38
        }
      ]
    },
    {
      "cell_type": "markdown",
      "metadata": {
        "id": "4O3KF0EySrzd",
        "colab_type": "text"
      },
      "source": [
        "\n",
        "\n",
        "---\n",
        "\n",
        "\n"
      ]
    },
    {
      "cell_type": "markdown",
      "metadata": {
        "id": "7_w53TXgPvFN",
        "colab_type": "text"
      },
      "source": [
        "\n",
        "\n",
        "---\n",
        "\n"
      ]
    },
    {
      "cell_type": "markdown",
      "metadata": {
        "colab_type": "text",
        "id": "QizK7s2CqlwC"
      },
      "source": [
        "### # [17-최대 3점] 다음 자료에 대한 평균 성적을 구하시오.\n",
        "```\n",
        "subjects = ['python', 'english', 'math', 'science']\n",
        "scores = [88, 77, 66, 95]\n",
        "```\n",
        "\n",
        "> 결과는 다음과 같이 출력되는 최단 코드를 완성하시오.\n",
        "```\n",
        "python 88\n",
        "english 77\n",
        "math 66\n",
        "science 95\n",
        "평균 점수 = 81.5\n",
        "```\n",
        "\n",
        ">> zip() 함수를 이용하시오.\n",
        "\n",
        "```\n",
        "# 평균 성적을 구하시오.\n",
        "subjects = ['python', 'english', 'math', 'science']\n",
        "scores = [88, 77, 66, 95]\n",
        "\n",
        "total = 0\n",
        "\n",
        "_________________________________________________________________________________________\n",
        "\n",
        "_________________________________________________________________________________________\n",
        "\n",
        "_________________________________________________________________________________________\n",
        "\n",
        "_________________________________________________________________________________________\n",
        "\n",
        "_________________________________________________________________________________________\n",
        "\n",
        "\n",
        "```\n",
        "  \n"
      ]
    },
    {
      "cell_type": "code",
      "metadata": {
        "id": "A80xiz79KBLl",
        "colab_type": "code",
        "outputId": "67315357-da35-4d75-a347-4c939f969987",
        "colab": {
          "base_uri": "https://localhost:8080/",
          "height": 108
        }
      },
      "source": [
        "subjects = ['python', 'english', 'math', 'science']\n",
        "scores = [88, 77, 66, 95]\n",
        "total = 0\n",
        "for su,sc in zip(subjects,scores): #zip으로 subjects와 scores 리스트를 묶어줌.\n",
        "                                   # 묶어준 값을 su,sc변수에 각각 담아줌.\n",
        "  total+=sc #total에다가 점수를 다 더해줌.\n",
        "  print(\"{0}과목은 {1}점입니다.\".format(su,sc)) # 과목과 점수를 각각 출력.\n",
        "\"평균은{0}점입니다.\".format(total/len(scores))  # len으로 scores의 갯수를 구한다음 total을 나눠줌."
      ],
      "execution_count": 0,
      "outputs": [
        {
          "output_type": "stream",
          "text": [
            "python과목은 88점입니다.\n",
            "english과목은 77점입니다.\n",
            "math과목은 66점입니다.\n",
            "science과목은 95점입니다.\n"
          ],
          "name": "stdout"
        },
        {
          "output_type": "execute_result",
          "data": {
            "text/plain": [
              "'평균은81.5점입니다.'"
            ]
          },
          "metadata": {
            "tags": []
          },
          "execution_count": 43
        }
      ]
    },
    {
      "cell_type": "markdown",
      "metadata": {
        "id": "Li_2y_pAs1kD",
        "colab_type": "text"
      },
      "source": [
        "\n",
        "\n",
        "---\n",
        "\n"
      ]
    },
    {
      "cell_type": "markdown",
      "metadata": {
        "colab_type": "text",
        "id": "0g1etKblygaj"
      },
      "source": [
        "### # [18-3점] 입력으로 들어오는 모든 수의 평균 값을 계산해 주는 함수 만들기\n",
        "\n",
        "\n",
        "- 단 입력으로 들어오는 수의 개수는 정해져 있지 않다. (*args 매개변수 이용)\n",
        "- 평균 값을 구할 때 len 함수를 사용해 보자.\n",
        "    - 함수명: addMany()\n",
        "    - 함수 사용: \n",
        "        - addMany(1,2)\n",
        "        - addMany(1,2,3,4,5)\n",
        "        \n",
        "\n",
        "```\n",
        "\n",
        "_________________________________________________________________________________________\n",
        "\n",
        "_________________________________________________________________________________________\n",
        "\n",
        "_________________________________________________________________________________________\n",
        "\n",
        "_________________________________________________________________________________________\n",
        "\n",
        "_________________________________________________________________________________________\n",
        "\n",
        "_________________________________________________________________________________________\n",
        "\n",
        "\n",
        "\n",
        "```\n"
      ]
    },
    {
      "cell_type": "code",
      "metadata": {
        "id": "JvKnz1ESLDTW",
        "colab_type": "code",
        "outputId": "c2013312-bd45-470a-8463-8e73503de923",
        "colab": {
          "base_uri": "https://localhost:8080/",
          "height": 54
        }
      },
      "source": [
        "def addMany(*args): #def로 이용해 함수를 만듬\n",
        "                    #*args는 인자값이 몇개 들어올지 모를때\n",
        "                    #**args는 딕셔너리 값으로 받음.\n",
        "                    #*args는 튜플형식임.\n",
        "  return sum(args)/len(args) #sum으로 다더해준다음 len으로 갯수를구하여 나눠줌.\n",
        "\n",
        "print(addMany(1,2))\n",
        "print(addMany(1,2,3,4,5))"
      ],
      "execution_count": 0,
      "outputs": [
        {
          "output_type": "stream",
          "text": [
            "1.5\n",
            "3.0\n"
          ],
          "name": "stdout"
        }
      ]
    },
    {
      "cell_type": "markdown",
      "metadata": {
        "id": "kPRG1m9d9XJ2",
        "colab_type": "text"
      },
      "source": [
        "\n",
        "\n",
        "---\n",
        "\n"
      ]
    },
    {
      "cell_type": "markdown",
      "metadata": {
        "colab_type": "text",
        "id": "dW0_1zz4tRkq"
      },
      "source": [
        "### # [19-3점] MaxLimitCalculator 클래스를 만들기\n",
        "#### 메소드 재정의(overriding)\n",
        "> 객체변수 value가 100 이상의 값은 가질 수 없도록 제한. \n",
        ">> 즉 다음과 같이 동작해야 한다.\n",
        "```\n",
        "cal = MaxLimitCalculator()\n",
        "cal.add(50) # 50 더하기\n",
        "cal.add(60) # 60 더하기\n",
        "print(cal.value) # 100 출력\n",
        "```\n",
        ">> 단 반드시 다음과 같은 Calculator 클래스를 상속해서 만들어야 한다.\n",
        "\n",
        "```\n",
        "\n",
        "class Calculator:\n",
        "    def __init__(self):\n",
        "        self.value = 0\n",
        "    def add(self, val):\n",
        "        self.value += val\n",
        "        \n",
        "\n",
        "_________________________________________________________________________________________\n",
        "\n",
        "_________________________________________________________________________________________\n",
        "\n",
        "_________________________________________________________________________________________\n",
        "\n",
        "_________________________________________________________________________________________\n",
        "\n",
        "_________________________________________________________________________________________\n",
        "\n",
        "_________________________________________________________________________________________\n",
        "\n",
        "\n",
        "```\n"
      ]
    },
    {
      "cell_type": "code",
      "metadata": {
        "id": "GyRjoFU-MKdf",
        "colab_type": "code",
        "outputId": "039fde51-923b-486a-e695-88a50c36bcf6",
        "colab": {
          "base_uri": "https://localhost:8080/",
          "height": 35
        }
      },
      "source": [
        "class Calculator:\n",
        "    def __init__(self):\n",
        "        self.value = 0\n",
        "    def add(self, val):\n",
        "        self.value += val\n",
        "\n",
        "\n",
        "class MaxLimitCalculator(Calculator): #클래스 상속받을때에는 만들클래스()안에 상속받을 클래스를 넣어줌.\n",
        "  def add(self,val):    #Calculator를 상속받았기떄문에 Calculator안에 있는 add함수를 오버라이딩 할수있음.\n",
        "    self.value+=val     #값을 계속받음.\n",
        "    if self.value>100:  # 값을 계속받고 더하면서 100을 초고하면 self.value값을 100으로 고정시켜줌.\n",
        "       self.value=100   #self.value값을 100으로 고정시켜줌.\n",
        "    \n",
        "\n",
        "\n",
        "\n",
        "cal = MaxLimitCalculator() #객체를 만들어줌.\n",
        "cal.add(50) # 50 더하기\n",
        "cal.add(60) # 60 더하기\n",
        "print(cal.value) # 100 출력"
      ],
      "execution_count": 0,
      "outputs": [
        {
          "output_type": "stream",
          "text": [
            "100\n"
          ],
          "name": "stdout"
        }
      ]
    },
    {
      "cell_type": "markdown",
      "metadata": {
        "id": "K4rPOTsQ3JlY",
        "colab_type": "text"
      },
      "source": [
        "\n",
        "\n",
        "---\n",
        "\n"
      ]
    },
    {
      "cell_type": "markdown",
      "metadata": {
        "id": "aefyz-CMMExW",
        "colab_type": "text"
      },
      "source": [
        "## 정답을 설명하는 파이썬 노트를 완성해서 각자의 github에 올리시오.\n",
        "- 제출기한: 11월 1일(금) 오전 10시."
      ]
    },
    {
      "cell_type": "markdown",
      "metadata": {
        "id": "IVFkw0axMf5l",
        "colab_type": "text"
      },
      "source": [
        "### 업로드 파일명: smnn_exam_mid.ipynb  (smnn은 id)"
      ]
    },
    {
      "cell_type": "code",
      "metadata": {
        "id": "oFczQ2N2tFFP",
        "colab_type": "code",
        "colab": {}
      },
      "source": [
        ""
      ],
      "execution_count": 0,
      "outputs": []
    }
  ]
}