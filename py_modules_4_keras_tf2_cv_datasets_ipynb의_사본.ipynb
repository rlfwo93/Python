{
  "nbformat": 4,
  "nbformat_minor": 0,
  "metadata": {
    "colab": {
      "name": "py_modules_4_keras_tf2_cv_datasets.ipynb의 사본",
      "provenance": [],
      "private_outputs": true,
      "collapsed_sections": [],
      "include_colab_link": true
    },
    "kernelspec": {
      "name": "python3",
      "display_name": "Python 3"
    }
  },
  "cells": [
    {
      "cell_type": "markdown",
      "metadata": {
        "id": "view-in-github",
        "colab_type": "text"
      },
      "source": [
        "<a href=\"https://colab.research.google.com/github/rlfwo93/Python/blob/master/py_modules_4_keras_tf2_cv_datasets_ipynb%EC%9D%98_%EC%82%AC%EB%B3%B8.ipynb\" target=\"_parent\"><img src=\"https://colab.research.google.com/assets/colab-badge.svg\" alt=\"Open In Colab\"/></a>"
      ]
    },
    {
      "cell_type": "markdown",
      "metadata": {
        "id": "fgVCR-9B8riA",
        "colab_type": "text"
      },
      "source": [
        "## CV (Computer vision) datasets in AI\n",
        "- from keras\n",
        "    - MNIST\n",
        "    - Fashion-MNIST\n",
        "    - CIFAR-10\n",
        "    - CIFAR-100\n",
        "\n"
      ]
    },
    {
      "cell_type": "markdown",
      "metadata": {
        "id": "oCn56Xh79GPp",
        "colab_type": "text"
      },
      "source": [
        "### MNIST (Modified National Institute of Standards and Technology)\n",
        "- (60000, 28, 28), train\n",
        "- (10000, 28, 28), test\n",
        "- grayscale images of handwritten single digits between 0 and 9"
      ]
    },
    {
      "cell_type": "code",
      "metadata": {
        "id": "LrN5-0J_9m6Z",
        "colab_type": "code",
        "colab": {}
      },
      "source": [
        "# use TensorFlow 2.x \n",
        "%tensorflow_version 2.x\n",
        "# %tensorflow_version 1.x\n"
      ],
      "execution_count": 0,
      "outputs": []
    },
    {
      "cell_type": "code",
      "metadata": {
        "id": "wZAy5gAA5_OE",
        "colab_type": "code",
        "colab": {}
      },
      "source": [
        "import numpy as np\n",
        "import tensorflow as tf\n",
        "from tensorflow import keras\n",
        "import pandas as pd\n",
        "import matplotlib.pyplot as plt\n",
        "%matplotlib inline\n",
        "\n",
        "print(tf.__version__)"
      ],
      "execution_count": 0,
      "outputs": []
    },
    {
      "cell_type": "code",
      "metadata": {
        "id": "jb1j3u9N7qXW",
        "colab_type": "code",
        "colab": {}
      },
      "source": [
        "from keras.datasets import mnist"
      ],
      "execution_count": 0,
      "outputs": []
    },
    {
      "cell_type": "code",
      "metadata": {
        "id": "vEH3xFY_9FF6",
        "colab_type": "code",
        "colab": {}
      },
      "source": [
        "# load dataset\n",
        "(trainX, trainy), (testX, testy) = mnist.load_data()\n",
        "# summarize loaded dataset\n",
        "print('Train: X=%s, y=%s' % (trainX.shape, trainy.shape))\n",
        "print('Test: X=%s, y=%s' % (testX.shape, testy.shape))\n"
      ],
      "execution_count": 0,
      "outputs": []
    },
    {
      "cell_type": "code",
      "metadata": {
        "id": "xHTllCXd9xm9",
        "colab_type": "code",
        "colab": {}
      },
      "source": [
        "# plot first few images\n",
        "for i in range(9):\n",
        "\t# define subplot\n",
        "\tplt.subplot(330 + 1 + i)\n",
        "\t# plot raw pixel data\n",
        "\tplt.imshow(trainX[i], cmap=plt.get_cmap('gray'))\n",
        "# show the figure\n",
        "# plt.show()"
      ],
      "execution_count": 0,
      "outputs": []
    },
    {
      "cell_type": "markdown",
      "metadata": {
        "colab_type": "text",
        "id": "fDPYiwic_e9R"
      },
      "source": [
        "### Fashion-MNIST Dataset\n",
        "- (60000, 28, 28), train\n",
        "- (10000, 28, 28), test\n",
        "- grayscale images of items of 10 types of clothing, such as shoes, t-shirts, dresses, and more."
      ]
    },
    {
      "cell_type": "code",
      "metadata": {
        "id": "ulcFyOk9_lUB",
        "colab_type": "code",
        "colab": {}
      },
      "source": [
        "from keras.datasets import fashion_mnist\n",
        "# load dataset\n",
        "(trainX, trainy), (testX, testy) = fashion_mnist.load_data()\n",
        "# summarize loaded dataset\n",
        "print('Train: X=%s, y=%s' % (trainX.shape, trainy.shape))\n",
        "print('Test: X=%s, y=%s' % (testX.shape, testy.shape))\n"
      ],
      "execution_count": 0,
      "outputs": []
    },
    {
      "cell_type": "code",
      "metadata": {
        "id": "KKw0JW6t_q7F",
        "colab_type": "code",
        "colab": {}
      },
      "source": [
        "# plot first few images\n",
        "for i in range(9):\n",
        "\t# define subplot\n",
        "\tplt.subplot(330 + 1 + i)\n",
        "\t# plot raw pixel data\n",
        "\tplt.imshow(trainX[i], cmap=plt.get_cmap('gray'))\n",
        "# show the figure\n",
        "# plt.show()"
      ],
      "execution_count": 0,
      "outputs": []
    },
    {
      "cell_type": "markdown",
      "metadata": {
        "colab_type": "text",
        "id": "M1YAaELN_fQq"
      },
      "source": [
        "### CIFAR-10 Dataset (CIFAR: Canadian Institute For Advanced Research)\n",
        "- (50000, 32, 32), train\n",
        "- (10000, 32, 32) test\n",
        "- color photographs of objects from 10 classes, such as frogs, birds, cats, ships, etc"
      ]
    },
    {
      "cell_type": "code",
      "metadata": {
        "id": "iTJBblaRBAyY",
        "colab_type": "code",
        "colab": {}
      },
      "source": [
        "from keras.datasets import cifar10\n",
        "# load dataset\n",
        "(trainX, trainy), (testX, testy) = cifar10.load_data()\n",
        "# summarize loaded dataset\n",
        "print('Train: X=%s, y=%s' % (trainX.shape, trainy.shape))\n",
        "print('Test: X=%s, y=%s' % (testX.shape, testy.shape))\n"
      ],
      "execution_count": 0,
      "outputs": []
    },
    {
      "cell_type": "code",
      "metadata": {
        "id": "EOuoySmRA8n-",
        "colab_type": "code",
        "colab": {}
      },
      "source": [
        "# plot first few images\n",
        "for i in range(9):\n",
        "\t# define subplot\n",
        "\tplt.subplot(330 + 1 + i)\n",
        "\t# plot raw pixel data\n",
        "\tplt.imshow(trainX[i])\n",
        "# show the figure\n",
        "# plt.show()"
      ],
      "execution_count": 0,
      "outputs": []
    },
    {
      "cell_type": "markdown",
      "metadata": {
        "colab_type": "text",
        "id": "6X7hjR20BzzQ"
      },
      "source": [
        "### CIFAR-100 Dataset (CIFAR: Canadian Institute For Advanced Research)\n",
        "- (50000, 32, 32), train\n",
        "- (10000, 32, 32) test\n",
        "- color photographs of objects from 100 classes, such as fish, flowers, insects, and much more"
      ]
    },
    {
      "cell_type": "code",
      "metadata": {
        "id": "pjAEqleIB-5h",
        "colab_type": "code",
        "colab": {}
      },
      "source": [
        "from keras.datasets import cifar100\n",
        "# load dataset\n",
        "(trainX, trainy), (testX, testy) = cifar100.load_data()\n",
        "# summarize loaded dataset\n",
        "print('Train: X=%s, y=%s' % (trainX.shape, trainy.shape))\n",
        "print('Test: X=%s, y=%s' % (testX.shape, testy.shape))"
      ],
      "execution_count": 0,
      "outputs": []
    },
    {
      "cell_type": "code",
      "metadata": {
        "id": "2Xa_YYkbQTMs",
        "colab_type": "code",
        "colab": {}
      },
      "source": [
        ""
      ],
      "execution_count": 0,
      "outputs": []
    },
    {
      "cell_type": "code",
      "metadata": {
        "id": "n2opLJIECHRq",
        "colab_type": "code",
        "colab": {}
      },
      "source": [
        "# plot first few images\n",
        "for i in range(9):\n",
        "\t# define subplot\n",
        "\tplt.subplot(330 + 1 + i)\n",
        "\t# plot raw pixel data\n",
        "\tplt.imshow(trainX[i])\n",
        "# show the figure\n",
        "# plt.show()"
      ],
      "execution_count": 0,
      "outputs": []
    },
    {
      "cell_type": "markdown",
      "metadata": {
        "id": "KzRSE5NPEPAD",
        "colab_type": "text"
      },
      "source": [
        "#### [도전} CIFAR-100의 첫 20개의 사진을 그려보시오."
      ]
    },
    {
      "cell_type": "code",
      "metadata": {
        "id": "RfUoIABcNorO",
        "colab_type": "code",
        "colab": {}
      },
      "source": [
        "\n",
        "type(trainy)\n",
        "unique, counts = np.unique(trainy, return_counts=True)\n",
        "mnist_train_dic = dict(zip(unique, counts))\n",
        "mnist_train_dic"
      ],
      "execution_count": 0,
      "outputs": []
    },
    {
      "cell_type": "code",
      "metadata": {
        "id": "hY_w4j6ZNtMO",
        "colab_type": "code",
        "colab": {}
      },
      "source": [
        "plt.bar(list(mnist_train_dic.keys()), mnist_train_dic.values(), color = 'g')"
      ],
      "execution_count": 0,
      "outputs": []
    },
    {
      "cell_type": "code",
      "metadata": {
        "id": "VHapgtu6DGh9",
        "colab_type": "code",
        "colab": {}
      },
      "source": [
        "fig = plt.figure(figsize=(12,15))\n",
        "for i in range(20):  # 100개를 봐야하므로 10이아닌 100\n",
        "  plt.subplot(4,5,i+1)\n",
        "  num0_9 = trainX[trainy[:,0] == i]  # trainy[:,0]  이 중요\n",
        "  plt.imshow(num0_9[0], cmap = 'gray')\n",
        "  plt.title(\"Class %d\" % (i))\n",
        "  plt.xticks([])\n",
        "  plt.yticks([])"
      ],
      "execution_count": 0,
      "outputs": []
    },
    {
      "cell_type": "code",
      "metadata": {
        "id": "tGQeXycwNnke",
        "colab_type": "code",
        "colab": {}
      },
      "source": [
        ""
      ],
      "execution_count": 0,
      "outputs": []
    },
    {
      "cell_type": "markdown",
      "metadata": {
        "id": "Dv7xgN1NCSwC",
        "colab_type": "text"
      },
      "source": [
        "## What is your dataset?"
      ]
    },
    {
      "cell_type": "code",
      "metadata": {
        "id": "J-LVdIFS8czZ",
        "colab_type": "code",
        "colab": {}
      },
      "source": [
        ""
      ],
      "execution_count": 0,
      "outputs": []
    }
  ]
}