{
  "nbformat": 4,
  "nbformat_minor": 0,
  "metadata": {
    "colab": {
      "name": "Untitled48.ipynb",
      "provenance": [],
      "authorship_tag": "ABX9TyNZ5z6N1sb7n2T7DtvNb7Cb",
      "include_colab_link": true
    },
    "kernelspec": {
      "name": "python3",
      "display_name": "Python 3"
    }
  },
  "cells": [
    {
      "cell_type": "markdown",
      "metadata": {
        "id": "view-in-github",
        "colab_type": "text"
      },
      "source": [
        "<a href=\"https://colab.research.google.com/github/rlfwo93/Python/blob/master/Untitled48.ipynb\" target=\"_parent\"><img src=\"https://colab.research.google.com/assets/colab-badge.svg\" alt=\"Open In Colab\"/></a>"
      ]
    },
    {
      "cell_type": "markdown",
      "metadata": {
        "id": "C7uHAwO4PWV2"
      },
      "source": [
        "# **모듈 불러오기**"
      ]
    },
    {
      "cell_type": "code",
      "metadata": {
        "colab": {
          "base_uri": "https://localhost:8080/",
          "height": 35
        },
        "id": "MAKvyzIONJ9P",
        "outputId": "5eb07eaf-41b6-4742-83f2-c70a21e42be3"
      },
      "source": [
        "import numpy as np\r\n",
        "import matplotlib.pyplot as plt\r\n",
        "import tensorflow as tf\r\n",
        "import pandas as pd\r\n",
        "from sklearn.model_selection import train_test_split\r\n",
        "from sklearn.neighbors import KNeighborsClassifier\r\n",
        "tf.__version__"
      ],
      "execution_count": 62,
      "outputs": [
        {
          "output_type": "execute_result",
          "data": {
            "application/vnd.google.colaboratory.intrinsic+json": {
              "type": "string"
            },
            "text/plain": [
              "'2.3.0'"
            ]
          },
          "metadata": {
            "tags": []
          },
          "execution_count": 62
        }
      ]
    },
    {
      "cell_type": "markdown",
      "metadata": {
        "id": "elnBWB1KPZWe"
      },
      "source": [
        "# **엑셀 불러오기**"
      ]
    },
    {
      "cell_type": "code",
      "metadata": {
        "id": "wpbnXuwjOD1P"
      },
      "source": [
        "brain = pd.read_excel(\"duih_dfa.xlsx\")"
      ],
      "execution_count": 12,
      "outputs": []
    },
    {
      "cell_type": "code",
      "metadata": {
        "colab": {
          "base_uri": "https://localhost:8080/"
        },
        "id": "ChTIfGn9PRnt",
        "outputId": "0db9c459-5948-4cc9-d76c-da30c0b23b33"
      },
      "source": [
        "print(brain)"
      ],
      "execution_count": 13,
      "outputs": [
        {
          "output_type": "stream",
          "text": [
            "        Group       Fp1        F7  ...        C4        P4        O2\n",
            "0      NonCZP  0.453575  0.564042  ...  0.750381  0.513921  0.388215\n",
            "1      NonCZP  0.468788  0.464526  ...  1.365283  0.246469  0.480016\n",
            "2      NonCZP  0.761824  0.713902  ...  1.070519  0.763317  0.728678\n",
            "3      NonCZP  0.320513  1.041483  ...  0.869266  0.306688  0.469720\n",
            "4      NonCZP  0.550035  0.642381  ...  0.830093  0.627568  0.961302\n",
            "...       ...       ...       ...  ...       ...       ...       ...\n",
            "31075     CZP  0.852304  0.765143  ...  0.199074  0.866088  0.537417\n",
            "31076     CZP  0.788118  0.677485  ...  1.003391  0.642248  0.504024\n",
            "31077     CZP  0.890973  0.538311  ...  0.865412  0.660497  0.955419\n",
            "31078     CZP  1.279263  1.172636  ...  1.302551  1.473136  1.106737\n",
            "31079     CZP  0.474424  0.668689  ...  0.504502  1.129228  0.543831\n",
            "\n",
            "[31080 rows x 19 columns]\n"
          ],
          "name": "stdout"
        }
      ]
    },
    {
      "cell_type": "markdown",
      "metadata": {
        "id": "zw2po6ZPP_p-"
      },
      "source": [
        "# **손실값 파악**"
      ]
    },
    {
      "cell_type": "code",
      "metadata": {
        "colab": {
          "base_uri": "https://localhost:8080/"
        },
        "id": "gZ09AZtFPywm",
        "outputId": "ad4fa1e5-bf39-484d-f422-8d7e1959891d"
      },
      "source": [
        "brain.isnull().sum()"
      ],
      "execution_count": 14,
      "outputs": [
        {
          "output_type": "execute_result",
          "data": {
            "text/plain": [
              "Group     0\n",
              "Fp1       7\n",
              "F7       33\n",
              "T3       55\n",
              "T5       55\n",
              "F3       32\n",
              "C3       26\n",
              "P3       32\n",
              "O1       37\n",
              "Fz       20\n",
              "Pz       27\n",
              "Fp2      28\n",
              "F8       43\n",
              "T4       13\n",
              "T6       25\n",
              "F4       37\n",
              "C4       41\n",
              "P4       21\n",
              "O2       38\n",
              "dtype: int64"
            ]
          },
          "metadata": {
            "tags": []
          },
          "execution_count": 14
        }
      ]
    },
    {
      "cell_type": "markdown",
      "metadata": {
        "id": "p2sZmNuLVWyl"
      },
      "source": [
        "# **결측값을 평균값으로 대체**"
      ]
    },
    {
      "cell_type": "code",
      "metadata": {
        "colab": {
          "base_uri": "https://localhost:8080/",
          "height": 419
        },
        "id": "dWpvTJANVJBw",
        "outputId": "443b21ff-b95d-4f61-801f-669b982196fb"
      },
      "source": [
        "brainre=brain.fillna(0.717008)\r\n",
        "brainre"
      ],
      "execution_count": 22,
      "outputs": [
        {
          "output_type": "execute_result",
          "data": {
            "text/html": [
              "<div>\n",
              "<style scoped>\n",
              "    .dataframe tbody tr th:only-of-type {\n",
              "        vertical-align: middle;\n",
              "    }\n",
              "\n",
              "    .dataframe tbody tr th {\n",
              "        vertical-align: top;\n",
              "    }\n",
              "\n",
              "    .dataframe thead th {\n",
              "        text-align: right;\n",
              "    }\n",
              "</style>\n",
              "<table border=\"1\" class=\"dataframe\">\n",
              "  <thead>\n",
              "    <tr style=\"text-align: right;\">\n",
              "      <th></th>\n",
              "      <th>Group</th>\n",
              "      <th>Fp1</th>\n",
              "      <th>F7</th>\n",
              "      <th>T3</th>\n",
              "      <th>T5</th>\n",
              "      <th>F3</th>\n",
              "      <th>C3</th>\n",
              "      <th>P3</th>\n",
              "      <th>O1</th>\n",
              "      <th>Fz</th>\n",
              "      <th>Pz</th>\n",
              "      <th>Fp2</th>\n",
              "      <th>F8</th>\n",
              "      <th>T4</th>\n",
              "      <th>T6</th>\n",
              "      <th>F4</th>\n",
              "      <th>C4</th>\n",
              "      <th>P4</th>\n",
              "      <th>O2</th>\n",
              "    </tr>\n",
              "  </thead>\n",
              "  <tbody>\n",
              "    <tr>\n",
              "      <th>0</th>\n",
              "      <td>NonCZP</td>\n",
              "      <td>0.453575</td>\n",
              "      <td>0.564042</td>\n",
              "      <td>0.556784</td>\n",
              "      <td>0.637439</td>\n",
              "      <td>0.209537</td>\n",
              "      <td>0.800940</td>\n",
              "      <td>0.761023</td>\n",
              "      <td>0.747436</td>\n",
              "      <td>0.305095</td>\n",
              "      <td>0.564888</td>\n",
              "      <td>0.745528</td>\n",
              "      <td>0.659783</td>\n",
              "      <td>0.387473</td>\n",
              "      <td>0.335281</td>\n",
              "      <td>0.530255</td>\n",
              "      <td>0.750381</td>\n",
              "      <td>0.513921</td>\n",
              "      <td>0.388215</td>\n",
              "    </tr>\n",
              "    <tr>\n",
              "      <th>1</th>\n",
              "      <td>NonCZP</td>\n",
              "      <td>0.468788</td>\n",
              "      <td>0.464526</td>\n",
              "      <td>0.556084</td>\n",
              "      <td>0.362510</td>\n",
              "      <td>0.500104</td>\n",
              "      <td>0.614666</td>\n",
              "      <td>0.321130</td>\n",
              "      <td>1.069956</td>\n",
              "      <td>0.454957</td>\n",
              "      <td>0.712725</td>\n",
              "      <td>0.355890</td>\n",
              "      <td>0.498773</td>\n",
              "      <td>0.142149</td>\n",
              "      <td>0.323086</td>\n",
              "      <td>0.364096</td>\n",
              "      <td>1.365283</td>\n",
              "      <td>0.246469</td>\n",
              "      <td>0.480016</td>\n",
              "    </tr>\n",
              "    <tr>\n",
              "      <th>2</th>\n",
              "      <td>NonCZP</td>\n",
              "      <td>0.761824</td>\n",
              "      <td>0.713902</td>\n",
              "      <td>0.551635</td>\n",
              "      <td>0.799061</td>\n",
              "      <td>0.718088</td>\n",
              "      <td>0.556565</td>\n",
              "      <td>1.247161</td>\n",
              "      <td>0.724326</td>\n",
              "      <td>0.917388</td>\n",
              "      <td>0.352680</td>\n",
              "      <td>0.891987</td>\n",
              "      <td>0.426286</td>\n",
              "      <td>0.314502</td>\n",
              "      <td>0.636114</td>\n",
              "      <td>1.107768</td>\n",
              "      <td>1.070519</td>\n",
              "      <td>0.763317</td>\n",
              "      <td>0.728678</td>\n",
              "    </tr>\n",
              "    <tr>\n",
              "      <th>3</th>\n",
              "      <td>NonCZP</td>\n",
              "      <td>0.320513</td>\n",
              "      <td>1.041483</td>\n",
              "      <td>0.562281</td>\n",
              "      <td>0.460085</td>\n",
              "      <td>0.463860</td>\n",
              "      <td>0.081854</td>\n",
              "      <td>0.838522</td>\n",
              "      <td>0.223370</td>\n",
              "      <td>0.686811</td>\n",
              "      <td>0.581258</td>\n",
              "      <td>0.481063</td>\n",
              "      <td>0.330527</td>\n",
              "      <td>0.372371</td>\n",
              "      <td>0.310489</td>\n",
              "      <td>0.461525</td>\n",
              "      <td>0.869266</td>\n",
              "      <td>0.306688</td>\n",
              "      <td>0.469720</td>\n",
              "    </tr>\n",
              "    <tr>\n",
              "      <th>4</th>\n",
              "      <td>NonCZP</td>\n",
              "      <td>0.550035</td>\n",
              "      <td>0.642381</td>\n",
              "      <td>1.062290</td>\n",
              "      <td>0.865921</td>\n",
              "      <td>0.905292</td>\n",
              "      <td>0.820959</td>\n",
              "      <td>0.585278</td>\n",
              "      <td>0.339363</td>\n",
              "      <td>0.760805</td>\n",
              "      <td>1.089401</td>\n",
              "      <td>0.509570</td>\n",
              "      <td>0.655549</td>\n",
              "      <td>0.901712</td>\n",
              "      <td>0.765397</td>\n",
              "      <td>0.875171</td>\n",
              "      <td>0.830093</td>\n",
              "      <td>0.627568</td>\n",
              "      <td>0.961302</td>\n",
              "    </tr>\n",
              "    <tr>\n",
              "      <th>...</th>\n",
              "      <td>...</td>\n",
              "      <td>...</td>\n",
              "      <td>...</td>\n",
              "      <td>...</td>\n",
              "      <td>...</td>\n",
              "      <td>...</td>\n",
              "      <td>...</td>\n",
              "      <td>...</td>\n",
              "      <td>...</td>\n",
              "      <td>...</td>\n",
              "      <td>...</td>\n",
              "      <td>...</td>\n",
              "      <td>...</td>\n",
              "      <td>...</td>\n",
              "      <td>...</td>\n",
              "      <td>...</td>\n",
              "      <td>...</td>\n",
              "      <td>...</td>\n",
              "      <td>...</td>\n",
              "    </tr>\n",
              "    <tr>\n",
              "      <th>31075</th>\n",
              "      <td>CZP</td>\n",
              "      <td>0.852304</td>\n",
              "      <td>0.765143</td>\n",
              "      <td>0.681175</td>\n",
              "      <td>0.384575</td>\n",
              "      <td>0.699496</td>\n",
              "      <td>0.866565</td>\n",
              "      <td>0.544377</td>\n",
              "      <td>0.405061</td>\n",
              "      <td>0.296469</td>\n",
              "      <td>1.106938</td>\n",
              "      <td>0.612169</td>\n",
              "      <td>0.288407</td>\n",
              "      <td>0.585331</td>\n",
              "      <td>0.844580</td>\n",
              "      <td>0.680941</td>\n",
              "      <td>0.199074</td>\n",
              "      <td>0.866088</td>\n",
              "      <td>0.537417</td>\n",
              "    </tr>\n",
              "    <tr>\n",
              "      <th>31076</th>\n",
              "      <td>CZP</td>\n",
              "      <td>0.788118</td>\n",
              "      <td>0.677485</td>\n",
              "      <td>0.627501</td>\n",
              "      <td>0.689511</td>\n",
              "      <td>0.740181</td>\n",
              "      <td>0.655981</td>\n",
              "      <td>0.743361</td>\n",
              "      <td>0.677243</td>\n",
              "      <td>0.661745</td>\n",
              "      <td>0.581599</td>\n",
              "      <td>0.843679</td>\n",
              "      <td>0.649858</td>\n",
              "      <td>0.901267</td>\n",
              "      <td>0.679429</td>\n",
              "      <td>0.806627</td>\n",
              "      <td>1.003391</td>\n",
              "      <td>0.642248</td>\n",
              "      <td>0.504024</td>\n",
              "    </tr>\n",
              "    <tr>\n",
              "      <th>31077</th>\n",
              "      <td>CZP</td>\n",
              "      <td>0.890973</td>\n",
              "      <td>0.538311</td>\n",
              "      <td>0.547298</td>\n",
              "      <td>0.673904</td>\n",
              "      <td>0.874004</td>\n",
              "      <td>0.924029</td>\n",
              "      <td>0.511788</td>\n",
              "      <td>0.882989</td>\n",
              "      <td>0.957397</td>\n",
              "      <td>0.583462</td>\n",
              "      <td>0.843166</td>\n",
              "      <td>0.604823</td>\n",
              "      <td>0.701230</td>\n",
              "      <td>0.720206</td>\n",
              "      <td>0.926973</td>\n",
              "      <td>0.865412</td>\n",
              "      <td>0.660497</td>\n",
              "      <td>0.955419</td>\n",
              "    </tr>\n",
              "    <tr>\n",
              "      <th>31078</th>\n",
              "      <td>CZP</td>\n",
              "      <td>1.279263</td>\n",
              "      <td>1.172636</td>\n",
              "      <td>0.697928</td>\n",
              "      <td>0.286166</td>\n",
              "      <td>1.107689</td>\n",
              "      <td>0.588270</td>\n",
              "      <td>1.001763</td>\n",
              "      <td>0.624696</td>\n",
              "      <td>0.886751</td>\n",
              "      <td>1.440829</td>\n",
              "      <td>0.862042</td>\n",
              "      <td>0.840432</td>\n",
              "      <td>0.975955</td>\n",
              "      <td>0.984204</td>\n",
              "      <td>0.720300</td>\n",
              "      <td>1.302551</td>\n",
              "      <td>1.473136</td>\n",
              "      <td>1.106737</td>\n",
              "    </tr>\n",
              "    <tr>\n",
              "      <th>31079</th>\n",
              "      <td>CZP</td>\n",
              "      <td>0.474424</td>\n",
              "      <td>0.668689</td>\n",
              "      <td>0.917154</td>\n",
              "      <td>0.621782</td>\n",
              "      <td>0.526013</td>\n",
              "      <td>0.790357</td>\n",
              "      <td>0.586555</td>\n",
              "      <td>0.745475</td>\n",
              "      <td>0.359765</td>\n",
              "      <td>0.373755</td>\n",
              "      <td>0.786078</td>\n",
              "      <td>0.565928</td>\n",
              "      <td>1.031918</td>\n",
              "      <td>0.224221</td>\n",
              "      <td>0.855359</td>\n",
              "      <td>0.504502</td>\n",
              "      <td>1.129228</td>\n",
              "      <td>0.543831</td>\n",
              "    </tr>\n",
              "  </tbody>\n",
              "</table>\n",
              "<p>31080 rows × 19 columns</p>\n",
              "</div>"
            ],
            "text/plain": [
              "        Group       Fp1        F7  ...        C4        P4        O2\n",
              "0      NonCZP  0.453575  0.564042  ...  0.750381  0.513921  0.388215\n",
              "1      NonCZP  0.468788  0.464526  ...  1.365283  0.246469  0.480016\n",
              "2      NonCZP  0.761824  0.713902  ...  1.070519  0.763317  0.728678\n",
              "3      NonCZP  0.320513  1.041483  ...  0.869266  0.306688  0.469720\n",
              "4      NonCZP  0.550035  0.642381  ...  0.830093  0.627568  0.961302\n",
              "...       ...       ...       ...  ...       ...       ...       ...\n",
              "31075     CZP  0.852304  0.765143  ...  0.199074  0.866088  0.537417\n",
              "31076     CZP  0.788118  0.677485  ...  1.003391  0.642248  0.504024\n",
              "31077     CZP  0.890973  0.538311  ...  0.865412  0.660497  0.955419\n",
              "31078     CZP  1.279263  1.172636  ...  1.302551  1.473136  1.106737\n",
              "31079     CZP  0.474424  0.668689  ...  0.504502  1.129228  0.543831\n",
              "\n",
              "[31080 rows x 19 columns]"
            ]
          },
          "metadata": {
            "tags": []
          },
          "execution_count": 22
        }
      ]
    },
    {
      "cell_type": "markdown",
      "metadata": {
        "id": "UPxCWRgWVo7G"
      },
      "source": [
        "# **결측값을 제거한 것과 안한것 시각적 비교**"
      ]
    },
    {
      "cell_type": "code",
      "metadata": {
        "colab": {
          "base_uri": "https://localhost:8080/"
        },
        "id": "zkB368l6VZIt",
        "outputId": "3feca43b-afeb-4919-dfa5-f23c2f0e3cfb"
      },
      "source": [
        "#원래의 값\r\n",
        "brain.isnull().sum()\r\n"
      ],
      "execution_count": 23,
      "outputs": [
        {
          "output_type": "execute_result",
          "data": {
            "text/plain": [
              "Group     0\n",
              "Fp1       7\n",
              "F7       33\n",
              "T3       55\n",
              "T5       55\n",
              "F3       32\n",
              "C3       26\n",
              "P3       32\n",
              "O1       37\n",
              "Fz       20\n",
              "Pz       27\n",
              "Fp2      28\n",
              "F8       43\n",
              "T4       13\n",
              "T6       25\n",
              "F4       37\n",
              "C4       41\n",
              "P4       21\n",
              "O2       38\n",
              "dtype: int64"
            ]
          },
          "metadata": {
            "tags": []
          },
          "execution_count": 23
        }
      ]
    },
    {
      "cell_type": "code",
      "metadata": {
        "colab": {
          "base_uri": "https://localhost:8080/"
        },
        "id": "_fGijRUXVjgO",
        "outputId": "993b16bb-d1b9-488d-ac6c-f8367eda24d6"
      },
      "source": [
        "#손실값을 평균값으로 대체\r\n",
        "brainre.isnull().sum()"
      ],
      "execution_count": 24,
      "outputs": [
        {
          "output_type": "execute_result",
          "data": {
            "text/plain": [
              "Group    0\n",
              "Fp1      0\n",
              "F7       0\n",
              "T3       0\n",
              "T5       0\n",
              "F3       0\n",
              "C3       0\n",
              "P3       0\n",
              "O1       0\n",
              "Fz       0\n",
              "Pz       0\n",
              "Fp2      0\n",
              "F8       0\n",
              "T4       0\n",
              "T6       0\n",
              "F4       0\n",
              "C4       0\n",
              "P4       0\n",
              "O2       0\n",
              "dtype: int64"
            ]
          },
          "metadata": {
            "tags": []
          },
          "execution_count": 24
        }
      ]
    },
    {
      "cell_type": "markdown",
      "metadata": {
        "id": "S_tGrJtwRGqP"
      },
      "source": [
        "# **데이터 준비**"
      ]
    },
    {
      "cell_type": "code",
      "metadata": {
        "colab": {
          "base_uri": "https://localhost:8080/",
          "height": 419
        },
        "id": "9QaAT0_-lB7O",
        "outputId": "a0acc6eb-4d23-4758-dda8-7dbfb60906b8"
      },
      "source": [
        "data = brainre.iloc[0:,1:]\r\n",
        "data\r\n"
      ],
      "execution_count": 97,
      "outputs": [
        {
          "output_type": "execute_result",
          "data": {
            "text/html": [
              "<div>\n",
              "<style scoped>\n",
              "    .dataframe tbody tr th:only-of-type {\n",
              "        vertical-align: middle;\n",
              "    }\n",
              "\n",
              "    .dataframe tbody tr th {\n",
              "        vertical-align: top;\n",
              "    }\n",
              "\n",
              "    .dataframe thead th {\n",
              "        text-align: right;\n",
              "    }\n",
              "</style>\n",
              "<table border=\"1\" class=\"dataframe\">\n",
              "  <thead>\n",
              "    <tr style=\"text-align: right;\">\n",
              "      <th></th>\n",
              "      <th>Fp1</th>\n",
              "      <th>F7</th>\n",
              "      <th>T3</th>\n",
              "      <th>T5</th>\n",
              "      <th>F3</th>\n",
              "      <th>C3</th>\n",
              "      <th>P3</th>\n",
              "      <th>O1</th>\n",
              "      <th>Fz</th>\n",
              "      <th>Pz</th>\n",
              "      <th>Fp2</th>\n",
              "      <th>F8</th>\n",
              "      <th>T4</th>\n",
              "      <th>T6</th>\n",
              "      <th>F4</th>\n",
              "      <th>C4</th>\n",
              "      <th>P4</th>\n",
              "      <th>O2</th>\n",
              "    </tr>\n",
              "  </thead>\n",
              "  <tbody>\n",
              "    <tr>\n",
              "      <th>0</th>\n",
              "      <td>0.453575</td>\n",
              "      <td>0.564042</td>\n",
              "      <td>0.556784</td>\n",
              "      <td>0.637439</td>\n",
              "      <td>0.209537</td>\n",
              "      <td>0.800940</td>\n",
              "      <td>0.761023</td>\n",
              "      <td>0.747436</td>\n",
              "      <td>0.305095</td>\n",
              "      <td>0.564888</td>\n",
              "      <td>0.745528</td>\n",
              "      <td>0.659783</td>\n",
              "      <td>0.387473</td>\n",
              "      <td>0.335281</td>\n",
              "      <td>0.530255</td>\n",
              "      <td>0.750381</td>\n",
              "      <td>0.513921</td>\n",
              "      <td>0.388215</td>\n",
              "    </tr>\n",
              "    <tr>\n",
              "      <th>1</th>\n",
              "      <td>0.468788</td>\n",
              "      <td>0.464526</td>\n",
              "      <td>0.556084</td>\n",
              "      <td>0.362510</td>\n",
              "      <td>0.500104</td>\n",
              "      <td>0.614666</td>\n",
              "      <td>0.321130</td>\n",
              "      <td>1.069956</td>\n",
              "      <td>0.454957</td>\n",
              "      <td>0.712725</td>\n",
              "      <td>0.355890</td>\n",
              "      <td>0.498773</td>\n",
              "      <td>0.142149</td>\n",
              "      <td>0.323086</td>\n",
              "      <td>0.364096</td>\n",
              "      <td>1.365283</td>\n",
              "      <td>0.246469</td>\n",
              "      <td>0.480016</td>\n",
              "    </tr>\n",
              "    <tr>\n",
              "      <th>2</th>\n",
              "      <td>0.761824</td>\n",
              "      <td>0.713902</td>\n",
              "      <td>0.551635</td>\n",
              "      <td>0.799061</td>\n",
              "      <td>0.718088</td>\n",
              "      <td>0.556565</td>\n",
              "      <td>1.247161</td>\n",
              "      <td>0.724326</td>\n",
              "      <td>0.917388</td>\n",
              "      <td>0.352680</td>\n",
              "      <td>0.891987</td>\n",
              "      <td>0.426286</td>\n",
              "      <td>0.314502</td>\n",
              "      <td>0.636114</td>\n",
              "      <td>1.107768</td>\n",
              "      <td>1.070519</td>\n",
              "      <td>0.763317</td>\n",
              "      <td>0.728678</td>\n",
              "    </tr>\n",
              "    <tr>\n",
              "      <th>3</th>\n",
              "      <td>0.320513</td>\n",
              "      <td>1.041483</td>\n",
              "      <td>0.562281</td>\n",
              "      <td>0.460085</td>\n",
              "      <td>0.463860</td>\n",
              "      <td>0.081854</td>\n",
              "      <td>0.838522</td>\n",
              "      <td>0.223370</td>\n",
              "      <td>0.686811</td>\n",
              "      <td>0.581258</td>\n",
              "      <td>0.481063</td>\n",
              "      <td>0.330527</td>\n",
              "      <td>0.372371</td>\n",
              "      <td>0.310489</td>\n",
              "      <td>0.461525</td>\n",
              "      <td>0.869266</td>\n",
              "      <td>0.306688</td>\n",
              "      <td>0.469720</td>\n",
              "    </tr>\n",
              "    <tr>\n",
              "      <th>4</th>\n",
              "      <td>0.550035</td>\n",
              "      <td>0.642381</td>\n",
              "      <td>1.062290</td>\n",
              "      <td>0.865921</td>\n",
              "      <td>0.905292</td>\n",
              "      <td>0.820959</td>\n",
              "      <td>0.585278</td>\n",
              "      <td>0.339363</td>\n",
              "      <td>0.760805</td>\n",
              "      <td>1.089401</td>\n",
              "      <td>0.509570</td>\n",
              "      <td>0.655549</td>\n",
              "      <td>0.901712</td>\n",
              "      <td>0.765397</td>\n",
              "      <td>0.875171</td>\n",
              "      <td>0.830093</td>\n",
              "      <td>0.627568</td>\n",
              "      <td>0.961302</td>\n",
              "    </tr>\n",
              "    <tr>\n",
              "      <th>...</th>\n",
              "      <td>...</td>\n",
              "      <td>...</td>\n",
              "      <td>...</td>\n",
              "      <td>...</td>\n",
              "      <td>...</td>\n",
              "      <td>...</td>\n",
              "      <td>...</td>\n",
              "      <td>...</td>\n",
              "      <td>...</td>\n",
              "      <td>...</td>\n",
              "      <td>...</td>\n",
              "      <td>...</td>\n",
              "      <td>...</td>\n",
              "      <td>...</td>\n",
              "      <td>...</td>\n",
              "      <td>...</td>\n",
              "      <td>...</td>\n",
              "      <td>...</td>\n",
              "    </tr>\n",
              "    <tr>\n",
              "      <th>31075</th>\n",
              "      <td>0.852304</td>\n",
              "      <td>0.765143</td>\n",
              "      <td>0.681175</td>\n",
              "      <td>0.384575</td>\n",
              "      <td>0.699496</td>\n",
              "      <td>0.866565</td>\n",
              "      <td>0.544377</td>\n",
              "      <td>0.405061</td>\n",
              "      <td>0.296469</td>\n",
              "      <td>1.106938</td>\n",
              "      <td>0.612169</td>\n",
              "      <td>0.288407</td>\n",
              "      <td>0.585331</td>\n",
              "      <td>0.844580</td>\n",
              "      <td>0.680941</td>\n",
              "      <td>0.199074</td>\n",
              "      <td>0.866088</td>\n",
              "      <td>0.537417</td>\n",
              "    </tr>\n",
              "    <tr>\n",
              "      <th>31076</th>\n",
              "      <td>0.788118</td>\n",
              "      <td>0.677485</td>\n",
              "      <td>0.627501</td>\n",
              "      <td>0.689511</td>\n",
              "      <td>0.740181</td>\n",
              "      <td>0.655981</td>\n",
              "      <td>0.743361</td>\n",
              "      <td>0.677243</td>\n",
              "      <td>0.661745</td>\n",
              "      <td>0.581599</td>\n",
              "      <td>0.843679</td>\n",
              "      <td>0.649858</td>\n",
              "      <td>0.901267</td>\n",
              "      <td>0.679429</td>\n",
              "      <td>0.806627</td>\n",
              "      <td>1.003391</td>\n",
              "      <td>0.642248</td>\n",
              "      <td>0.504024</td>\n",
              "    </tr>\n",
              "    <tr>\n",
              "      <th>31077</th>\n",
              "      <td>0.890973</td>\n",
              "      <td>0.538311</td>\n",
              "      <td>0.547298</td>\n",
              "      <td>0.673904</td>\n",
              "      <td>0.874004</td>\n",
              "      <td>0.924029</td>\n",
              "      <td>0.511788</td>\n",
              "      <td>0.882989</td>\n",
              "      <td>0.957397</td>\n",
              "      <td>0.583462</td>\n",
              "      <td>0.843166</td>\n",
              "      <td>0.604823</td>\n",
              "      <td>0.701230</td>\n",
              "      <td>0.720206</td>\n",
              "      <td>0.926973</td>\n",
              "      <td>0.865412</td>\n",
              "      <td>0.660497</td>\n",
              "      <td>0.955419</td>\n",
              "    </tr>\n",
              "    <tr>\n",
              "      <th>31078</th>\n",
              "      <td>1.279263</td>\n",
              "      <td>1.172636</td>\n",
              "      <td>0.697928</td>\n",
              "      <td>0.286166</td>\n",
              "      <td>1.107689</td>\n",
              "      <td>0.588270</td>\n",
              "      <td>1.001763</td>\n",
              "      <td>0.624696</td>\n",
              "      <td>0.886751</td>\n",
              "      <td>1.440829</td>\n",
              "      <td>0.862042</td>\n",
              "      <td>0.840432</td>\n",
              "      <td>0.975955</td>\n",
              "      <td>0.984204</td>\n",
              "      <td>0.720300</td>\n",
              "      <td>1.302551</td>\n",
              "      <td>1.473136</td>\n",
              "      <td>1.106737</td>\n",
              "    </tr>\n",
              "    <tr>\n",
              "      <th>31079</th>\n",
              "      <td>0.474424</td>\n",
              "      <td>0.668689</td>\n",
              "      <td>0.917154</td>\n",
              "      <td>0.621782</td>\n",
              "      <td>0.526013</td>\n",
              "      <td>0.790357</td>\n",
              "      <td>0.586555</td>\n",
              "      <td>0.745475</td>\n",
              "      <td>0.359765</td>\n",
              "      <td>0.373755</td>\n",
              "      <td>0.786078</td>\n",
              "      <td>0.565928</td>\n",
              "      <td>1.031918</td>\n",
              "      <td>0.224221</td>\n",
              "      <td>0.855359</td>\n",
              "      <td>0.504502</td>\n",
              "      <td>1.129228</td>\n",
              "      <td>0.543831</td>\n",
              "    </tr>\n",
              "  </tbody>\n",
              "</table>\n",
              "<p>31080 rows × 18 columns</p>\n",
              "</div>"
            ],
            "text/plain": [
              "            Fp1        F7        T3  ...        C4        P4        O2\n",
              "0      0.453575  0.564042  0.556784  ...  0.750381  0.513921  0.388215\n",
              "1      0.468788  0.464526  0.556084  ...  1.365283  0.246469  0.480016\n",
              "2      0.761824  0.713902  0.551635  ...  1.070519  0.763317  0.728678\n",
              "3      0.320513  1.041483  0.562281  ...  0.869266  0.306688  0.469720\n",
              "4      0.550035  0.642381  1.062290  ...  0.830093  0.627568  0.961302\n",
              "...         ...       ...       ...  ...       ...       ...       ...\n",
              "31075  0.852304  0.765143  0.681175  ...  0.199074  0.866088  0.537417\n",
              "31076  0.788118  0.677485  0.627501  ...  1.003391  0.642248  0.504024\n",
              "31077  0.890973  0.538311  0.547298  ...  0.865412  0.660497  0.955419\n",
              "31078  1.279263  1.172636  0.697928  ...  1.302551  1.473136  1.106737\n",
              "31079  0.474424  0.668689  0.917154  ...  0.504502  1.129228  0.543831\n",
              "\n",
              "[31080 rows x 18 columns]"
            ]
          },
          "metadata": {
            "tags": []
          },
          "execution_count": 97
        }
      ]
    },
    {
      "cell_type": "code",
      "metadata": {
        "colab": {
          "base_uri": "https://localhost:8080/"
        },
        "id": "rnPyb0zqnWUN",
        "outputId": "6291f2c5-7c59-4485-984e-b97ecfa3d33a"
      },
      "source": [
        "print(\"data.shape = {0}\".format(data.shape))"
      ],
      "execution_count": 96,
      "outputs": [
        {
          "output_type": "stream",
          "text": [
            "data.shape = (31080, 18)\n"
          ],
          "name": "stdout"
        }
      ]
    },
    {
      "cell_type": "code",
      "metadata": {
        "colab": {
          "base_uri": "https://localhost:8080/",
          "height": 419
        },
        "id": "iFw9Y_oamT1O",
        "outputId": "0be42637-839d-4af7-9903-e0d5fca09cd9"
      },
      "source": [
        "target = brainre.iloc[0:,0:1]"
      ],
      "execution_count": 95,
      "outputs": [
        {
          "output_type": "execute_result",
          "data": {
            "text/html": [
              "<div>\n",
              "<style scoped>\n",
              "    .dataframe tbody tr th:only-of-type {\n",
              "        vertical-align: middle;\n",
              "    }\n",
              "\n",
              "    .dataframe tbody tr th {\n",
              "        vertical-align: top;\n",
              "    }\n",
              "\n",
              "    .dataframe thead th {\n",
              "        text-align: right;\n",
              "    }\n",
              "</style>\n",
              "<table border=\"1\" class=\"dataframe\">\n",
              "  <thead>\n",
              "    <tr style=\"text-align: right;\">\n",
              "      <th></th>\n",
              "      <th>Group</th>\n",
              "    </tr>\n",
              "  </thead>\n",
              "  <tbody>\n",
              "    <tr>\n",
              "      <th>0</th>\n",
              "      <td>NonCZP</td>\n",
              "    </tr>\n",
              "    <tr>\n",
              "      <th>1</th>\n",
              "      <td>NonCZP</td>\n",
              "    </tr>\n",
              "    <tr>\n",
              "      <th>2</th>\n",
              "      <td>NonCZP</td>\n",
              "    </tr>\n",
              "    <tr>\n",
              "      <th>3</th>\n",
              "      <td>NonCZP</td>\n",
              "    </tr>\n",
              "    <tr>\n",
              "      <th>4</th>\n",
              "      <td>NonCZP</td>\n",
              "    </tr>\n",
              "    <tr>\n",
              "      <th>...</th>\n",
              "      <td>...</td>\n",
              "    </tr>\n",
              "    <tr>\n",
              "      <th>31075</th>\n",
              "      <td>CZP</td>\n",
              "    </tr>\n",
              "    <tr>\n",
              "      <th>31076</th>\n",
              "      <td>CZP</td>\n",
              "    </tr>\n",
              "    <tr>\n",
              "      <th>31077</th>\n",
              "      <td>CZP</td>\n",
              "    </tr>\n",
              "    <tr>\n",
              "      <th>31078</th>\n",
              "      <td>CZP</td>\n",
              "    </tr>\n",
              "    <tr>\n",
              "      <th>31079</th>\n",
              "      <td>CZP</td>\n",
              "    </tr>\n",
              "  </tbody>\n",
              "</table>\n",
              "<p>31080 rows × 1 columns</p>\n",
              "</div>"
            ],
            "text/plain": [
              "        Group\n",
              "0      NonCZP\n",
              "1      NonCZP\n",
              "2      NonCZP\n",
              "3      NonCZP\n",
              "4      NonCZP\n",
              "...       ...\n",
              "31075     CZP\n",
              "31076     CZP\n",
              "31077     CZP\n",
              "31078     CZP\n",
              "31079     CZP\n",
              "\n",
              "[31080 rows x 1 columns]"
            ]
          },
          "metadata": {
            "tags": []
          },
          "execution_count": 95
        }
      ]
    },
    {
      "cell_type": "code",
      "metadata": {
        "colab": {
          "base_uri": "https://localhost:8080/"
        },
        "id": "yXwZpawJnY8t",
        "outputId": "9dc9157c-27d7-43af-b51d-525dcc32c7bd"
      },
      "source": [
        "print(\"target.shape = {0}\".format(target.shape))"
      ],
      "execution_count": 98,
      "outputs": [
        {
          "output_type": "stream",
          "text": [
            "target.shape = (31080, 1)\n"
          ],
          "name": "stdout"
        }
      ]
    },
    {
      "cell_type": "code",
      "metadata": {
        "id": "H1EHyy11RF9w"
      },
      "source": [
        "x_train,y_train,x_test, y_test = train_test_split(data, target, test_size=0.25, random_state=20161508)"
      ],
      "execution_count": 161,
      "outputs": []
    },
    {
      "cell_type": "code",
      "metadata": {
        "colab": {
          "base_uri": "https://localhost:8080/"
        },
        "id": "NermYfzkmv_X",
        "outputId": "9477f3b5-166f-4b2c-b846-0e3c77e717ee"
      },
      "source": [
        "print(\"x_train.shape = {0}\".format(x_train.shape))\r\n",
        "print(\"x_test.shape = {0}\".format(x_test.shape))\r\n",
        "print(\"y_train.shape = {0}\".format(y_train.shape))\r\n",
        "print(\"y_test.shape = {0}\".format(y_test.shape))"
      ],
      "execution_count": 162,
      "outputs": [
        {
          "output_type": "stream",
          "text": [
            "x_train.shape = (23310, 18)\n",
            "x_test.shape = (23310, 1)\n",
            "y_train.shape = (7770, 18)\n",
            "y_test.shape = (7770, 1)\n"
          ],
          "name": "stdout"
        }
      ]
    },
    {
      "cell_type": "code",
      "metadata": {
        "colab": {
          "base_uri": "https://localhost:8080/",
          "height": 419
        },
        "id": "FrpdHORExDsV",
        "outputId": "ae3a2fe2-9512-463b-d71e-86b962195bd8"
      },
      "source": [
        "x_test = x_test.replace(\"NonCZP\",0)\r\n",
        "x_test = x_test.replace(\"CZP\",1)\r\n",
        "\r\n",
        "x_test"
      ],
      "execution_count": 175,
      "outputs": [
        {
          "output_type": "execute_result",
          "data": {
            "text/html": [
              "<div>\n",
              "<style scoped>\n",
              "    .dataframe tbody tr th:only-of-type {\n",
              "        vertical-align: middle;\n",
              "    }\n",
              "\n",
              "    .dataframe tbody tr th {\n",
              "        vertical-align: top;\n",
              "    }\n",
              "\n",
              "    .dataframe thead th {\n",
              "        text-align: right;\n",
              "    }\n",
              "</style>\n",
              "<table border=\"1\" class=\"dataframe\">\n",
              "  <thead>\n",
              "    <tr style=\"text-align: right;\">\n",
              "      <th></th>\n",
              "      <th>Group</th>\n",
              "    </tr>\n",
              "  </thead>\n",
              "  <tbody>\n",
              "    <tr>\n",
              "      <th>7294</th>\n",
              "      <td>0</td>\n",
              "    </tr>\n",
              "    <tr>\n",
              "      <th>30524</th>\n",
              "      <td>1</td>\n",
              "    </tr>\n",
              "    <tr>\n",
              "      <th>2793</th>\n",
              "      <td>0</td>\n",
              "    </tr>\n",
              "    <tr>\n",
              "      <th>12964</th>\n",
              "      <td>0</td>\n",
              "    </tr>\n",
              "    <tr>\n",
              "      <th>15627</th>\n",
              "      <td>0</td>\n",
              "    </tr>\n",
              "    <tr>\n",
              "      <th>...</th>\n",
              "      <td>...</td>\n",
              "    </tr>\n",
              "    <tr>\n",
              "      <th>17590</th>\n",
              "      <td>0</td>\n",
              "    </tr>\n",
              "    <tr>\n",
              "      <th>2017</th>\n",
              "      <td>0</td>\n",
              "    </tr>\n",
              "    <tr>\n",
              "      <th>7291</th>\n",
              "      <td>0</td>\n",
              "    </tr>\n",
              "    <tr>\n",
              "      <th>8682</th>\n",
              "      <td>0</td>\n",
              "    </tr>\n",
              "    <tr>\n",
              "      <th>28549</th>\n",
              "      <td>1</td>\n",
              "    </tr>\n",
              "  </tbody>\n",
              "</table>\n",
              "<p>23310 rows × 1 columns</p>\n",
              "</div>"
            ],
            "text/plain": [
              "       Group\n",
              "7294       0\n",
              "30524      1\n",
              "2793       0\n",
              "12964      0\n",
              "15627      0\n",
              "...      ...\n",
              "17590      0\n",
              "2017       0\n",
              "7291       0\n",
              "8682       0\n",
              "28549      1\n",
              "\n",
              "[23310 rows x 1 columns]"
            ]
          },
          "metadata": {
            "tags": []
          },
          "execution_count": 175
        }
      ]
    },
    {
      "cell_type": "code",
      "metadata": {
        "colab": {
          "base_uri": "https://localhost:8080/",
          "height": 419
        },
        "id": "Z6XW-YBD11Po",
        "outputId": "65d5d520-bb49-4468-89d3-64542b8c6d32"
      },
      "source": [
        "y_test = y_test.replace(\"NonCZP\",0)\r\n",
        "y_test = y_test.replace(\"CZP\",1)\r\n",
        "\r\n",
        "y_test"
      ],
      "execution_count": 184,
      "outputs": [
        {
          "output_type": "execute_result",
          "data": {
            "text/html": [
              "<div>\n",
              "<style scoped>\n",
              "    .dataframe tbody tr th:only-of-type {\n",
              "        vertical-align: middle;\n",
              "    }\n",
              "\n",
              "    .dataframe tbody tr th {\n",
              "        vertical-align: top;\n",
              "    }\n",
              "\n",
              "    .dataframe thead th {\n",
              "        text-align: right;\n",
              "    }\n",
              "</style>\n",
              "<table border=\"1\" class=\"dataframe\">\n",
              "  <thead>\n",
              "    <tr style=\"text-align: right;\">\n",
              "      <th></th>\n",
              "      <th>Group</th>\n",
              "    </tr>\n",
              "  </thead>\n",
              "  <tbody>\n",
              "    <tr>\n",
              "      <th>15718</th>\n",
              "      <td>0</td>\n",
              "    </tr>\n",
              "    <tr>\n",
              "      <th>14858</th>\n",
              "      <td>0</td>\n",
              "    </tr>\n",
              "    <tr>\n",
              "      <th>20449</th>\n",
              "      <td>1</td>\n",
              "    </tr>\n",
              "    <tr>\n",
              "      <th>13595</th>\n",
              "      <td>0</td>\n",
              "    </tr>\n",
              "    <tr>\n",
              "      <th>9239</th>\n",
              "      <td>0</td>\n",
              "    </tr>\n",
              "    <tr>\n",
              "      <th>...</th>\n",
              "      <td>...</td>\n",
              "    </tr>\n",
              "    <tr>\n",
              "      <th>22790</th>\n",
              "      <td>1</td>\n",
              "    </tr>\n",
              "    <tr>\n",
              "      <th>20910</th>\n",
              "      <td>1</td>\n",
              "    </tr>\n",
              "    <tr>\n",
              "      <th>19151</th>\n",
              "      <td>1</td>\n",
              "    </tr>\n",
              "    <tr>\n",
              "      <th>10701</th>\n",
              "      <td>0</td>\n",
              "    </tr>\n",
              "    <tr>\n",
              "      <th>30507</th>\n",
              "      <td>1</td>\n",
              "    </tr>\n",
              "  </tbody>\n",
              "</table>\n",
              "<p>7770 rows × 1 columns</p>\n",
              "</div>"
            ],
            "text/plain": [
              "       Group\n",
              "15718      0\n",
              "14858      0\n",
              "20449      1\n",
              "13595      0\n",
              "9239       0\n",
              "...      ...\n",
              "22790      1\n",
              "20910      1\n",
              "19151      1\n",
              "10701      0\n",
              "30507      1\n",
              "\n",
              "[7770 rows x 1 columns]"
            ]
          },
          "metadata": {
            "tags": []
          },
          "execution_count": 184
        }
      ]
    },
    {
      "cell_type": "markdown",
      "metadata": {
        "id": "2M4plHUqwjQu"
      },
      "source": [
        "# **KNeighborsClassifier**"
      ]
    },
    {
      "cell_type": "code",
      "metadata": {
        "colab": {
          "base_uri": "https://localhost:8080/"
        },
        "id": "sns4UCBQkpZm",
        "outputId": "e85144c6-926b-41f4-8eb6-429764bb82d0"
      },
      "source": [
        "knn = KNeighborsClassifier(n_neighbors=5)\r\n",
        "knn.fit(x_train, x_test)"
      ],
      "execution_count": 188,
      "outputs": [
        {
          "output_type": "stream",
          "text": [
            "/usr/local/lib/python3.6/dist-packages/ipykernel_launcher.py:2: DataConversionWarning: A column-vector y was passed when a 1d array was expected. Please change the shape of y to (n_samples, ), for example using ravel().\n",
            "  \n"
          ],
          "name": "stderr"
        },
        {
          "output_type": "execute_result",
          "data": {
            "text/plain": [
              "KNeighborsClassifier(algorithm='auto', leaf_size=30, metric='minkowski',\n",
              "                     metric_params=None, n_jobs=None, n_neighbors=5, p=2,\n",
              "                     weights='uniform')"
            ]
          },
          "metadata": {
            "tags": []
          },
          "execution_count": 188
        }
      ]
    },
    {
      "cell_type": "code",
      "metadata": {
        "colab": {
          "base_uri": "https://localhost:8080/"
        },
        "id": "zJDMLfgwsOW_",
        "outputId": "38206aae-ba1f-44ea-c186-4840515c9bf6"
      },
      "source": [
        "knn.score(y_train,y_test)"
      ],
      "execution_count": 189,
      "outputs": [
        {
          "output_type": "execute_result",
          "data": {
            "text/plain": [
              "0.5517374517374517"
            ]
          },
          "metadata": {
            "tags": []
          },
          "execution_count": 189
        }
      ]
    },
    {
      "cell_type": "code",
      "metadata": {
        "colab": {
          "base_uri": "https://localhost:8080/"
        },
        "id": "6ZON3TIOzF_0",
        "outputId": "26e09684-7759-4a12-cb50-0e267a068d01"
      },
      "source": [
        "result = knn.predict(x_train)\r\n",
        "\r\n",
        "result"
      ],
      "execution_count": 182,
      "outputs": [
        {
          "output_type": "execute_result",
          "data": {
            "text/plain": [
              "array([0, 1, 0, ..., 0, 0, 1])"
            ]
          },
          "metadata": {
            "tags": []
          },
          "execution_count": 182
        }
      ]
    }
  ]
}