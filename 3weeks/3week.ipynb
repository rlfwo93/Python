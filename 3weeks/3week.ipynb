{
  "nbformat": 4,
  "nbformat_minor": 0,
  "metadata": {
    "colab": {
      "name": "Untitled0.ipynb",
      "provenance": [],
      "include_colab_link": true
    },
    "kernelspec": {
      "name": "python3",
      "display_name": "Python 3"
    }
  },
  "cells": [
    {
      "cell_type": "markdown",
      "metadata": {
        "id": "view-in-github",
        "colab_type": "text"
      },
      "source": [
        "<a href=\"https://colab.research.google.com/github/rlfwo93/Python/blob/master/3weeks/3week.ipynb\" target=\"_parent\"><img src=\"https://colab.research.google.com/assets/colab-badge.svg\" alt=\"Open In Colab\"/></a>"
      ]
    },
    {
      "cell_type": "code",
      "metadata": {
        "id": "SozS2-PBQioo",
        "colab_type": "code",
        "colab": {}
      },
      "source": [
        ""
      ],
      "execution_count": 0,
      "outputs": []
    },
    {
      "cell_type": "markdown",
      "metadata": {
        "id": "HZpymCa-RHCl",
        "colab_type": "text"
      },
      "source": [
        "# ***list의 개념***"
      ]
    },
    {
      "cell_type": "code",
      "metadata": {
        "id": "1On1SViARLgW",
        "colab_type": "code",
        "colab": {
          "base_uri": "https://localhost:8080/",
          "height": 89
        },
        "outputId": "79d51ac8-0ffb-4eba-d007-9f81f53b4c9e"
      },
      "source": [
        "print(\"리스트: list 란?: 자바나c의 배열같은 데이터 타입\")\n",
        "odd = [1, 3, 5, 7, 9]\n",
        "# 여러 가지 리스트\n",
        "print(\"a = []   # list 초기화\")\n",
        "b = [1, 2, 3]\n",
        "c = ['Life', 'is', 'too', 'short']\n",
        "print(\"d = [1, 2, 'Life', 'is'] #정수형과 문자형이 같이 들어갈수 있음\")\n",
        "print(\"e = [1, 2, ['Life', 'is']] # 이차원 배열같은 데이터 타입\")"
      ],
      "execution_count": 4,
      "outputs": [
        {
          "output_type": "stream",
          "text": [
            "리스트: list 란?: 자바나c의 배열같은 데이터 타입\n",
            "a = []   # list 초기화\n",
            "d = [1, 2, 'Life', 'is'] #정수형과 문자형이 같이 들어갈수 있음\n",
            "e = [1, 2, ['Life', 'is']] # 이차원 배열같은 데이터 타입\n"
          ],
          "name": "stdout"
        }
      ]
    },
    {
      "cell_type": "markdown",
      "metadata": {
        "id": "zGa5Td3_R4eu",
        "colab_type": "text"
      },
      "source": [
        "# ***리스트의 인덱스와 슬라이싱***"
      ]
    },
    {
      "cell_type": "code",
      "metadata": {
        "id": "OHxNKWUMR8pm",
        "colab_type": "code",
        "colab": {
          "base_uri": "https://localhost:8080/",
          "height": 215
        },
        "outputId": "89e25e12-bf9d-4a48-9e2d-ddbe0715bf7d"
      },
      "source": [
        "print(\"리스트: 리스트의 인덱싱과 슬라이싱\")\n",
        "a = [1, 2, 3]\n",
        "a\n",
        "a[0]\n",
        "print(\"a[3] 인덱스는 0부터 시작하는데 3이라는 인덱스는 없기떄문에 에러뜸\")\n",
        "print(\"a[0]+a[2] = 4  # 배열의 연산도 할수 있음\")\n",
        "print(\"a[-1] #배열의 마지막 부터 시작\")\n",
        "#\n",
        "a = [1, 2, 3, ['a', 'b', 'c']]\n",
        "print(\"a = [1, 2, 3, ['a', 'b', 'c']]\")\n",
        "a[0]\n",
        "a[3]\n",
        "print(\"a[-1] = ['a','b','c'] # 배열안에 있는 배열은 큰배열의 하나의 인덱스로 침\")\n",
        "# chaek this: a[0] + a[-1] -> TypeError\n",
        "# Indexing inner list\n",
        "a[-1][0]\n",
        "a[-1][-1]\n",
        "\n",
        "# 리스트의 슬라이싱\n",
        "a = [1, 2, 3, 4, 5]\n",
        "print(\"a = [1, 2, 3, 4, 5]\")\n",
        "print(\"a[0:2] = [1,2]\"\")\n",
        "a = \"12345\"\n",
        "      print('a[0:2] = a=\"12\"')\n",
        "a[0:2]\n",
        "#\n",
        "a = [1, 2, 3, 4, 5]\n",
        "a[0:2]\n",
        "a[2:]\n",
        "a[0:4:2]  # a[start:end:step]\n",
        "\n",
        "# 리스트: 인덱싱, 슬라이싱 연습\n",
        "#\n",
        "x = [1, 2, 3, 4, 5, 6, 7, 8, 9]\n",
        "x[0:3]\n",
        "x[3:]\n",
        "x[:6]\n",
        "x[0:6:2]  # x[:6:2]\n",
        "x[-1]\n",
        "x[-3]\n",
        "x[:-3]\n",
        "x[::-1] #리스트를 리버스 시킨다 스텝이 -1이기떄문\n",
        "x[-3::-1] #7부터 -리버스 시킨다 스텝이 -1이기떄문"
      ],
      "execution_count": 14,
      "outputs": [
        {
          "output_type": "stream",
          "text": [
            "리스트: 리스트의 인덱싱과 슬라이싱\n",
            "a[3] 인덱스는 0부터 시작하는데 3이라는 인덱스는 없기떄문에 에러뜸\n",
            "a[0]+a[2] = 4  # 배열의 연산도 할수 있음\n",
            "a[-1] #배열의 마지막 부터 시작\n",
            "a = [1, 2, 3, ['a', 'b', 'c']]\n",
            "a[-1] = ['a','b','c'] # 배열안에 있는 배열은 큰배열의 하나의 인덱스로 침\n",
            "a = [1, 2, ['a', 'b', ['Life', 'is']]]\n",
            "a[2][-1][0]   # 'Life' 가 출력된다.\n",
            "a = [1, 2, 3, 4, 5]\n",
            "[1, 2]\n"
          ],
          "name": "stdout"
        },
        {
          "output_type": "execute_result",
          "data": {
            "text/plain": [
              "[7, 6, 5, 4, 3, 2, 1]"
            ]
          },
          "metadata": {
            "tags": []
          },
          "execution_count": 14
        }
      ]
    },
    {
      "cell_type": "markdown",
      "metadata": {
        "id": "TcSy1cHmgMWo",
        "colab_type": "text"
      },
      "source": [
        "# ***삼중 리스트에서 인덱싱하기***"
      ]
    },
    {
      "cell_type": "code",
      "metadata": {
        "id": "jLrE13zIfpF4",
        "colab_type": "code",
        "colab": {
          "base_uri": "https://localhost:8080/",
          "height": 89
        },
        "outputId": "57a3ae18-12f7-47bf-dd9d-2d079872c573"
      },
      "source": [
        "# Indexing of triple list\n",
        "# 삼중 리스트에서 인덱싱하기\n",
        "a = [1, 2, ['a', 'b', ['Life', 'is']]]\n",
        "print(\"a = [1, 2, ['a', 'b', ['Life', 'is']]]\")\n",
        "print(a[2]) # ['a', 'b', ['Life', 'is']] 출력됨.\n",
        "print(a[2][-1]) #['life','is'] 출력됨\n",
        "print(a[2][-1][0])   # 'Life' 가 출력된다.\n"
      ],
      "execution_count": 16,
      "outputs": [
        {
          "output_type": "stream",
          "text": [
            "a = [1, 2, ['a', 'b', ['Life', 'is']]]\n",
            "['a', 'b', ['Life', 'is']]\n",
            "['Life', 'is']\n",
            "Life\n"
          ],
          "name": "stdout"
        }
      ]
    },
    {
      "cell_type": "markdown",
      "metadata": {
        "id": "GsTWfhAzgcdg",
        "colab_type": "text"
      },
      "source": [
        "# ***중첩된 리스트에서 인덱싱하기***"
      ]
    },
    {
      "cell_type": "code",
      "metadata": {
        "id": "sY66XTNDggaA",
        "colab_type": "code",
        "colab": {
          "base_uri": "https://localhost:8080/",
          "height": 53
        },
        "outputId": "a4c19a98-0d70-4be6-cc0f-1f31ed7f0263"
      },
      "source": [
        "# 중첩된 리스트에서 슬라이싱하기\n",
        "#\n",
        "a = [1, 2, 3, ['a', 'b', 'c'], 4, 5]\n",
        "print(a[2:5]) # [3, ['a', 'b', 'c'], 4]출력됨.\n",
        "print(a[3][:2]) #['a', 'b'] 출력함."
      ],
      "execution_count": 21,
      "outputs": [
        {
          "output_type": "stream",
          "text": [
            "[3, ['a', 'b', 'c'], 4]\n",
            "['a', 'b']\n"
          ],
          "name": "stdout"
        }
      ]
    },
    {
      "cell_type": "markdown",
      "metadata": {
        "id": "NcSBT9dLhOYZ",
        "colab_type": "text"
      },
      "source": [
        "# ***리스트 연산하기***"
      ]
    },
    {
      "cell_type": "code",
      "metadata": {
        "id": "1C0WGzY3hesZ",
        "colab_type": "code",
        "colab": {
          "base_uri": "https://localhost:8080/",
          "height": 197
        },
        "outputId": "37d3c64a-5c2e-4dec-e31b-059452009cf4"
      },
      "source": [
        "print(\"리스트: 리스트 연산하기\")\n",
        "###################################\n",
        "\n",
        "print(\"리스트 더하기(+)\")\n",
        "\n",
        "a = [1, 2, 3]\n",
        "b = [4, 5, 6]\n",
        "print(a)\n",
        "print(b)\n",
        "print(a + b) # [1, 2, 3, 4, 5, 6]출력됨\n",
        "#\n",
        "print(\"리스트 반복하기(*)\")\n",
        "#\n",
        "print(a * 3) #[1, 2, 3, 1, 2, 3, 1, 2, 3] 출력됨\n",
        "#\n",
        "print(\"리스트 길이구하기\")\n",
        "#\n",
        "print(len(a))\n",
        "#\n",
        "print(\"초보자가 범하기 쉬운 리스트 연산 오류\")\n",
        "\n",
        "a = [1, 2, 3]\n",
        "#a[2] + \"hi\" a[2]는 정수인데 문자인 hi를 더할수없음.\n",
        "print(str(a[2]) + \"hi\") #a[2]를 문자형으로 만들어주고 hi를 더함."
      ],
      "execution_count": 30,
      "outputs": [
        {
          "output_type": "stream",
          "text": [
            "리스트: 리스트 연산하기\n",
            "리스트 더하기(+)\n",
            "[1, 2, 3]\n",
            "[4, 5, 6]\n",
            "[1, 2, 3, 4, 5, 6]\n",
            "리스트 반복하기(*)\n",
            "[1, 2, 3, 1, 2, 3, 1, 2, 3]\n",
            "리스트 길이구하기\n",
            "3\n",
            "초보자가 범하기 쉬운 리스트 연산 오류\n"
          ],
          "name": "stdout"
        }
      ]
    },
    {
      "cell_type": "markdown",
      "metadata": {
        "id": "n_cgM8x8lTUh",
        "colab_type": "text"
      },
      "source": [
        "# 리스트의 수정과 삭제"
      ]
    },
    {
      "cell_type": "code",
      "metadata": {
        "id": "zrePucqglV3C",
        "colab_type": "code",
        "colab": {
          "base_uri": "https://localhost:8080/",
          "height": 35
        },
        "outputId": "d0aa89f7-e5d3-4b1c-fae5-34e2367fa4ad"
      },
      "source": [
        "# 리스트의 수정과 삭제\n",
        "#\n",
        "a = [1, 2, 3]\n",
        "a[2] = 4  # list is mutable!!!\n",
        "print(a) # 1,2,4 가 출력된다 배열은 가변형이기때문에 값이 바뀐다."
      ],
      "execution_count": 32,
      "outputs": [
        {
          "output_type": "execute_result",
          "data": {
            "text/plain": [
              "[1, 2, 4]"
            ]
          },
          "metadata": {
            "tags": []
          },
          "execution_count": 32
        }
      ]
    },
    {
      "cell_type": "markdown",
      "metadata": {
        "id": "KmHAjFB3lkOK",
        "colab_type": "text"
      },
      "source": [
        "# del 함수 사용햐 리스트 요소 삭제하기"
      ]
    },
    {
      "cell_type": "code",
      "metadata": {
        "id": "wD60tPzeloui",
        "colab_type": "code",
        "colab": {
          "base_uri": "https://localhost:8080/",
          "height": 53
        },
        "outputId": "6be1f106-22fd-40ab-e2ce-87999668a027"
      },
      "source": [
        "# del은 원하는 인덱스의 값을 삭제해준다.\n",
        "a = [1, 2, 3]\n",
        "del a[1] #인덱스 1의값인 2를 삭제함.\n",
        "print(a) # 인덱스1의값인 2를 삭제하여 [1,3]이 출력이된다.\n",
        "a = [1, 2, 3, 4, 5]\n",
        "del a[2:] #인덱싱을 이용하여 3,4,5를 삭제한다.\n",
        "print(a) # 3,4,5,를 삭제한 값인 [1,2] 가 출력된다."
      ],
      "execution_count": 34,
      "outputs": [
        {
          "output_type": "stream",
          "text": [
            "[1, 3]\n",
            "[1, 2]\n"
          ],
          "name": "stdout"
        }
      ]
    },
    {
      "cell_type": "markdown",
      "metadata": {
        "id": "-ogNLXQOmUKZ",
        "colab_type": "text"
      },
      "source": [
        "# ***리스트 내부함수 사용하기 : append***"
      ]
    },
    {
      "cell_type": "code",
      "metadata": {
        "id": "sSaPR4c7mbMS",
        "colab_type": "code",
        "colab": {
          "base_uri": "https://localhost:8080/",
          "height": 53
        },
        "outputId": "884ee93b-4d67-4501-c8b0-5ae9070fdadd"
      },
      "source": [
        "a = [1, 2, 3]\n",
        "a.append(4) #맨 마지막 인덱스뒤에 4를 추가한다.\n",
        "print(a) #[1,2,3,4]가 출력이된다.\n",
        "# 리스트 안에는 어떤 자료형도 추가할 수 있다.\n",
        "# 리스트에 다시 리스트를 추가한 결과\n",
        "a.append([5, 6]) #  마지막 인덱스에 [5,6]을 추가한다.\n",
        "print(a) #4뒤에 배열[5,6,]을 추가하여 [1, 2, 3, 4, [5, 6]] 출력이됨.\n",
        "#"
      ],
      "execution_count": 35,
      "outputs": [
        {
          "output_type": "stream",
          "text": [
            "[1, 2, 3, 4]\n",
            "[1, 2, 3, 4, [5, 6]]\n"
          ],
          "name": "stdout"
        }
      ]
    },
    {
      "cell_type": "markdown",
      "metadata": {
        "id": "h_YCOk7um_Eh",
        "colab_type": "text"
      },
      "source": [
        "# ***리스트 내장함수 사용하기 : sort***"
      ]
    },
    {
      "cell_type": "code",
      "metadata": {
        "id": "uLyw9c6JnD32",
        "colab_type": "code",
        "colab": {
          "base_uri": "https://localhost:8080/",
          "height": 53
        },
        "outputId": "1d8e024a-0b45-4015-b1cf-424694687c24"
      },
      "source": [
        "#sort는 배열의 값을 정렬 해주는 함수이다.\n",
        "a=[1,4,3,2]\n",
        "print(a)\n",
        "a.sort() #값을 정렬해주는 함수\n",
        "print(a) #1,4,3,2의 값을 가지고 있었지만 sort를 써서 값을 해줘서 1,2,3,4 가 출력이됨."
      ],
      "execution_count": 36,
      "outputs": [
        {
          "output_type": "stream",
          "text": [
            "[1, 4, 3, 2]\n",
            "[1, 2, 3, 4]\n"
          ],
          "name": "stdout"
        }
      ]
    },
    {
      "cell_type": "markdown",
      "metadata": {
        "id": "eeEoqCYxngdM",
        "colab_type": "text"
      },
      "source": [
        "# ***리스트 내장함수 사용하기 : reverse***"
      ]
    },
    {
      "cell_type": "code",
      "metadata": {
        "id": "kWE0N9ThnnQR",
        "colab_type": "code",
        "colab": {
          "base_uri": "https://localhost:8080/",
          "height": 35
        },
        "outputId": "e5043b9c-bff9-4ca1-f51d-f31588f4b7bf"
      },
      "source": [
        "# 리스트 뒤집기(reverse)\n",
        "#\n",
        "a = [\"a\", \"c\", \"b\"]\n",
        "a.reverse() # 리버스는 값을 뒤집어주는 함수이다.\n",
        "print(a)  #원래 값이 a c b 였지만 reverse를 사용해서 뒤집었기때문에 b c a 가 출력이된다."
      ],
      "execution_count": 37,
      "outputs": [
        {
          "output_type": "execute_result",
          "data": {
            "text/plain": [
              "['b', 'c', 'a']"
            ]
          },
          "metadata": {
            "tags": []
          },
          "execution_count": 37
        }
      ]
    },
    {
      "cell_type": "markdown",
      "metadata": {
        "id": "cHMqs8o6n_gL",
        "colab_type": "text"
      },
      "source": [
        "## ***리스트 내장함수 사용하기 : index***"
      ]
    },
    {
      "cell_type": "code",
      "metadata": {
        "id": "Q-zMV5V0oEVT",
        "colab_type": "code",
        "colab": {
          "base_uri": "https://localhost:8080/",
          "height": 71
        },
        "outputId": "8f68e084-5f66-491d-e692-a3f3f7ef7311"
      },
      "source": [
        "# 위치 반환(index)\n",
        "# index함수는 내가 원하는 값의 위치를 알려주는 함수이다.\n",
        "a = [1, 2, 3]\n",
        "print(a.index(3)) #3의 위치 3의 위치는 2이기 때문에 2가 출력\n",
        "print(a.index(1)) # 1의 위치 1의 위치는 0번째기 떄문에 0이 출력\n",
        "\n",
        "#(a.index(0)) # 0 의 위치 0이라는 값이 없기 때문에 에러가 뜬다.\n",
        "\n",
        "\n",
        "s = [\"a\", \"c\", \"b\"]\n",
        "#s.index(3)  # Error 3이라는 값이 없기때문에 에러가 뜸.\n",
        "#s.index(a)  # Error a는 문자열이기때문에 \"a\"를 해줘여함.\n",
        "s.index(\"a\") #0번 째기 때문에 0이출력"
      ],
      "execution_count": 40,
      "outputs": [
        {
          "output_type": "stream",
          "text": [
            "2\n",
            "0\n"
          ],
          "name": "stdout"
        },
        {
          "output_type": "execute_result",
          "data": {
            "text/plain": [
              "0"
            ]
          },
          "metadata": {
            "tags": []
          },
          "execution_count": 40
        }
      ]
    },
    {
      "cell_type": "markdown",
      "metadata": {
        "id": "UxvGJOGJo0pC",
        "colab_type": "text"
      },
      "source": [
        "## ***리스트 내장함수 사용하기 : insert***"
      ]
    },
    {
      "cell_type": "code",
      "metadata": {
        "id": "6YN-1u5No2jK",
        "colab_type": "code",
        "colab": {
          "base_uri": "https://localhost:8080/",
          "height": 53
        },
        "outputId": "14be6c5f-6abd-4932-9df2-6551a72bdcac"
      },
      "source": [
        "# 리스트에 요소 삽입(insert)\n",
        "# insert 함수는 원하는 인덱스에 원하는 값을 넣어주는 함수이다.\n",
        "a = [1, 2, 3]\n",
        "a.insert(0, 4) #0번째 인덱스에 4를 추가함\n",
        "print(a) # 4,1,2,3 이 출력이됨.\n",
        "a.insert(3, 5) # 3번째 인덱스에 5의 값을 추가함.\n",
        "print(a) # 4,1,2,5,3 이 출력됨."
      ],
      "execution_count": 42,
      "outputs": [
        {
          "output_type": "stream",
          "text": [
            "[4, 1, 2, 3]\n"
          ],
          "name": "stdout"
        },
        {
          "output_type": "execute_result",
          "data": {
            "text/plain": [
              "[4, 1, 2, 5, 3]"
            ]
          },
          "metadata": {
            "tags": []
          },
          "execution_count": 42
        }
      ]
    },
    {
      "cell_type": "markdown",
      "metadata": {
        "id": "svNN7RinpOQ6",
        "colab_type": "text"
      },
      "source": [
        "## ***리스트 내장함수 사용하기 : remove***"
      ]
    },
    {
      "cell_type": "code",
      "metadata": {
        "id": "nrMbIlmbpR9k",
        "colab_type": "code",
        "colab": {
          "base_uri": "https://localhost:8080/",
          "height": 53
        },
        "outputId": "c6197d35-e4e2-4a2b-85d9-c43c03bd1583"
      },
      "source": [
        "# 리스트 요소 제거(remove)\n",
        "# 원하는 값을 삭제 시켜주는 함수이다\n",
        "a = [1, 2, 3, 1, 2, 3]\n",
        "a.remove(3) #맨처음에 나오는 3을 삭제시켜준다\n",
        "print(a) # [1,2,1,2,3] 이 출력이된다.\n",
        "# 3을 리스트 a에서 완전히 제거\n",
        "a.remove(3) #[1,2,1,2,3] 에서 3을 한번더 삭제를한다.\n",
        "print(a) #[1,2,1,2] 가 출력이됨.\n",
        "\n",
        "#a.remove(3)  # ValueError 3이라는 값이 없기떄문에 에러가 발생."
      ],
      "execution_count": 44,
      "outputs": [
        {
          "output_type": "stream",
          "text": [
            "[1, 2, 1, 2, 3]\n",
            "[1, 2, 1, 2]\n"
          ],
          "name": "stdout"
        }
      ]
    },
    {
      "cell_type": "markdown",
      "metadata": {
        "id": "NWqMh3i2pvBi",
        "colab_type": "text"
      },
      "source": [
        "# ***리스트 내장함수 사용하기 : pop***"
      ]
    },
    {
      "cell_type": "markdown",
      "metadata": {
        "id": "UNJhvIDcqdpC",
        "colab_type": "text"
      },
      "source": [
        ""
      ]
    },
    {
      "cell_type": "code",
      "metadata": {
        "id": "r4C62g46pxcb",
        "colab_type": "code",
        "colab": {
          "base_uri": "https://localhost:8080/",
          "height": 71
        },
        "outputId": "13b43f88-0ebd-432f-c093-924011caef42"
      },
      "source": [
        "# pop()은 리스트의 맨 마지막 요소를 돌려주고 그 요소는 삭제한다.\n",
        "a = [1, 2, 3]\n",
        "print(a.pop()) #맨 마지막 요소인 3을 출력하고 3을 삭제한다.\n",
        "print(a) # 3을 출력하고 삭제를 했기 때문에 1,2 가 출력이된다.\n",
        "#\n",
        "a = [1, 2, 3]\n",
        "# pop(x)는 리스트의 index가 x인 요소를 돌려주고 그 요소는 삭제한다.\n",
        "a.pop(1) #첫번째 요소인 2를 출력하고 2를 삭제한다.\n",
        "print(a) # 2를 출력하고 삭제했기때문에 1,3이 출력된다.\n",
        "#a.pop(2)  # IndexError  # 2번째 인덱스가 없기때문에 인덱스 에러가 발생한다."
      ],
      "execution_count": 48,
      "outputs": [
        {
          "output_type": "stream",
          "text": [
            "3\n",
            "[1, 2]\n",
            "[1, 3]\n"
          ],
          "name": "stdout"
        }
      ]
    },
    {
      "cell_type": "markdown",
      "metadata": {
        "id": "n_cfFoPzqebC",
        "colab_type": "text"
      },
      "source": [
        "# ***리스트 내장함수 사용하기 : count***"
      ]
    },
    {
      "cell_type": "code",
      "metadata": {
        "id": "5SQDfkpaqgo0",
        "colab_type": "code",
        "colab": {
          "base_uri": "https://localhost:8080/",
          "height": 35
        },
        "outputId": "8c762032-1fa5-4281-b03e-900fd79cf926"
      },
      "source": [
        "# 리스트에 포함된 요소 x의 개수 세기(count)\n",
        "# 카운트는 리스트에 특정한 값이 몇개가 들었는지 알려주는 함수이다.\n",
        "a = [1, 2, 3, 1]\n",
        "print(a.count(1)) # 1이 두개있기때문에 2가 출력된다."
      ],
      "execution_count": 49,
      "outputs": [
        {
          "output_type": "stream",
          "text": [
            "2\n"
          ],
          "name": "stdout"
        }
      ]
    },
    {
      "cell_type": "markdown",
      "metadata": {
        "id": "t9mPUXoIqy7i",
        "colab_type": "text"
      },
      "source": [
        "# ***리스트 내장함수 사용하기 : extend***"
      ]
    },
    {
      "cell_type": "code",
      "metadata": {
        "id": "wCKDZzIRq4vb",
        "colab_type": "code",
        "colab": {
          "base_uri": "https://localhost:8080/",
          "height": 53
        },
        "outputId": "8266645c-dac7-45fd-da93-77c47d9131f0"
      },
      "source": [
        "# 리스트 확장(extend)\n",
        "# 값을 맨뒤에 추가해줌.\n",
        "a = [1, 2, 3]\n",
        "a.extend([4, 5]) # 4,5를 추가해줌\n",
        "print(a)  # a.extend([4, 5])는 a += [4, 5]와 동일 \n",
        "#4,5를 추가했기때문에 [1, 2, 3, 4, 5] 출력이됨.\n",
        "\n",
        "b = [6, 7]\n",
        "a.extend(b) # 6,7를 추가해줌.\n",
        "print(a) # 6,7를 추가했기때문에 [1, 2, 3, 4, 5, 6, 7] 출력"
      ],
      "execution_count": 51,
      "outputs": [
        {
          "output_type": "stream",
          "text": [
            "[1, 2, 3, 4, 5]\n",
            "[1, 2, 3, 4, 5, 6, 7]\n"
          ],
          "name": "stdout"
        }
      ]
    },
    {
      "cell_type": "markdown",
      "metadata": {
        "id": "irfa7GfXrvj8",
        "colab_type": "text"
      },
      "source": [
        "# ***튜플(tuple)이란?***"
      ]
    },
    {
      "cell_type": "code",
      "metadata": {
        "id": "z0z1AueGrzvk",
        "colab_type": "code",
        "colab": {
          "base_uri": "https://localhost:8080/",
          "height": 107
        },
        "outputId": "a5f1f918-89f9-4d80-e3ce-de5a55b79e9f"
      },
      "source": [
        "# 리스트는 [ ]으로 둘러싸지만 튜플은 ( )으로 둘러싼다.\n",
        "# 리스트는 그 값의 생성, 삭제, 수정이 가능하지만 튜플은 그 값을 바꿀 수 없다(불변형)\n",
        "\n",
        "even = (2, 4, 6, 8)\n",
        "# 여러 가지 튜플\n",
        "t1 = ()  # 튜플 초기화\n",
        "print(t1) # ()출력\n",
        "t2 = (1,) #튜플에 넣을 값이 한개일경우에는  ',' 를 넣어줘여함.\n",
        "print(t2) # (1,)가 출력\n",
        "t3 = (1, 2, 3)\n",
        "print(t3) #(1,2,3) 을출력\n",
        "t4 = (1, 2, 3)\n",
        "print(t4) # (1,2,3) 이 출력됨\n",
        "t5 = (\"a\", \"b\", (\"ab\", \"cd\"))\n",
        "print(t5) # ('a', 'b', ('ab', 'cd')) 출려됨.\n",
        "# t2 = (1,)처럼 단지 1개의 요소만을 가질 때는 요소 뒤에\n",
        "# 콤마(,)를 반드시 붙여야 한다는 것과\n",
        "# t4 = 1, 2, 3처럼 괄호( )를 생략해도 무방하다.\n",
        "#####################################################\n",
        "#\n",
        "# 튜플의 요소값을 지우거나 변경하려고 하면 어떻게 될까?\n",
        "#\n",
        "# 1. 튜플 요솟값을 삭제하려 할 때\n",
        "t1 = (1, 2, \"a\", \"b\")\n",
        "##del t1[0]  # Error  튜플은 불변이기떄문에 값이 삭제가 안됨.\n",
        "#\n",
        "# 2. 튜플 요솟값을 변경하려 할 때\n",
        "#\n",
        "#t1[0] = \"c\"  # TypeError  튜플은 불변이기때문에 값 변경 또한 안됨.\n",
        "#\n",
        "#"
      ],
      "execution_count": 54,
      "outputs": [
        {
          "output_type": "stream",
          "text": [
            "()\n",
            "(1,)\n",
            "(1, 2, 3)\n",
            "(1, 2, 3)\n",
            "('a', 'b', ('ab', 'cd'))\n"
          ],
          "name": "stdout"
        }
      ]
    },
    {
      "cell_type": "markdown",
      "metadata": {
        "id": "QF3ZKfGNsyKE",
        "colab_type": "text"
      },
      "source": [
        "# ***튜플 사용하는 방법***"
      ]
    },
    {
      "cell_type": "code",
      "metadata": {
        "id": "ENNHtH4js0kb",
        "colab_type": "code",
        "colab": {
          "base_uri": "https://localhost:8080/",
          "height": 143
        },
        "outputId": "ec57703a-fb7f-4625-a251-439460ea4aec"
      },
      "source": [
        "#\n",
        "# 인덱싱하기\n",
        "# 튜플도 리스트와 같이 인덱스를 사용할수있음.\n",
        "t1 = (1, 2, \"a\", \"b\")\n",
        "print(t1[0]) #1이 출력됨\n",
        "print(t1[3]) #b가 출력됨.\n",
        "#\n",
        "# 슬라이싱하기\n",
        "#\n",
        "t1 = (1, 2, \"a\", \"b\")\n",
        "t1[1:]\n",
        "t1[2:-1]  # ('a',)\n",
        "t1[2:]\n",
        "#\n",
        "# 튜플 더하기\n",
        "#\n",
        "t1 = (1, 2, \"a\", \"b\")\n",
        "t2 = (3, 4)\n",
        "print(t1 + t2) #(1, 2, 'a', 'b', 3, 4) 가 출력\n",
        "#\n",
        "# 튜플 곱하기\n",
        "#\n",
        "t2 = (3, 4)\n",
        "print(id(t2)) #140077857268808\n",
        "t2 * 3\n",
        "print(id(t2)) # 140077857268808\n",
        "t2 = t2 * 3 #제정의를하면 주소값이 달라짐 \n",
        "print(id(t2)) #140077856760456\n",
        "# 값을 제정의를 했기 떄문에 주소 값이 달라짐.\n",
        "#\n",
        "# 튜플 길이 구하기\n",
        "#\n",
        "t1 = (1, 2, \"a\", \"b\")\n",
        "len(t1) #가출력이됨. len()은 리스트나 튜플의 길이를 구해줌.\n",
        "#\n",
        "#"
      ],
      "execution_count": 58,
      "outputs": [
        {
          "output_type": "stream",
          "text": [
            "1\n",
            "b\n",
            "(1, 2, 'a', 'b', 3, 4)\n",
            "140077857268808\n",
            "140077857268808\n",
            "140077856760456\n"
          ],
          "name": "stdout"
        },
        {
          "output_type": "execute_result",
          "data": {
            "text/plain": [
              "4"
            ]
          },
          "metadata": {
            "tags": []
          },
          "execution_count": 58
        }
      ]
    },
    {
      "cell_type": "markdown",
      "metadata": {
        "id": "Bb9tc0q9v_9t",
        "colab_type": "text"
      },
      "source": [
        "# ***딕셔너리(Dictionary)란?***"
      ]
    },
    {
      "cell_type": "code",
      "metadata": {
        "id": "3uvsZ_t4wDkV",
        "colab_type": "code",
        "colab": {}
      },
      "source": [
        "# 딕셔너리란 대응 관계를 나타내는 자료형.\n",
        "# 연관 배열(Associative array) 또는 해시(Hash)\n",
        "# 딕셔너리는 Key와 Value를 한 쌍으로 갖는 자료형\n",
        "#\n",
        "# 기본 딕셔너리의 모습\n",
        "# {Key1:Value1, Key2:Value2, Key3:Value3, ...}\n",
        "# Key와 Value의 쌍 여러 개가 { }로 둘러싸여 있다.\n",
        "# 각각의 요소는 Key : Value 형태로 이루어져 있고 쉼표(,)로 구분\n",
        "dic = {\"name\": \"pey\", \"phone\": \"0119993323\", \"birth\": \"1118\"\n",
        "# Key는 각각 'name', 'phone', 'birth'\n",
        "# 각 Key에 해당하는 Value는 'pey', '0119993323', '1118'"
      ],
      "execution_count": 0,
      "outputs": []
    },
    {
      "cell_type": "markdown",
      "metadata": {
        "id": "ou66z7pPwMYM",
        "colab_type": "text"
      },
      "source": [
        "# ***딕셔너리 사용하기***"
      ]
    },
    {
      "cell_type": "code",
      "metadata": {
        "id": "0tjgExdpwO7D",
        "colab_type": "code",
        "colab": {
          "base_uri": "https://localhost:8080/",
          "height": 71
        },
        "outputId": "eeff739c-3d23-4fa2-b137-5fda297d792a"
      },
      "source": [
        "# 여러 가지 딕셔너리\n",
        "a = {1: \"hi\"}\n",
        "print(a[1]) #1번키의 값은 hi이므로 hi가 출력\n",
        "a = {\"a\": [1, 2, 3]}  # value에는 복합 자료형도 사용된다.\n",
        "print(len(a)) #딕셔너리도 len함수를 쓸수있다 한쌍이 있기때문에 1이 출력됨.\n",
        "\n",
        "#a[a]  # TypeError #\"a\"가 키이고 a라는 키는 없기때문에 에러발생\n",
        "a[\"a\"] #\"a\"키의 값이 [1,2,3]이므로 [1,2,3] 출력"
      ],
      "execution_count": 61,
      "outputs": [
        {
          "output_type": "stream",
          "text": [
            "hi\n",
            "1\n"
          ],
          "name": "stdout"
        },
        {
          "output_type": "execute_result",
          "data": {
            "text/plain": [
              "[1, 2, 3]"
            ]
          },
          "metadata": {
            "tags": []
          },
          "execution_count": 61
        }
      ]
    },
    {
      "cell_type": "markdown",
      "metadata": {
        "id": "OVfjtTSRw4uN",
        "colab_type": "text"
      },
      "source": [
        "# ***딕셔너리 쌍 추가하기***\n"
      ]
    },
    {
      "cell_type": "code",
      "metadata": {
        "id": "Q0s-lUTBw8N8",
        "colab_type": "code",
        "colab": {
          "base_uri": "https://localhost:8080/",
          "height": 71
        },
        "outputId": "7bc2fdcf-fdf5-4248-8b2c-72cb8e627286"
      },
      "source": [
        "a = {1: \"a\"}\n",
        "print(a)\n",
        "a[2] = \"b\" #2의 키값에 b를 추가해줌.\n",
        "a[\"name\"] = \"pey\"# name이라는 키에다가 pey를 추가해줌.\n",
        "print(a)\n",
        "a[3] = [1, 2, 3] #3의키에 [1,2,3] 을 추가해줌.\n",
        "print(a) #{1: 'a', 2: 'b', 'name': 'pey', 3: [1, 2, 3]} 출력."
      ],
      "execution_count": 64,
      "outputs": [
        {
          "output_type": "stream",
          "text": [
            "{1: 'a'}\n",
            "{1: 'a', 2: 'b', 'name': 'pey'}\n",
            "{1: 'a', 2: 'b', 'name': 'pey', 3: [1, 2, 3]}\n"
          ],
          "name": "stdout"
        }
      ]
    },
    {
      "cell_type": "markdown",
      "metadata": {
        "id": "4J--jnoZxZhG",
        "colab_type": "text"
      },
      "source": [
        "## ***딕셔너리 쌍 삭제하기***"
      ]
    },
    {
      "cell_type": "code",
      "metadata": {
        "id": "zMTcpfXcxdzM",
        "colab_type": "code",
        "colab": {
          "base_uri": "https://localhost:8080/",
          "height": 35
        },
        "outputId": "66587e8f-9438-4156-d01b-752de78abc84"
      },
      "source": [
        "a = {1: \"a\"}\n",
        "del a[1] #키의값1의 쌍을 삭제\n",
        "a #공백출력"
      ],
      "execution_count": 65,
      "outputs": [
        {
          "output_type": "execute_result",
          "data": {
            "text/plain": [
              "{}"
            ]
          },
          "metadata": {
            "tags": []
          },
          "execution_count": 65
        }
      ]
    },
    {
      "cell_type": "markdown",
      "metadata": {
        "id": "BgsRwdxXxppE",
        "colab_type": "text"
      },
      "source": [
        "# ***딕셔너리 사용하기***"
      ]
    },
    {
      "cell_type": "code",
      "metadata": {
        "id": "dh3-wxhqxrvs",
        "colab_type": "code",
        "colab": {
          "base_uri": "https://localhost:8080/",
          "height": 53
        },
        "outputId": "4085436e-cc06-424e-91b3-a3bb96348768"
      },
      "source": [
        "d = {\"김연아\": \"피겨스케이팅\", \"류현진\": \"야구\", \"손흥민\": \"축구\", \"귀도\": \"파이썬\"}\n",
        "print(d) # 딕셔너리의 모든 쌍인 {'김연아': '피겨스케이팅', '류현진': '야구', '손흥민': '축구', '귀도': '파이썬'} 출력\n",
        "\n",
        "d[\"손흥민\"] # 벨류값인 축구 출력"
      ],
      "execution_count": 67,
      "outputs": [
        {
          "output_type": "stream",
          "text": [
            "{'김연아': '피겨스케이팅', '류현진': '야구', '손흥민': '축구', '귀도': '파이썬'}\n"
          ],
          "name": "stdout"
        },
        {
          "output_type": "execute_result",
          "data": {
            "text/plain": [
              "'축구'"
            ]
          },
          "metadata": {
            "tags": []
          },
          "execution_count": 67
        }
      ]
    },
    {
      "cell_type": "markdown",
      "metadata": {
        "id": "EEpdUYKXx7m8",
        "colab_type": "text"
      },
      "source": [
        "# ***딕셔너리에서 Key 사용해 Value 얻기***"
      ]
    },
    {
      "cell_type": "code",
      "metadata": {
        "id": "Dyz50hi3x9xs",
        "colab_type": "code",
        "colab": {
          "base_uri": "https://localhost:8080/",
          "height": 125
        },
        "outputId": "94d9fda5-75d5-4a69-b6b5-ad07e8d9af67"
      },
      "source": [
        "grade = {\"pey\": 10, \"julliet\": 99}\n",
        "print(grade[\"pey\"]) #10이출력\n",
        "print(grade[\"julliet\"]) #99출력\n",
        "#\n",
        "a = {1: \"a\", 2: \"b\"}\n",
        "print(a[1])  # 1은 key a출력\n",
        "#\n",
        "a = {\"a\": 1, \"b\": 2}\n",
        "a[\"b\"] #2가출력\n",
        "#a[b]  # TypeError #\"b\"가 키값이고 b는 없기때문에 에러발생.\n",
        "#\n",
        "dic = {\"name\": \"pey\", \"phone\": \"0109993323\", \"birth\": \"1118\"}\n",
        "print(dic[\"birth\"]) # 1118출력\n",
        "print(dic[\"phone\"]) # 0109993323 출력\n",
        "#\n",
        "# 딕셔너리 만들 때 주의할 사항\n",
        "# 딕셔너리에서 Key는 고유한 값이므로 중복되는 Key 값을 설정해 놓으면\n",
        "# 하나를 제외한 나머지 것들이 모두 무시된다\n",
        "#\n",
        "a = {1: \"a\", 1: \"b\"}\n",
        "a[1]\n",
        "#"
      ],
      "execution_count": 69,
      "outputs": [
        {
          "output_type": "stream",
          "text": [
            "10\n",
            "99\n",
            "a\n",
            "1118\n",
            "0109993323\n"
          ],
          "name": "stdout"
        },
        {
          "output_type": "execute_result",
          "data": {
            "text/plain": [
              "'b'"
            ]
          },
          "metadata": {
            "tags": []
          },
          "execution_count": 69
        }
      ]
    },
    {
      "cell_type": "markdown",
      "metadata": {
        "id": "2VF3MzRVycFG",
        "colab_type": "text"
      },
      "source": [
        "# ***딕셔너리 내장 함수: key값을 리스트로 만들기***"
      ]
    },
    {
      "cell_type": "code",
      "metadata": {
        "id": "soxZjNMyytfY",
        "colab_type": "code",
        "colab": {
          "base_uri": "https://localhost:8080/",
          "height": 107
        },
        "outputId": "bf2fbeb3-79c4-48c6-a76d-8ecb7a2cfe10"
      },
      "source": [
        "a = {\"name\": \"pey\", \"phone\": \"0119993323\", \"birth\": \"1118\"}\n",
        "a.keys() # 키값만 모아줌\n",
        "print(a.keys()) #키값만 모아준다.\n",
        "print(list(a.keys())) #키값을 모아서 리스트로 만듬.\n",
        "\n",
        "\n",
        "# Value 리스트 만들기(values)\n",
        "#\n",
        "print(a.values()) #딕셔너리의 벨류값만 모아서 출력\n",
        "#\n",
        "# Key, Value 쌍 얻기(items)\n",
        "#\n",
        "print(a.items())  # Key와 Value의 쌍을 튜플로 묶은 값을 dict_items 객체로 돌려준다.\n",
        "#dict_items([('name', 'pey'), ('phone', '0119993323'), ('birth', '1118')]) 출력됨.\n",
        "#\n",
        "# Key: Value 쌍 모두 지우기(clear)\n",
        "#\n",
        "print(a.clear()) #모조리 씹어먹어버림."
      ],
      "execution_count": 75,
      "outputs": [
        {
          "output_type": "stream",
          "text": [
            "dict_keys(['name', 'phone', 'birth'])\n",
            "['name', 'phone', 'birth']\n",
            "dict_values(['pey', '0119993323', '1118'])\n",
            "dict_items([('name', 'pey'), ('phone', '0119993323'), ('birth', '1118')])\n",
            "None\n"
          ],
          "name": "stdout"
        }
      ]
    },
    {
      "cell_type": "markdown",
      "metadata": {
        "id": "hZ1kO4fEzdFA",
        "colab_type": "text"
      },
      "source": [
        "# ***딕셔너리 내장함수: get함수.***"
      ]
    },
    {
      "cell_type": "code",
      "metadata": {
        "id": "SmbNsOQ2zgQJ",
        "colab_type": "code",
        "colab": {
          "base_uri": "https://localhost:8080/",
          "height": 89
        },
        "outputId": "6b1db066-5343-43a2-f5bf-1c77ae43b8a6"
      },
      "source": [
        "# 키값으로 벨류값을 얻게해주는 함수가 get함수이다.\n",
        "a = {\"name\": \"pey\", \"phone\": \"0119993323\", \"birth\": \"1118\"}\n",
        "print(a.get(\"name\"))  # a['name'] #pey출력\n",
        "print(a.get(\"phone\"))  # a['phone'] # 0119993323출력\n",
        "\n",
        "\n",
        "# print(a[\"nokey\"])  # KeyError #키값이 없기때문에 에러발생\n",
        "\n",
        "\n",
        "# get(x, '디폴트 값')\n",
        "#\n",
        "# 딕셔너리 안에 찾으려는 Key 값이 없을 경우\n",
        "# 미리 정해 둔 디폴트 값을 대신 가져오게 설정.\n",
        "#\n",
        "print(a.get(\"foo\", \"bar\")) #foo 라는 키값이 없을경우 bar를 출력하라는 것. \n",
        "# foo라는 키가 없기때문에 bar출력\n",
        "print(a.get(\"name\", \"bar\")) # name 이라는 키값은 존재하기떄문에 pey가 출력"
      ],
      "execution_count": 80,
      "outputs": [
        {
          "output_type": "stream",
          "text": [
            "pey\n",
            "0119993323\n",
            "bar\n",
            "pey\n"
          ],
          "name": "stdout"
        }
      ]
    },
    {
      "cell_type": "markdown",
      "metadata": {
        "id": "KijuyLgMz58l",
        "colab_type": "text"
      },
      "source": [
        ""
      ]
    },
    {
      "cell_type": "code",
      "metadata": {
        "id": "QgzW-rbq0QMH",
        "colab_type": "code",
        "colab": {}
      },
      "source": [
        ""
      ],
      "execution_count": 0,
      "outputs": []
    },
    {
      "cell_type": "markdown",
      "metadata": {
        "id": "2XJLy-dO0Qjt",
        "colab_type": "text"
      },
      "source": [
        "# ***해당 key가 딕셔너리 안에 있는지 조사하기(in)***"
      ]
    },
    {
      "cell_type": "code",
      "metadata": {
        "id": "UGFeNOpT0U71",
        "colab_type": "code",
        "colab": {
          "base_uri": "https://localhost:8080/",
          "height": 53
        },
        "outputId": "b784d945-1c51-478f-d5bc-78de8046714f"
      },
      "source": [
        "a = {\"name\": \"pey\", \"phone\": \"0119993323\", \"birth\": \"1118\"}\n",
        "print(\"name\" in a) #name이라는 키값이 a에 있기때문에 True\n",
        "print(\"foo\" in a) #foo라는 키는 a에 없기떄문에 false나옴"
      ],
      "execution_count": 83,
      "outputs": [
        {
          "output_type": "stream",
          "text": [
            "True\n",
            "False\n"
          ],
          "name": "stdout"
        }
      ]
    },
    {
      "cell_type": "markdown",
      "metadata": {
        "id": "jJsbILkv0j21",
        "colab_type": "text"
      },
      "source": [
        "# ***집합: 집합(set)이란?***"
      ]
    },
    {
      "cell_type": "code",
      "metadata": {
        "id": "LdKoYhG40ml2",
        "colab_type": "code",
        "colab": {
          "base_uri": "https://localhost:8080/",
          "height": 143
        },
        "outputId": "e62b2c2c-2b07-4081-d389-577a050e4267"
      },
      "source": [
        "# 집합에 관련된 것을 쉽게 처리하기 위해 만든 자료형\n",
        "# 중복된 값을 허용하지 않는다.\n",
        "#\n",
        "# set 키워드를 사용해서 집합자료형을 만든다.\n",
        "#\n",
        "s1 = set([1, 2, 3])\n",
        "print(s1) # {1,2,3} 출력\n",
        "s1n = set([1, 2, 3, 2])\n",
        "print(s1n) # 중복된 2의 값을 삭제하고 {1,2,3,} 출력\n",
        "s2 = set(\"Hello\")\n",
        "print(s2) #중복된 l의 값을 삭제하고 {'o', 'l', 'e', 'H'} 출력. \n",
        "# set은 인덱스가 없기떄문에 순서도 지멋대로다.\n",
        "#인덱스로 접근할수 없음.\n",
        "#print(s1[0]) 인덱스로 접근할수 없기떄문에 에러 발생.\n",
        "\n",
        "l1=list(s1)\n",
        "print(l1) #set을 list함수를 써서 리스트로 만들어줌\n",
        "print(l1[0]) # 자료형이 리스트이기 때문에 인덱스로 접근가능. [1, 2, 3] 출력\n",
        "\n",
        "t1=tuple(s1) #튜플로 만들어줌.\n",
        "print(t1)\n",
        "print(t1[0]) #튜플이기 떄문에 인덱스접근가능 (1, 2, 3) 출력"
      ],
      "execution_count": 92,
      "outputs": [
        {
          "output_type": "stream",
          "text": [
            "{1, 2, 3}\n",
            "{1, 2, 3}\n",
            "{'o', 'l', 'e', 'H'}\n",
            "[1, 2, 3]\n",
            "1\n",
            "(1, 2, 3)\n",
            "1\n"
          ],
          "name": "stdout"
        }
      ]
    },
    {
      "cell_type": "markdown",
      "metadata": {
        "id": "dJ4AFybv1lB-",
        "colab_type": "text"
      },
      "source": [
        "# ***교집합, 합집합, 차집합 구하기***"
      ]
    },
    {
      "cell_type": "code",
      "metadata": {
        "id": "iGyMfAnJ1pXf",
        "colab_type": "code",
        "colab": {
          "base_uri": "https://localhost:8080/",
          "height": 161
        },
        "outputId": "1684a309-1390-4d2f-8012-9fea004a4080"
      },
      "source": [
        "s1 = set([1, 2, 3, 4, 5, 6])\n",
        "s2 = set([4, 5, 6, 7, 8, 9])\n",
        "# \n",
        "# 1. 교집합 #중복된 값을 가지는 집합\n",
        "#\n",
        "print(s1 & s2) # {4, 5, 6}\n",
        "print(s1.intersection(s2)) # {4, 5, 6} \n",
        "# \n",
        "# 2. 합집합 # 모든요소를 합한 집합\n",
        "#\n",
        "print(s1 | s2) #{1, 2, 3, 4, 5, 6, 7, 8, 9}\n",
        "print(s1.union(s2)) # {1, 2, 3, 4, 5, 6, 7, 8, 9}\n",
        "# \n",
        "# 3. 차집합 #공통된 값을 뺀 집합.\n",
        "#\n",
        "print(s1 - s2) # {1, 2, 3}\n",
        "print(s2 - s1) # {8, 9, 7}\n",
        "print(s1.difference(s2)) # {1, 2, 3}\n",
        "print(s2.difference(s1)) # {8, 9, 7}"
      ],
      "execution_count": 95,
      "outputs": [
        {
          "output_type": "stream",
          "text": [
            "{4, 5, 6}\n",
            "{4, 5, 6}\n",
            "{1, 2, 3, 4, 5, 6, 7, 8, 9}\n",
            "{1, 2, 3, 4, 5, 6, 7, 8, 9}\n",
            "{1, 2, 3}\n",
            "{8, 9, 7}\n",
            "{1, 2, 3}\n",
            "{8, 9, 7}\n"
          ],
          "name": "stdout"
        }
      ]
    },
    {
      "cell_type": "markdown",
      "metadata": {
        "id": "1EvDQQ7z2NYG",
        "colab_type": "text"
      },
      "source": [
        "# ***집합 내장함수***"
      ]
    },
    {
      "cell_type": "code",
      "metadata": {
        "id": "sp0zzTm02PzO",
        "colab_type": "code",
        "colab": {
          "base_uri": "https://localhost:8080/",
          "height": 71
        },
        "outputId": "f2612de2-7cff-4f0a-f938-36a8f83b8209"
      },
      "source": [
        "#\n",
        "# 값 1개 추가하기(add)\n",
        "#\n",
        "s1 = set([1, 2, 3])\n",
        "s1.add(4) #[1,2,3] 의 맨 마지막에 4를 추가\n",
        "print(s1)\n",
        "#\n",
        "# 값 여러 개 추가하기(update)\n",
        "#\n",
        "s1 = set([1, 2, 3])\n",
        "s1.update([4,5,6]) # 맨 마지막에 [4,5,6]을 추가했기때문에 {1, 2, 3, 4, 5, 6} 출력됨.\n",
        "print(s1)\n",
        "#\n",
        "# 특정 값 제거하기(remove)\n",
        "#\n",
        "s1 = set([1, 2, 3])\n",
        "s1.remove(2) #2의값을 뺀다.\n",
        "print(s1) # 2의 값을 뻇기떄문에 {1, 3} 출력됨."
      ],
      "execution_count": 98,
      "outputs": [
        {
          "output_type": "stream",
          "text": [
            "{1, 2, 3, 4}\n",
            "{1, 2, 3, 4, 5, 6}\n",
            "{1, 3}\n"
          ],
          "name": "stdout"
        }
      ]
    },
    {
      "cell_type": "markdown",
      "metadata": {
        "id": "jCk0WVQt2qu2",
        "colab_type": "text"
      },
      "source": [
        "# ***불 자료형이란?***"
      ]
    },
    {
      "cell_type": "code",
      "metadata": {
        "id": "El9d8pMv2uQt",
        "colab_type": "code",
        "colab": {
          "base_uri": "https://localhost:8080/",
          "height": 107
        },
        "outputId": "2c550058-d9dd-45bc-dd32-26aaf82217f4"
      },
      "source": [
        "\n",
        "# 불(bool) 자료형이란 참(True)과 거짓(False)을 나타내는 자료형이다.\n",
        "# 불 자료형은 다음 2가지 값만을 가질 수 있다.\n",
        "# True - 참\n",
        "# False - 거짓\n",
        "# True나 False는 파이썬의 예약어로 true, false와 같이 사용하지 말고\n",
        "# 첫 문자를 항상 대문자로 사용해야 한다.\n",
        "#\n",
        "a = True\n",
        "b = False\n",
        "type(a), type(b) #True, false 의 값을 가지기떄문에 type이 bool형이다.\n",
        "#\n",
        "# 참과 거짓\n",
        "\n",
        "\n",
        "print(1 == 1) #True\n",
        "print(2 > 1) #True\n",
        "print(2 < 10) #True\n",
        "print(True + 1) #True 는 1의값을 가지기때문에 +1을해서 2를 출력\n",
        "print(False + 1) #false는 0의 값을 가지기때문에 +1을해서 1을 출력"
      ],
      "execution_count": 101,
      "outputs": [
        {
          "output_type": "stream",
          "text": [
            "True\n",
            "True\n",
            "True\n",
            "2\n",
            "1\n"
          ],
          "name": "stdout"
        }
      ]
    },
    {
      "cell_type": "markdown",
      "metadata": {
        "id": "CSbZLnR53QI2",
        "colab_type": "text"
      },
      "source": [
        "# ***자료형의 참과 거짓***"
      ]
    },
    {
      "cell_type": "code",
      "metadata": {
        "id": "T6E8tS7d3bBW",
        "colab_type": "code",
        "colab": {
          "base_uri": "https://localhost:8080/",
          "height": 197
        },
        "outputId": "c33eec58-14f6-4276-abb4-4a8c33328de6"
      },
      "source": [
        "# 자료형의 참과 거짓\n",
        "#\n",
        "print(bool(\"python\")) #문자열의 값이 들어가있기때문에 True\n",
        "print(bool(\"\")) #공백이기때문에 False\n",
        "print(bool([1, 2, 3])) #값이 들어가있기때문에 True\n",
        "print(bool([])) #값이 비어 있기때문에 False\n",
        "print(bool(())) #값이 비어 있기때문에 False\n",
        "print(bool({})) #값이 비어 있기때문에 False\n",
        "print(bool(1)) #값이 들어있기때문에 True\n",
        "print(bool(0)) #정수형에서 0은 값이 없는거이기 떄문에 False\n",
        "print(bool(None)) # none 없다는 뜻이기때문에 False\n",
        "\n",
        "############################\n",
        "#  Representation error\n",
        "## double precision representation of floating-point numbers\n",
        "############################\n",
        "1-0.9\n",
        "# 0.09999999999999998\n",
        "print(1-0.9==.1) #상식적으로 계산했을때는 맞지만  값이  0.09999999999999998 이렇게 나온다.\n",
        "#그러므로 false\n",
        "# False"
      ],
      "execution_count": 105,
      "outputs": [
        {
          "output_type": "stream",
          "text": [
            "True\n",
            "False\n",
            "True\n",
            "False\n",
            "False\n",
            "False\n",
            "True\n",
            "False\n",
            "False\n",
            "False\n"
          ],
          "name": "stdout"
        }
      ]
    },
    {
      "cell_type": "markdown",
      "metadata": {
        "id": "IB8ubzdT4Mf4",
        "colab_type": "text"
      },
      "source": [
        "# **decimal 함수사용하기**"
      ]
    },
    {
      "cell_type": "code",
      "metadata": {
        "id": "qIqb8JGE4P2W",
        "colab_type": "code",
        "colab": {
          "base_uri": "https://localhost:8080/",
          "height": 53
        },
        "outputId": "7ce67f22-dcaa-41e2-c66d-b496cdb47f92"
      },
      "source": [
        "import decimal #모듈을 불러옴\n",
        "x=decimal.Decimal(3.14)\n",
        "y=decimal.Decimal(2.74)\n",
        "x,y\n",
        "\n",
        "print(x*y) #8.603600000000001010036498883\n",
        "# Decimal('8.603600000000001010036498883')\n",
        "decimal.getcontext().prec=4\n",
        "x*y\n",
        "# Decimal('8.604')\n",
        "#"
      ],
      "execution_count": 106,
      "outputs": [
        {
          "output_type": "stream",
          "text": [
            "8.603600000000001010036498883\n"
          ],
          "name": "stdout"
        },
        {
          "output_type": "execute_result",
          "data": {
            "text/plain": [
              "Decimal('8.604')"
            ]
          },
          "metadata": {
            "tags": []
          },
          "execution_count": 106
        }
      ]
    },
    {
      "cell_type": "markdown",
      "metadata": {
        "id": "36m3nCzz4d6_",
        "colab_type": "text"
      },
      "source": [
        "# ***변수란?***"
      ]
    },
    {
      "cell_type": "code",
      "metadata": {
        "id": "QYPVl4Jd4hVP",
        "colab_type": "code",
        "colab": {
          "base_uri": "https://localhost:8080/",
          "height": 179
        },
        "outputId": "ff97a646-1b38-4ba9-d049-5cfe39cc7c78"
      },
      "source": [
        "#\n",
        "# 변수는 자료(값)을 저장하는 공간이다.\n",
        "#\n",
        "a = [1, 2, 3]\n",
        "print(id(a))  # a 변수가 가리키는 메모리의 주소 140077847401288 \n",
        "# list\n",
        "a = [1, 2, 3]\n",
        "b = a\n",
        "print(b) # a의 값과 같음.\n",
        "print(id(a), id(b))  # a의값을 복사했기때문에 주소값도 같음.\n",
        "print(a is b) # True\n",
        "a[1] = 4\n",
        "print(a, b) #b가 a의값을 복사한거기떄문에 a의값을바꾸면 b도 바껴진다.\n",
        "b = [1, 2, 3] #재정의\n",
        "print(id(b))\n",
        "print(a is b) # b의값을 바꾸면 a의값은 안바뀜. 따라서 주소도 바뀜. #false\n",
        "\n",
        "# 1. [:] 이용\n",
        "#\n",
        "a = [1, 2, 3]\n",
        "b = a[:]\n",
        "print(b)\n",
        "a[1] = 4 #a의1인덱스를 4로바꿔줌.\n",
        "print(a, b) #카피를한게아니라 인덱스로 b를만들었기때문에 a의값을 바꿔도 b는 안바뀜.\n",
        "\n",
        "\n",
        "a, b = (\"python\", \"life\")\n",
        "a\n",
        "b\n",
        "a, b\n",
        "\n",
        "[a, b] = [\"python\", \"life\"]\n",
        "a\n",
        "b\n",
        "\n",
        "a = 3\n",
        "b = 5\n",
        "a, b = b, a\n",
        "a\n",
        "b"
      ],
      "execution_count": 114,
      "outputs": [
        {
          "output_type": "stream",
          "text": [
            "140077847110728\n",
            "[1, 2, 3]\n",
            "140077847329992 140077847329992\n",
            "True\n",
            "[1, 4, 3] [1, 4, 3]\n",
            "140077847402120\n",
            "False\n",
            "[1, 2, 3]\n",
            "[1, 4, 3] [1, 2, 3]\n"
          ],
          "name": "stdout"
        }
      ]
    }
  ]
}